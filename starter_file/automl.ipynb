{
 "cells": [
  {
   "cell_type": "markdown",
   "metadata": {},
   "source": [
    "# Automated ML"
   ]
  },
  {
   "cell_type": "code",
   "execution_count": 3,
   "metadata": {
    "collapsed": false,
    "gather": {
     "logged": 1688383246909
    },
    "jupyter": {
     "outputs_hidden": false,
     "source_hidden": false
    },
    "nteract": {
     "transient": {
      "deleting": false
     }
    }
   },
   "outputs": [],
   "source": [
    "import joblib\n",
    "\n",
    "from azureml.core import Dataset, Workspace, Experiment\n",
    "from azureml.core.compute import ComputeTarget, AmlCompute\n",
    "from azureml.core.model import InferenceConfig\n",
    "from azureml.core.compute_target import ComputeTargetException\n",
    "from azureml.core.webservice import AciWebservice, Webservice\n",
    "from azureml.core import Environment\n",
    "from azureml.train.automl import AutoMLConfig\n",
    "from azureml.core.model import Model\n",
    "from azureml.widgets import RunDetails"
   ]
  },
  {
   "cell_type": "code",
   "execution_count": 4,
   "metadata": {
    "collapsed": false,
    "jupyter": {
     "outputs_hidden": false,
     "source_hidden": false
    },
    "nteract": {
     "transient": {
      "deleting": false
     }
    }
   },
   "outputs": [],
   "source": [
    "ws = Workspace.from_config()\n",
    "\n",
    "# choose a name for experiment\n",
    "experiment_name = 'heart-failure-autml'\n",
    "\n",
    "exp = Experiment(ws, experiment_name)"
   ]
  },
  {
   "cell_type": "code",
   "execution_count": 5,
   "metadata": {
    "collapsed": false,
    "gather": {
     "logged": 1688383256216
    },
    "jupyter": {
     "outputs_hidden": false,
     "source_hidden": false
    },
    "nteract": {
     "transient": {
      "deleting": false
     }
    }
   },
   "outputs": [
    {
     "name": "stdout",
     "output_type": "stream",
     "text": [
      "Found existing cluster, use it.\n",
      "Succeeded\n",
      "AmlCompute wait for completion finished\n",
      "\n",
      "Minimum number of nodes requested have been provisioned\n"
     ]
    }
   ],
   "source": [
    "cluster_name = \"heart-failure-compute\"\n",
    "\n",
    "# Verfiy that cluster does not exist already\n",
    "try:\n",
    "    cluster = ComputeTarget(workspace=ws, name=cluster_name)\n",
    "    print(\"Found existing cluster, use it.\")\n",
    "except ComputeTargetException:\n",
    "    compute_config = AmlCompute.provisioning_configuration(vm_size=\"STANDARD_D2_V2\", max_nodes=4)\n",
    "    cluster = ComputeTarget.create(ws, cluster_name, compute_config)\n",
    "\n",
    "cluster.wait_for_completion(show_output=True)"
   ]
  },
  {
   "cell_type": "markdown",
   "metadata": {},
   "source": [
    "## Dataset \r\n",
    "### Overview\r\n",
    "\r\n",
    "This data set dates from 1988 and consists of four databases: Cleveland, Hungary, Switzerland, and Long Beach V. It contains 76 attributes, including the predicted attribute, but all published experiments refer to using a subset of 14 of them. The \"DEATH EVENT\" field refers to the presence of heart disease in the patient. It is integer valued 0 = no disease and 1 = disease\r\n",
    "\r\n",
    "\r\n",
    "Before we can use Azure AutoML to predict heart failures, we have to upload the dataset to the datastore and subsequently register it:"
   ]
  },
  {
   "cell_type": "code",
   "execution_count": 10,
   "metadata": {
    "collapsed": false,
    "gather": {
     "logged": 1688382875097
    },
    "jupyter": {
     "outputs_hidden": false,
     "source_hidden": false
    },
    "nteract": {
     "transient": {
      "deleting": false
     }
    }
   },
   "outputs": [],
   "source": [
    "found = False\n",
    "key = \"Heart-Failure-Dataset\"\n",
    "\n",
    "if key in ws.datasets.keys(): \n",
    "        found = True\n",
    "        dataset = ws.datasets[key] \n",
    "\n",
    "if not found:\n",
    "\n",
    "        datastore = ws.get_default_datastore()\n",
    "\n",
    "        datastore.upload_files(files=[\"./heart_failure_clinical_records_dataset.csv\"],\n",
    "                                overwrite=True)\n",
    "\n",
    "        # Create AML Dataset and register it into Workspace\n",
    "        example_data = \"heart_failure_clinical_records_dataset.csv\"\n",
    "        dataset = Dataset.Tabular.from_delimited_files(path=(datastore, \"heart_failure_clinical_records_dataset.csv\"))       \n",
    "        #Register Dataset in Workspace\n",
    "        dataset = dataset.register(workspace=ws,\n",
    "                                   name=key)\n",
    "\n",
    "df = dataset.to_pandas_dataframe()"
   ]
  },
  {
   "cell_type": "markdown",
   "metadata": {},
   "source": [
    "## AutoML Configuration\n",
    "\n",
    "The following AutoML Config is used to get the best model:\n",
    "- compute_target: This parameter specifies the target compute resource where the AutoML experiment will be executed. The cluster already is running is used.\n",
    "- experiment_timeout_minutes: This parameter sets the maximum amount of time, in minutes, that the AutoML experiment is allowed to run. The experiment should be completed within 30 minutes.\n",
    "- task: A classification task is specified since the model will be trained to predict a categorical variable.\n",
    "- primary_metric: This parameter determines the evaluation metric that AutoML will use to optimize and compare the performance of different models. Accuracy is a good fit for a classification task.\n",
    "- training_data: The Dataset will all relevant data including the target variable.\n",
    "- label_column_name: Column name of the target variable.\n",
    "- n_cross_validations: Since cross validations help to assess the model's generalization performance by splitting the training data into multiple subsets for training and validation, 5-fold cross validation is used."
   ]
  },
  {
   "cell_type": "code",
   "execution_count": 11,
   "metadata": {
    "collapsed": false,
    "gather": {
     "logged": 1598429217746
    },
    "jupyter": {
     "outputs_hidden": false,
     "source_hidden": false
    },
    "nteract": {
     "transient": {
      "deleting": false
     }
    }
   },
   "outputs": [],
   "source": [
    "automl_settings = {\n",
    "    \"experiment_timeout_minutes\": 20,\n",
    "    \"max_concurrent_iterations\": 3,\n",
    "    \"primary_metric\": \"accuracy\"\n",
    "}\n",
    "# Set parameters for AutoMLConfig\n",
    "automl_config = AutoMLConfig(\n",
    "    compute_target=cluster,\n",
    "    task=\"classification\",\n",
    "    training_data=dataset,\n",
    "    label_column_name=\"DEATH_EVENT\",\n",
    "    enable_early_stopping=True,\n",
    "    featurization='auto',\n",
    "    **automl_settings\n",
    ")"
   ]
  },
  {
   "cell_type": "code",
   "execution_count": 12,
   "metadata": {
    "collapsed": false,
    "gather": {
     "logged": 1598431107951
    },
    "jupyter": {
     "outputs_hidden": false,
     "source_hidden": false
    },
    "nteract": {
     "transient": {
      "deleting": false
     }
    },
    "scrolled": true
   },
   "outputs": [
    {
     "name": "stdout",
     "output_type": "stream",
     "text": [
      "Submitting remote run.\n",
      "No run_configuration provided, running on heart-failure-compute with default configuration\n",
      "Running on remote compute: heart-failure-compute\n"
     ]
    },
    {
     "data": {
      "text/html": [
       "<table style=\"width:100%\"><tr><th>Experiment</th><th>Id</th><th>Type</th><th>Status</th><th>Details Page</th><th>Docs Page</th></tr><tr><td>heart-failure-autml</td><td>AutoML_6b718489-5b88-4846-b544-883018174de8</td><td>automl</td><td>NotStarted</td><td><a href=\"https://ml.azure.com/runs/AutoML_6b718489-5b88-4846-b544-883018174de8?wsid=/subscriptions/976ee174-3882-4721-b90a-b5fef6b72f24/resourcegroups/aml-quickstarts-238676/workspaces/quick-starts-ws-238676&amp;tid=660b3398-b80e-49d2-bc5b-ac1dc93b5254\" target=\"_blank\" rel=\"noopener\">Link to Azure Machine Learning studio</a></td><td><a href=\"https://docs.microsoft.com/en-us/python/api/overview/azure/ml/intro?view=azure-ml-py\" target=\"_blank\" rel=\"noopener\">Link to Documentation</a></td></tr></table>"
      ],
      "text/plain": [
       "<IPython.core.display.HTML object>"
      ]
     },
     "metadata": {},
     "output_type": "display_data"
    },
    {
     "name": "stdout",
     "output_type": "stream",
     "text": [
      "\n",
      "Current status: FeaturesGeneration. Generating features for the dataset.\n",
      "Current status: DatasetCrossValidationSplit. Generating individually featurized CV splits.\n",
      "Current status: ModelSelection. Beginning model selection.\n",
      "\n",
      "********************************************************************************************\n",
      "DATA GUARDRAILS: \n",
      "\n",
      "TYPE:         Cross validation\n",
      "STATUS:       DONE\n",
      "DESCRIPTION:  In order to accurately evaluate the model(s) trained by AutoML, we leverage a dataset that the model is not trained on. Hence, if the user doesn't provide an explicit validation dataset, a part of the training dataset is used to achieve this. For smaller datasets (fewer than 20,000 samples), cross-validation is leveraged, else a single hold-out set is split from the training data to serve as the validation dataset. Hence, for your input data we leverage cross-validation with 10 folds, if the number of training samples are fewer than 1000, and 3 folds in all other cases.\n",
      "              Learn more about cross validation: https://aka.ms/AutomatedMLCrossValidation\n",
      "DETAILS:      \n",
      "+------------------------------+\n",
      "|Number of folds               |\n",
      "+==============================+\n",
      "|10                            |\n",
      "+------------------------------+\n",
      "\n",
      "********************************************************************************************\n",
      "\n",
      "TYPE:         Class balancing detection\n",
      "STATUS:       PASSED\n",
      "DESCRIPTION:  Your inputs were analyzed, and all classes are balanced in your training data.\n",
      "              Learn more about imbalanced data: https://aka.ms/AutomatedMLImbalancedData\n",
      "\n",
      "********************************************************************************************\n",
      "\n",
      "TYPE:         Missing feature values imputation\n",
      "STATUS:       PASSED\n",
      "DESCRIPTION:  No feature missing values were detected in the training data.\n",
      "              Learn more about missing value imputation: https://aka.ms/AutomatedMLFeaturization\n",
      "\n",
      "********************************************************************************************\n",
      "\n",
      "TYPE:         High cardinality feature detection\n",
      "STATUS:       PASSED\n",
      "DESCRIPTION:  Your inputs were analyzed, and no high cardinality features were detected.\n",
      "              Learn more about high cardinality feature handling: https://aka.ms/AutomatedMLFeaturization\n",
      "\n",
      "********************************************************************************************\n",
      "\n",
      "********************************************************************************************\n",
      "ITER: The iteration being evaluated.\n",
      "PIPELINE: A summary description of the pipeline being evaluated.\n",
      "DURATION: Time taken for the current iteration.\n",
      "METRIC: The result of computing score on the fitted pipeline.\n",
      "BEST: The best observed score thus far.\n",
      "********************************************************************************************\n",
      "\n",
      " ITER   PIPELINE                                       DURATION            METRIC      BEST\n",
      "    0   MaxAbsScaler LightGBM                          0:00:15             0.8526    0.8526\n",
      "    1   MaxAbsScaler XGBoostClassifier                 0:00:12             0.8126    0.8526\n",
      "    2   MaxAbsScaler ExtremeRandomTrees                0:00:14             0.8257    0.8526\n",
      "    3   SparseNormalizer XGBoostClassifier             0:00:12             0.8093    0.8526\n",
      "    4   StandardScalerWrapper KNN                      0:00:13             0.6222    0.8526\n",
      "    5   MaxAbsScaler LightGBM                          0:00:12             0.8360    0.8526\n",
      "    7   MaxAbsScaler LightGBM                          0:00:16             0.8126    0.8526\n",
      "    6   RobustScaler LogisticRegression                0:00:12             0.7925    0.8526\n",
      "    8   StandardScalerWrapper KNN                      0:00:13             0.6121    0.8526\n",
      "    9   StandardScalerWrapper SVM                      0:00:14             0.7525    0.8526\n",
      "   10   StandardScalerWrapper XGBoostClassifier        0:00:15             0.8260    0.8526\n",
      "   11   MinMaxScaler RandomForest                      0:00:19             0.8291    0.8526\n",
      "   12   StandardScalerWrapper LogisticRegression       0:00:14             0.7420    0.8526\n",
      "   13   StandardScalerWrapper KNN                      0:00:14             0.7126    0.8526\n",
      "   14   RobustScaler KNN                               0:00:15             0.7159    0.8526\n",
      "   15   MinMaxScaler KNN                               0:00:13             0.7126    0.8526\n",
      "   16   SparseNormalizer KNN                           0:00:13             0.7659    0.8526\n",
      "   17   MaxAbsScaler LogisticRegression                0:00:13             0.8160    0.8526\n",
      "   18   StandardScalerWrapper XGBoostClassifier        0:00:13             0.8594    0.8594\n",
      "   19   StandardScalerWrapper XGBoostClassifier        0:00:13             0.8360    0.8594\n",
      "   20   MaxAbsScaler LogisticRegression                0:00:33             0.8192    0.8594\n",
      "   21   StandardScalerWrapper XGBoostClassifier        0:01:53             0.8526    0.8594\n",
      "   22   SparseNormalizer RandomForest                  0:01:44             0.8329    0.8594\n",
      "   23   StandardScalerWrapper RandomForest             0:01:49             0.8262    0.8594\n",
      "   25   TruncatedSVDWrapper XGBoostClassifier          0:00:33             0.6792    0.8594\n",
      "   26   RobustScaler RandomForest                      0:00:32             0.8325    0.8594\n",
      "   24   SparseNormalizer XGBoostClassifier             0:01:47             0.8329    0.8594\n",
      "   27   StandardScalerWrapper XGBoostClassifier        0:00:32             0.8028    0.8594\n",
      "   28   SparseNormalizer XGBoostClassifier             0:00:33             0.8530    0.8594\n",
      "   30   StandardScalerWrapper XGBoostClassifier        0:00:33             0.8326    0.8594\n",
      "   31   StandardScalerWrapper RandomForest             0:00:33             0.8525    0.8594\n",
      "   32   SparseNormalizer XGBoostClassifier             0:00:32             0.8129    0.8594\n",
      "   29   StandardScalerWrapper XGBoostClassifier        0:01:46                nan    0.8594\n",
      "   33   MaxAbsScaler RandomForest                      0:00:29             0.8495    0.8594\n",
      "   34    VotingEnsemble                                0:01:05             0.8964    0.8964\n",
      "   35    StackEnsemble                                 0:01:13             0.8594    0.8964\n"
     ]
    }
   ],
   "source": [
    "# Submit automl run\n",
    "remote_run = exp.submit(automl_config, show_output=True)"
   ]
  },
  {
   "cell_type": "markdown",
   "metadata": {},
   "source": [
    "## Run Details"
   ]
  },
  {
   "cell_type": "code",
   "execution_count": 13,
   "metadata": {
    "collapsed": false,
    "gather": {
     "logged": 1598431121770
    },
    "jupyter": {
     "outputs_hidden": false,
     "source_hidden": false
    },
    "nteract": {
     "transient": {
      "deleting": false
     }
    }
   },
   "outputs": [
    {
     "data": {
      "application/vnd.jupyter.widget-view+json": {
       "model_id": "8cb0d79d986d44e5a73445ed58cd54d7",
       "version_major": 2,
       "version_minor": 0
      },
      "text/plain": [
       "_AutoMLWidget(widget_settings={'childWidgetDisplay': 'popup', 'send_telemetry': False, 'log_level': 'INFO', 's…"
      ]
     },
     "metadata": {},
     "output_type": "display_data"
    },
    {
     "data": {
      "application/aml.mini.widget.v1": "{\"status\": \"Completed\", \"workbench_run_details_uri\": \"https://ml.azure.com/runs/AutoML_6b718489-5b88-4846-b544-883018174de8?wsid=/subscriptions/976ee174-3882-4721-b90a-b5fef6b72f24/resourcegroups/aml-quickstarts-238676/workspaces/quick-starts-ws-238676&tid=660b3398-b80e-49d2-bc5b-ac1dc93b5254\", \"run_id\": \"AutoML_6b718489-5b88-4846-b544-883018174de8\", \"run_properties\": {\"run_id\": \"AutoML_6b718489-5b88-4846-b544-883018174de8\", \"created_utc\": \"2023-07-14T08:44:06.268361Z\", \"properties\": {\"num_iterations\": \"1000\", \"training_type\": \"TrainFull\", \"acquisition_function\": \"EI\", \"primary_metric\": \"accuracy\", \"train_split\": \"0\", \"acquisition_parameter\": \"0\", \"num_cross_validation\": null, \"target\": \"heart-failure-compute\", \"AMLSettingsJsonString\": \"{\\\"path\\\":null,\\\"name\\\":\\\"heart-failure-autml\\\",\\\"subscription_id\\\":\\\"976ee174-3882-4721-b90a-b5fef6b72f24\\\",\\\"resource_group\\\":\\\"aml-quickstarts-238676\\\",\\\"workspace_name\\\":\\\"quick-starts-ws-238676\\\",\\\"region\\\":\\\"westeurope\\\",\\\"compute_target\\\":\\\"heart-failure-compute\\\",\\\"spark_service\\\":null,\\\"azure_service\\\":\\\"remote\\\",\\\"many_models\\\":false,\\\"pipeline_fetch_max_batch_size\\\":1,\\\"enable_batch_run\\\":true,\\\"enable_parallel_run\\\":false,\\\"num_procs\\\":null,\\\"enable_run_restructure\\\":false,\\\"start_auxiliary_runs_before_parent_complete\\\":false,\\\"enable_code_generation\\\":true,\\\"iterations\\\":1000,\\\"primary_metric\\\":\\\"accuracy\\\",\\\"task_type\\\":\\\"classification\\\",\\\"positive_label\\\":null,\\\"data_script\\\":null,\\\"test_size\\\":0.0,\\\"test_include_predictions_only\\\":false,\\\"validation_size\\\":0.0,\\\"n_cross_validations\\\":null,\\\"y_min\\\":null,\\\"y_max\\\":null,\\\"num_classes\\\":null,\\\"featurization\\\":\\\"auto\\\",\\\"_ignore_package_version_incompatibilities\\\":false,\\\"is_timeseries\\\":false,\\\"max_cores_per_iteration\\\":1,\\\"max_concurrent_iterations\\\":3,\\\"iteration_timeout_minutes\\\":null,\\\"mem_in_mb\\\":null,\\\"enforce_time_on_windows\\\":false,\\\"experiment_timeout_minutes\\\":20,\\\"experiment_exit_score\\\":null,\\\"partition_column_names\\\":null,\\\"whitelist_models\\\":null,\\\"blacklist_algos\\\":[\\\"TensorFlowLinearClassifier\\\",\\\"TensorFlowDNN\\\"],\\\"supported_models\\\":[\\\"SGD\\\",\\\"DecisionTree\\\",\\\"ExtremeRandomTrees\\\",\\\"MultinomialNaiveBayes\\\",\\\"LightGBM\\\",\\\"XGBoostClassifier\\\",\\\"RandomForest\\\",\\\"TensorFlowDNN\\\",\\\"LinearSVM\\\",\\\"KNN\\\",\\\"BernoulliNaiveBayes\\\",\\\"AveragedPerceptronClassifier\\\",\\\"TabnetClassifier\\\",\\\"SVM\\\",\\\"LogisticRegression\\\",\\\"TensorFlowLinearClassifier\\\",\\\"GradientBoosting\\\"],\\\"private_models\\\":[],\\\"auto_blacklist\\\":true,\\\"blacklist_samples_reached\\\":false,\\\"exclude_nan_labels\\\":true,\\\"verbosity\\\":20,\\\"_debug_log\\\":\\\"azureml_automl.log\\\",\\\"show_warnings\\\":false,\\\"model_explainability\\\":true,\\\"service_url\\\":null,\\\"sdk_url\\\":null,\\\"sdk_packages\\\":null,\\\"enable_onnx_compatible_models\\\":false,\\\"enable_split_onnx_featurizer_estimator_models\\\":false,\\\"vm_type\\\":\\\"STANDARD_D2_V2\\\",\\\"telemetry_verbosity\\\":20,\\\"send_telemetry\\\":true,\\\"enable_dnn\\\":false,\\\"scenario\\\":\\\"AutoML\\\",\\\"environment_label\\\":null,\\\"save_mlflow\\\":false,\\\"enable_categorical_indicators\\\":false,\\\"force_text_dnn\\\":false,\\\"enable_feature_sweeping\\\":true,\\\"enable_early_stopping\\\":true,\\\"early_stopping_n_iters\\\":10,\\\"arguments\\\":null,\\\"dataset_id\\\":\\\"6b0b677e-8899-49e6-bb85-c5e1c503e0d5\\\",\\\"hyperdrive_config\\\":null,\\\"validation_dataset_id\\\":null,\\\"run_source\\\":null,\\\"metrics\\\":null,\\\"enable_metric_confidence\\\":false,\\\"enable_ensembling\\\":true,\\\"enable_stack_ensembling\\\":true,\\\"ensemble_iterations\\\":15,\\\"enable_tf\\\":false,\\\"enable_subsampling\\\":null,\\\"subsample_seed\\\":null,\\\"enable_nimbusml\\\":false,\\\"enable_streaming\\\":false,\\\"force_streaming\\\":false,\\\"track_child_runs\\\":true,\\\"n_best_runs\\\":1,\\\"allowed_private_models\\\":[],\\\"label_column_name\\\":\\\"DEATH_EVENT\\\",\\\"weight_column_name\\\":null,\\\"cv_split_column_names\\\":null,\\\"enable_local_managed\\\":false,\\\"_local_managed_run_id\\\":null,\\\"cost_mode\\\":1,\\\"lag_length\\\":0,\\\"metric_operation\\\":\\\"maximize\\\",\\\"preprocess\\\":true}\", \"DataPrepJsonString\": \"{\\\\\\\"training_data\\\\\\\": {\\\\\\\"datasetId\\\\\\\": \\\\\\\"6b0b677e-8899-49e6-bb85-c5e1c503e0d5\\\\\\\"}, \\\\\\\"datasets\\\\\\\": 0}\", \"EnableSubsampling\": null, \"runTemplate\": \"AutoML\", \"azureml.runsource\": \"automl\", \"display_task_type\": \"classification\", \"dependencies_versions\": \"{\\\"azureml-widgets\\\": \\\"1.49.0\\\", \\\"azureml-training-tabular\\\": \\\"1.49.0\\\", \\\"azureml-train\\\": \\\"1.49.0\\\", \\\"azureml-train-restclients-hyperdrive\\\": \\\"1.49.0\\\", \\\"azureml-train-core\\\": \\\"1.49.0\\\", \\\"azureml-train-automl\\\": \\\"1.49.0\\\", \\\"azureml-train-automl-runtime\\\": \\\"1.49.0\\\", \\\"azureml-train-automl-client\\\": \\\"1.49.0\\\", \\\"azureml-tensorboard\\\": \\\"1.49.0\\\", \\\"azureml-telemetry\\\": \\\"1.49.0\\\", \\\"azureml-sdk\\\": \\\"1.49.0\\\", \\\"azureml-responsibleai\\\": \\\"1.49.0\\\", \\\"azureml-pipeline\\\": \\\"1.49.0\\\", \\\"azureml-pipeline-steps\\\": \\\"1.49.0\\\", \\\"azureml-pipeline-core\\\": \\\"1.49.0\\\", \\\"azureml-opendatasets\\\": \\\"1.49.0\\\", \\\"azureml-mlflow\\\": \\\"1.49.0\\\", \\\"azureml-interpret\\\": \\\"1.49.0\\\", \\\"azureml-inference-server-http\\\": \\\"0.8.0\\\", \\\"azureml-explain-model\\\": \\\"1.49.0\\\", \\\"azureml-defaults\\\": \\\"1.49.0\\\", \\\"azureml-dataset-runtime\\\": \\\"1.49.0\\\", \\\"azureml-dataprep\\\": \\\"4.9.1\\\", \\\"azureml-dataprep-rslex\\\": \\\"2.16.1\\\", \\\"azureml-dataprep-native\\\": \\\"38.0.0\\\", \\\"azureml-datadrift\\\": \\\"1.49.0\\\", \\\"azureml-core\\\": \\\"1.49.0\\\", \\\"azureml-contrib-services\\\": \\\"1.49.0\\\", \\\"azureml-contrib-server\\\": \\\"1.49.0\\\", \\\"azureml-contrib-reinforcementlearning\\\": \\\"1.49.0\\\", \\\"azureml-contrib-pipeline-steps\\\": \\\"1.49.0\\\", \\\"azureml-contrib-notebook\\\": \\\"1.49.0\\\", \\\"azureml-contrib-fairness\\\": \\\"1.49.0\\\", \\\"azureml-contrib-dataset\\\": \\\"1.49.0\\\", \\\"azureml-contrib-automl-pipeline-steps\\\": \\\"1.49.0\\\", \\\"azureml-cli-common\\\": \\\"1.49.0\\\", \\\"azureml-automl-runtime\\\": \\\"1.49.0\\\", \\\"azureml-automl-dnn-nlp\\\": \\\"1.49.0\\\", \\\"azureml-automl-core\\\": \\\"1.49.0\\\", \\\"azureml-accel-models\\\": \\\"1.49.0\\\"}\", \"_aml_system_scenario_identification\": \"Remote.Parent\", \"ClientType\": \"SDK\", \"PlatformVersion\": \"DPV1\", \"environment_cpu_name\": \"AzureML-AutoML\", \"environment_cpu_label\": \"prod\", \"environment_gpu_name\": \"AzureML-AutoML-GPU\", \"environment_gpu_label\": \"prod\", \"root_attribution\": \"automl\", \"attribution\": \"AutoML\", \"Orchestrator\": \"AutoML\", \"CancelUri\": \"https://westeurope.api.azureml.ms/jasmine/v1.0/subscriptions/976ee174-3882-4721-b90a-b5fef6b72f24/resourceGroups/aml-quickstarts-238676/providers/Microsoft.MachineLearningServices/workspaces/quick-starts-ws-238676/experimentids/4e01edbc-0d1a-48db-b47c-60c877baeca4/cancel/AutoML_6b718489-5b88-4846-b544-883018174de8\", \"ClientSdkVersion\": null, \"snapshotId\": \"00000000-0000-0000-0000-000000000000\", \"SetupRunId\": \"AutoML_6b718489-5b88-4846-b544-883018174de8_setup\", \"SetupRunContainerId\": \"dcid.AutoML_6b718489-5b88-4846-b544-883018174de8_setup\", \"FeaturizationRunJsonPath\": \"featurizer_container.json\", \"FeaturizationRunId\": \"AutoML_6b718489-5b88-4846-b544-883018174de8_featurize\", \"ProblemInfoJsonString\": \"{\\\"dataset_num_categorical\\\": 0, \\\"is_sparse\\\": false, \\\"subsampling\\\": false, \\\"has_extra_col\\\": true, \\\"dataset_classes\\\": 2, \\\"dataset_features\\\": 12, \\\"dataset_samples\\\": 299, \\\"single_frequency_class_detected\\\": false}\", \"ModelExplainRunId\": \"AutoML_6b718489-5b88-4846-b544-883018174de8_ModelExplain\"}, \"tags\": {\"model_explain_run\": \"best_run\", \"_aml_system_automl_run_workspace_id\": \"242fabc0-56eb-4174-b23e-1905cc14a5bd\", \"_aml_system_azureml.automlComponent\": \"AutoML\", \"pipeline_id_000\": \"5304e705d6f401cb07f85bcf0ca59ac1f84dfcf5;5f21d4801ee2a6073890b89985177d37ef49c646;081b692de9e87424d86c2c1d0787b65e098fc386;294650ec23bc3d067a4972de7ceb12f6e97260fa;08e13545f5f7e2df5ef6a66d4110cfd996b1a0e3;5dfac790c5c209f98a1da2dc1c7fb76f0397324f;22bffc6cdfb453aa19b0792ec8a8b592bd44dc5b;c7af0367625be6ac5c2fecbfc72ed444cb7a2111;ce96746d6f86360fe360023f5ae43340d1986145;bc4e14e9481990f09b66c70640f3b1c528f584ac;799d2168db11fc19b9e1c6c1df62f8981ad39fe9;7b422e7b3f86902c2409d5b5d9ff0c84d5dacfee;44b5d2d23120dfcf96a7dc6389a293d17a966b1b;ca211529127bb19e1fc933b24b457a03beb5e48e;628c2351f7c75d74ad3673f2d39af16d6976da2e;3caa818370e5e0c328d6266c359019bd31681270;3735210984ea10097d5c91905cf6300ac278cd89;589334a57221e0720a95cf217c065115a7b841d1;2964988f7520e6167bfe42ba2c42ab4a75f8a68c;35b8e2db3c5f6e714072e1be9f0210fe48426975;da45f657e4591caadf1589a85a1f7b8932585595;3fd2e115482e0c7b92aa3297688aefb6c3aa6fb8;1dfdf370ba770047b14bfa59c40920815defcdab;17f87d449bb43aaf3cdae4b7eb6dd6e7fbdaf343;809d104499205a4f6a3cd2fe690fd2411e09d318;83c8974d3c3077eb039f99670786892c05e08d80;664e966ce723fe972f3a23a912154a68b05d3f1e;5514b33779751d8de84d44049fd977b392dfd7b2;cbbef77cccbd4de8c0d832bcf23c4b1c3448cfe8;20f50b65572e940f1a5e415baebbf981a076becc;ffe2dee36b1a25bbc4b512b7611e4d0a9127d962;a1a8a8d721a4a21920496cad156c2cb8a18be08a;18a16a61c45af9411bccf4f3f810341d272d0f8f;9ae570c73d438d6be51957bfdf913b72e37df460;__AutoML_Ensemble__;__AutoML_Stack_Ensemble__\", \"score_000\": \"0.8126436781609195;0.6120689655172413;0.7525287356321839;0.825977011494253;0.8290804597701149;0.8526436781609196;0.7419540229885058;0.8126436781609195;0.7158620689655172;0.7126436781609196;0.8257471264367815;0.7126436781609196;0.8093103448275862;0.7658620689655172;0.622183908045977;0.8159770114942528;0.8359770114942527;0.859425287356322;0.792528735632184;0.835977011494253;0.8191954022988505;0.8526436781609196;0.8328735632183909;0.8262068965517242;0.6791954022988507;0.8325287356321839;0.8328735632183909;0.8027586206896553;0.8529885057471264;0.8326436781609197;0.852528735632184;0.8128735632183908;0.8495402298850575;NaN;0.8964367816091954;0.859425287356322\", \"predicted_cost_000\": \"0.5;0.5;0.5;0.5;0.5;0;0.5;0;0.5;0.5;0.5;0.5;0.5;0.5;0.5;0.5;0.5;0.5;0.5;0.5;0.10941108253441795;0.011444637334666451;0.16691845250948625;0.02731244649961469;0.045596851376815385;0.015789541298586233;0.11628805149683918;0.0346233819720855;0.12584440013229958;0.11751345032268289;0.04825414727681505;0.03181133340410237;0.09124031021388791;0.08842376781424184;0;0\", \"fit_time_000\": \"0.0155197;0.007159400000000001;0.0258036;0.0150758;0.4101564;0.029827;0.0658965;0.0573893;0.007657399999999999;0.0107983;0.1835037;0.004329500000000001;0.016811399999999997;0.0036119;0.004170699999999999;0.029371699999999994;0.018364699999999994;0.0135382;0.012114900000000001;0.018976;0.028368699999999997;0.0192964;0.21102530000000003;0.0782369;0.0117745;0.040081200000000004;0.057430300000000004;0.011629500000000001;0.06726449999999999;0.0653412;0.05990909999999999;0.020621100000000003;0.4206974;NaN;25;34\", \"training_percent_000\": \"100;100;100;100;100;100;100;100;100;100;100;100;100;100;100;100;100;100;100;100;100;100;100;100;100;100;100;100;100;100;100;100;100;100;100;100\", \"iteration_000\": \"7;8;9;10;11;0;12;1;14;13;2;15;3;16;4;17;5;18;6;19;20;21;22;23;25;26;24;27;28;30;31;32;33;29;34;35\", \"run_preprocessor_000\": \"MaxAbsScaler;StandardScalerWrapper;StandardScalerWrapper;StandardScalerWrapper;MinMaxScaler;MaxAbsScaler;StandardScalerWrapper;MaxAbsScaler;RobustScaler;StandardScalerWrapper;MaxAbsScaler;MinMaxScaler;SparseNormalizer;SparseNormalizer;StandardScalerWrapper;MaxAbsScaler;MaxAbsScaler;StandardScalerWrapper;RobustScaler;StandardScalerWrapper;MaxAbsScaler;StandardScalerWrapper;SparseNormalizer;StandardScalerWrapper;TruncatedSVDWrapper;RobustScaler;SparseNormalizer;StandardScalerWrapper;SparseNormalizer;StandardScalerWrapper;StandardScalerWrapper;SparseNormalizer;MaxAbsScaler;StandardScalerWrapper;;\", \"run_algorithm_000\": \"LightGBM;KNN;SVM;XGBoostClassifier;RandomForest;LightGBM;LogisticRegression;XGBoostClassifier;KNN;KNN;ExtremeRandomTrees;KNN;XGBoostClassifier;KNN;KNN;LogisticRegression;LightGBM;XGBoostClassifier;LogisticRegression;XGBoostClassifier;LogisticRegression;XGBoostClassifier;RandomForest;RandomForest;XGBoostClassifier;RandomForest;XGBoostClassifier;XGBoostClassifier;XGBoostClassifier;XGBoostClassifier;RandomForest;XGBoostClassifier;RandomForest;XGBoostClassifier;VotingEnsemble;StackEnsemble\", \"dynamic_allowlisting_iterations\": \"<25>;<30>;\", \"_aml_system_azureml.automl_early_exit_message\": \"No scores improved over last 10 iterations, so experiment stopped early. This early stopping behavior can be disabled by setting enable_early_stopping = False in AutoMLConfig for notebook/python SDK runs.\", \"automl_best_child_run_id\": \"AutoML_6b718489-5b88-4846-b544-883018174de8_34\", \"model_explain_best_run_child_id\": \"AutoML_6b718489-5b88-4846-b544-883018174de8_34\"}, \"end_time_utc\": \"2023-07-14T08:59:44.747852Z\", \"status\": \"Completed\", \"log_files\": {}, \"log_groups\": [], \"run_duration\": \"0:15:38\", \"run_number\": \"1689324246\", \"run_queued_details\": {\"status\": \"Completed\", \"details\": null}}, \"child_runs\": [{\"run_id\": \"AutoML_6b718489-5b88-4846-b544-883018174de8_setup\", \"run_number\": 1689324259, \"metric\": null, \"status\": \"Completed\", \"run_type\": \"azureml.scriptrun\", \"training_percent\": null, \"start_time\": \"2023-07-14T08:44:44.180743Z\", \"end_time\": \"2023-07-14T08:46:32.928456Z\", \"created_time\": \"2023-07-14T08:44:19.256126Z\", \"created_time_dt\": \"2023-07-14T08:44:19.256126Z\", \"duration\": \"0:02:13\", \"iteration\": null, \"goal\": null, \"run_name\": \"Completed\", \"run_properties\": null}, {\"run_id\": \"AutoML_6b718489-5b88-4846-b544-883018174de8_featurize\", \"run_number\": 1689324393, \"metric\": null, \"status\": \"Completed\", \"run_type\": \"automl.featurization\", \"training_percent\": null, \"start_time\": \"2023-07-14T08:46:33.806983Z\", \"end_time\": \"2023-07-14T08:48:49.778776Z\", \"created_time\": \"2023-07-14T08:46:33.363557Z\", \"created_time_dt\": \"2023-07-14T08:46:33.363557Z\", \"duration\": \"0:02:16\", \"iteration\": null, \"goal\": null, \"run_name\": \"Completed\", \"run_properties\": null}, {\"run_id\": \"AutoML_6b718489-5b88-4846-b544-883018174de8_0\", \"run_number\": 1689324531, \"metric\": null, \"status\": \"Completed\", \"run_type\": null, \"training_percent\": \"100\", \"start_time\": \"2023-07-14T08:50:26.63109Z\", \"end_time\": \"2023-07-14T08:50:41.402722Z\", \"created_time\": \"2023-07-14T08:48:51.437583Z\", \"created_time_dt\": \"2023-07-14T08:48:51.437583Z\", \"duration\": \"0:01:49\", \"iteration\": \"0\", \"goal\": \"accuracy_max\", \"run_name\": \"MaxAbsScaler, LightGBM\", \"run_properties\": \"copy=True\", \"primary_metric\": 0.85264368, \"best_metric\": 0.85264368}, {\"run_id\": \"AutoML_6b718489-5b88-4846-b544-883018174de8_2\", \"run_number\": 1689324532, \"metric\": null, \"status\": \"Completed\", \"run_type\": null, \"training_percent\": \"100\", \"start_time\": \"2023-07-14T08:50:55.536155Z\", \"end_time\": \"2023-07-14T08:51:09.703648Z\", \"created_time\": \"2023-07-14T08:48:52.387068Z\", \"created_time_dt\": \"2023-07-14T08:48:52.387068Z\", \"duration\": \"0:02:17\", \"iteration\": \"2\", \"goal\": \"accuracy_max\", \"run_name\": \"MaxAbsScaler, ExtremeRandomTrees\", \"run_properties\": \"copy=True\", \"primary_metric\": 0.82574713, \"best_metric\": 0.85264368}, {\"run_id\": \"AutoML_6b718489-5b88-4846-b544-883018174de8_4\", \"run_number\": 1689324533, \"metric\": null, \"status\": \"Completed\", \"run_type\": null, \"training_percent\": \"100\", \"start_time\": \"2023-07-14T08:51:23.748761Z\", \"end_time\": \"2023-07-14T08:51:36.5769Z\", \"created_time\": \"2023-07-14T08:48:53.392202Z\", \"created_time_dt\": \"2023-07-14T08:48:53.392202Z\", \"duration\": \"0:02:43\", \"iteration\": \"4\", \"goal\": \"accuracy_max\", \"run_name\": \"StandardScalerWrapper, KNN\", \"run_properties\": \"copy=True, with_mean=False, with_std=False\", \"primary_metric\": 0.62218391, \"best_metric\": 0.85264368}, {\"run_id\": \"AutoML_6b718489-5b88-4846-b544-883018174de8_worker_0\", \"run_number\": 1689324534, \"metric\": null, \"status\": \"Completed\", \"run_type\": \"azureml.scriptrun\", \"training_percent\": null, \"start_time\": \"2023-07-14T08:49:05.874843Z\", \"end_time\": \"2023-07-14T08:52:13.312736Z\", \"created_time\": \"2023-07-14T08:48:54.819699Z\", \"created_time_dt\": \"2023-07-14T08:48:54.819699Z\", \"duration\": \"0:03:18\", \"iteration\": null, \"goal\": null, \"run_name\": \"Completed\", \"run_properties\": null}, {\"run_id\": \"AutoML_6b718489-5b88-4846-b544-883018174de8_7\", \"run_number\": 1689324535, \"metric\": null, \"status\": \"Completed\", \"run_type\": null, \"training_percent\": \"100\", \"start_time\": \"2023-07-14T08:49:17.297324Z\", \"end_time\": \"2023-07-14T08:49:33.0258Z\", \"created_time\": \"2023-07-14T08:48:54.994251Z\", \"created_time_dt\": \"2023-07-14T08:48:54.994251Z\", \"duration\": \"0:00:38\", \"iteration\": \"7\", \"goal\": \"accuracy_max\", \"run_name\": \"MaxAbsScaler, LightGBM\", \"run_properties\": \"copy=True\", \"primary_metric\": 0.81264368, \"best_metric\": 0.85264368}, {\"run_id\": \"AutoML_6b718489-5b88-4846-b544-883018174de8_10\", \"run_number\": 1689324536, \"metric\": null, \"status\": \"Completed\", \"run_type\": null, \"training_percent\": \"100\", \"start_time\": \"2023-07-14T08:50:03.296492Z\", \"end_time\": \"2023-07-14T08:50:17.93352Z\", \"created_time\": \"2023-07-14T08:48:56.408626Z\", \"created_time_dt\": \"2023-07-14T08:48:56.408626Z\", \"duration\": \"0:01:21\", \"iteration\": \"10\", \"goal\": \"accuracy_max\", \"run_name\": \"StandardScalerWrapper, XGBoostClassifier\", \"run_properties\": \"copy=True, with_mean=False, with_std=False\", \"primary_metric\": 0.82597701, \"best_metric\": 0.85264368}, {\"run_id\": \"AutoML_6b718489-5b88-4846-b544-883018174de8_12\", \"run_number\": 1689324537, \"metric\": null, \"status\": \"Completed\", \"run_type\": null, \"training_percent\": \"100\", \"start_time\": \"2023-07-14T08:50:38.122884Z\", \"end_time\": \"2023-07-14T08:50:52.503256Z\", \"created_time\": \"2023-07-14T08:48:57.340364Z\", \"created_time_dt\": \"2023-07-14T08:48:57.340364Z\", \"duration\": \"0:01:55\", \"iteration\": \"12\", \"goal\": \"accuracy_max\", \"run_name\": \"StandardScalerWrapper, LogisticRegression\", \"run_properties\": \"copy=True, with_mean=True, with_std=False\", \"primary_metric\": 0.74195402, \"best_metric\": 0.85264368}, {\"run_id\": \"AutoML_6b718489-5b88-4846-b544-883018174de8_worker_1\", \"run_number\": 1689324538, \"metric\": null, \"status\": \"Completed\", \"run_type\": \"azureml.scriptrun\", \"training_percent\": null, \"start_time\": \"2023-07-14T08:49:05.920572Z\", \"end_time\": \"2023-07-14T08:51:16.702224Z\", \"created_time\": \"2023-07-14T08:48:58.151496Z\", \"created_time_dt\": \"2023-07-14T08:48:58.151496Z\", \"duration\": \"0:02:18\", \"iteration\": null, \"goal\": null, \"run_name\": \"Completed\", \"run_properties\": null}, {\"run_id\": \"AutoML_6b718489-5b88-4846-b544-883018174de8_16\", \"run_number\": 1689324539, \"metric\": null, \"status\": \"Completed\", \"run_type\": null, \"training_percent\": \"100\", \"start_time\": \"2023-07-14T08:51:20.3147Z\", \"end_time\": \"2023-07-14T08:51:33.013755Z\", \"created_time\": \"2023-07-14T08:48:59.358012Z\", \"created_time_dt\": \"2023-07-14T08:48:59.358012Z\", \"duration\": \"0:02:33\", \"iteration\": \"16\", \"goal\": \"accuracy_max\", \"run_name\": \"SparseNormalizer, KNN\", \"run_properties\": \"copy=True, norm='max'\", \"primary_metric\": 0.76586207, \"best_metric\": 0.85264368}, {\"run_id\": \"AutoML_6b718489-5b88-4846-b544-883018174de8_18\", \"run_number\": 1689324540, \"metric\": null, \"status\": \"Completed\", \"run_type\": null, \"training_percent\": \"100\", \"start_time\": \"2023-07-14T08:51:47.429913Z\", \"end_time\": \"2023-07-14T08:52:00.161559Z\", \"created_time\": \"2023-07-14T08:49:00.314367Z\", \"created_time_dt\": \"2023-07-14T08:49:00.314367Z\", \"duration\": \"0:02:59\", \"iteration\": \"18\", \"goal\": \"accuracy_max\", \"run_name\": \"StandardScalerWrapper, XGBoostClassifier\", \"run_properties\": \"copy=True, with_mean=False, with_std=False\", \"primary_metric\": 0.85942529, \"best_metric\": 0.85942529}, {\"run_id\": \"AutoML_6b718489-5b88-4846-b544-883018174de8_worker_2\", \"run_number\": 1689324541, \"metric\": null, \"status\": \"Completed\", \"run_type\": \"azureml.scriptrun\", \"training_percent\": null, \"start_time\": \"2023-07-14T08:49:27.733634Z\", \"end_time\": \"2023-07-14T08:52:23.439278Z\", \"created_time\": \"2023-07-14T08:49:01.010126Z\", \"created_time_dt\": \"2023-07-14T08:49:01.010126Z\", \"duration\": \"0:03:22\", \"iteration\": null, \"goal\": null, \"run_name\": \"Completed\", \"run_properties\": null}, {\"run_id\": \"AutoML_6b718489-5b88-4846-b544-883018174de8_20\", \"run_number\": 1689324723, \"metric\": null, \"status\": \"Completed\", \"run_type\": \"azureml.scriptrun\", \"training_percent\": \"100\", \"start_time\": \"2023-07-14T08:52:28.383117Z\", \"end_time\": \"2023-07-14T08:53:01.34089Z\", \"created_time\": \"2023-07-14T08:52:03.367781Z\", \"created_time_dt\": \"2023-07-14T08:52:03.367781Z\", \"duration\": \"0:00:57\", \"iteration\": \"20\", \"goal\": \"accuracy_max\", \"run_name\": \"MaxAbsScaler, LogisticRegression\", \"run_properties\": \"copy=True\", \"primary_metric\": 0.8191954, \"best_metric\": 0.85942529}, {\"run_id\": \"AutoML_6b718489-5b88-4846-b544-883018174de8_21\", \"run_number\": 1689324736, \"metric\": null, \"status\": \"Completed\", \"run_type\": \"azureml.scriptrun\", \"training_percent\": \"100\", \"start_time\": \"2023-07-14T08:52:31.558771Z\", \"end_time\": \"2023-07-14T08:54:24.976907Z\", \"created_time\": \"2023-07-14T08:52:16.364043Z\", \"created_time_dt\": \"2023-07-14T08:52:16.364043Z\", \"duration\": \"0:02:08\", \"iteration\": \"21\", \"goal\": \"accuracy_max\", \"run_name\": \"StandardScalerWrapper, XGBoostClassifier\", \"run_properties\": \"copy=True, with_mean=False, with_std=False\", \"primary_metric\": 0.85264368, \"best_metric\": 0.85942529}, {\"run_id\": \"AutoML_6b718489-5b88-4846-b544-883018174de8_22\", \"run_number\": 1689324783, \"metric\": null, \"status\": \"Completed\", \"run_type\": \"azureml.scriptrun\", \"training_percent\": \"100\", \"start_time\": \"2023-07-14T08:53:20.50548Z\", \"end_time\": \"2023-07-14T08:55:04.591969Z\", \"created_time\": \"2023-07-14T08:53:03.755997Z\", \"created_time_dt\": \"2023-07-14T08:53:03.755997Z\", \"duration\": \"0:02:00\", \"iteration\": \"22\", \"goal\": \"accuracy_max\", \"run_name\": \"SparseNormalizer, RandomForest\", \"run_properties\": \"copy=True, norm='l2'\", \"primary_metric\": 0.83287356, \"best_metric\": 0.85942529}, {\"run_id\": \"AutoML_6b718489-5b88-4846-b544-883018174de8_24\", \"run_number\": 1689324866, \"metric\": null, \"status\": \"Completed\", \"run_type\": \"azureml.scriptrun\", \"training_percent\": \"100\", \"start_time\": \"2023-07-14T08:54:36.18568Z\", \"end_time\": \"2023-07-14T08:56:23.127112Z\", \"created_time\": \"2023-07-14T08:54:26.433271Z\", \"created_time_dt\": \"2023-07-14T08:54:26.433271Z\", \"duration\": \"0:01:56\", \"iteration\": \"24\", \"goal\": \"accuracy_max\", \"run_name\": \"SparseNormalizer, XGBoostClassifier\", \"run_properties\": \"copy=True, norm='l1'\", \"primary_metric\": 0.83287356, \"best_metric\": 0.85942529}, {\"run_id\": \"AutoML_6b718489-5b88-4846-b544-883018174de8_25\", \"run_number\": 1689324907, \"metric\": null, \"status\": \"Completed\", \"run_type\": \"azureml.scriptrun\", \"training_percent\": \"100\", \"start_time\": \"2023-07-14T08:55:17.319786Z\", \"end_time\": \"2023-07-14T08:55:50.174598Z\", \"created_time\": \"2023-07-14T08:55:07.365895Z\", \"created_time_dt\": \"2023-07-14T08:55:07.365895Z\", \"duration\": \"0:00:42\", \"iteration\": \"25\", \"goal\": \"accuracy_max\", \"run_name\": \"TruncatedSVDWrapper, XGBoostClassifier\", \"run_properties\": \"n_components=0.8510526315789474, random_state=None\", \"primary_metric\": 0.6791954, \"best_metric\": 0.85942529}, {\"run_id\": \"AutoML_6b718489-5b88-4846-b544-883018174de8_26\", \"run_number\": 1689324924, \"metric\": null, \"status\": \"Completed\", \"run_type\": \"azureml.scriptrun\", \"training_percent\": \"100\", \"start_time\": \"2023-07-14T08:55:35.731732Z\", \"end_time\": \"2023-07-14T08:56:08.018035Z\", \"created_time\": \"2023-07-14T08:55:24.416623Z\", \"created_time_dt\": \"2023-07-14T08:55:24.416623Z\", \"duration\": \"0:00:43\", \"iteration\": \"26\", \"goal\": \"accuracy_max\", \"run_name\": \"RobustScaler, RandomForest\", \"run_properties\": \"copy=True, quantile_range=[10, 90], with_centering=True,\\n             with_scaling=True\", \"primary_metric\": 0.83252874, \"best_metric\": 0.85942529}, {\"run_id\": \"AutoML_6b718489-5b88-4846-b544-883018174de8_27\", \"run_number\": 1689324952, \"metric\": null, \"status\": \"Completed\", \"run_type\": \"azureml.scriptrun\", \"training_percent\": \"100\", \"start_time\": \"2023-07-14T08:56:04.784936Z\", \"end_time\": \"2023-07-14T08:56:37.264255Z\", \"created_time\": \"2023-07-14T08:55:52.117804Z\", \"created_time_dt\": \"2023-07-14T08:55:52.117804Z\", \"duration\": \"0:00:45\", \"iteration\": \"27\", \"goal\": \"accuracy_max\", \"run_name\": \"StandardScalerWrapper, XGBoostClassifier\", \"run_properties\": \"copy=True, with_mean=False, with_std=False\", \"primary_metric\": 0.80275862, \"best_metric\": 0.85942529}, {\"run_id\": \"AutoML_6b718489-5b88-4846-b544-883018174de8_28\", \"run_number\": 1689324970, \"metric\": null, \"status\": \"Completed\", \"run_type\": \"azureml.scriptrun\", \"training_percent\": \"100\", \"start_time\": \"2023-07-14T08:56:21.843625Z\", \"end_time\": \"2023-07-14T08:56:54.783354Z\", \"created_time\": \"2023-07-14T08:56:10.499835Z\", \"created_time_dt\": \"2023-07-14T08:56:10.499835Z\", \"duration\": \"0:00:44\", \"iteration\": \"28\", \"goal\": \"accuracy_max\", \"run_name\": \"SparseNormalizer, XGBoostClassifier\", \"run_properties\": \"copy=True, norm='l1'\", \"primary_metric\": 0.85298851, \"best_metric\": 0.85942529}, {\"run_id\": \"AutoML_6b718489-5b88-4846-b544-883018174de8_29\", \"run_number\": 1689324985, \"metric\": null, \"status\": \"Canceled\", \"run_type\": \"azureml.scriptrun\", \"training_percent\": \"100\", \"start_time\": \"2023-07-14T08:56:34.002695Z\", \"end_time\": \"2023-07-14T08:58:19.670978Z\", \"created_time\": \"2023-07-14T08:56:25.460872Z\", \"created_time_dt\": \"2023-07-14T08:56:25.460872Z\", \"duration\": \"0:01:54\", \"iteration\": \"29\", \"goal\": null, \"run_name\": \"StandardScalerWrapper, XGBoostClassifier\", \"run_properties\": null}, {\"run_id\": \"AutoML_6b718489-5b88-4846-b544-883018174de8_30\", \"run_number\": 1689325000, \"metric\": null, \"status\": \"Completed\", \"run_type\": \"azureml.scriptrun\", \"training_percent\": \"100\", \"start_time\": \"2023-07-14T08:56:53.056035Z\", \"end_time\": \"2023-07-14T08:57:25.888704Z\", \"created_time\": \"2023-07-14T08:56:40.836177Z\", \"created_time_dt\": \"2023-07-14T08:56:40.836177Z\", \"duration\": \"0:00:45\", \"iteration\": \"30\", \"goal\": \"accuracy_max\", \"run_name\": \"StandardScalerWrapper, XGBoostClassifier\", \"run_properties\": \"copy=True, with_mean=False, with_std=False\", \"primary_metric\": 0.83264368, \"best_metric\": 0.85942529}, {\"run_id\": \"AutoML_6b718489-5b88-4846-b544-883018174de8_31\", \"run_number\": 1689325016, \"metric\": null, \"status\": \"Completed\", \"run_type\": \"azureml.scriptrun\", \"training_percent\": \"100\", \"start_time\": \"2023-07-14T08:57:06.971898Z\", \"end_time\": \"2023-07-14T08:57:39.492624Z\", \"created_time\": \"2023-07-14T08:56:56.884146Z\", \"created_time_dt\": \"2023-07-14T08:56:56.884146Z\", \"duration\": \"0:00:42\", \"iteration\": \"31\", \"goal\": \"accuracy_max\", \"run_name\": \"StandardScalerWrapper, RandomForest\", \"run_properties\": \"copy=True, with_mean=False, with_std=False\", \"primary_metric\": 0.85252874, \"best_metric\": 0.85942529}, {\"run_id\": \"AutoML_6b718489-5b88-4846-b544-883018174de8_32\", \"run_number\": 1689325048, \"metric\": null, \"status\": \"Completed\", \"run_type\": \"azureml.scriptrun\", \"training_percent\": \"100\", \"start_time\": \"2023-07-14T08:57:39.852111Z\", \"end_time\": \"2023-07-14T08:58:12.298834Z\", \"created_time\": \"2023-07-14T08:57:28.486866Z\", \"created_time_dt\": \"2023-07-14T08:57:28.486866Z\", \"duration\": \"0:00:43\", \"iteration\": \"32\", \"goal\": \"accuracy_max\", \"run_name\": \"SparseNormalizer, XGBoostClassifier\", \"run_properties\": \"copy=True, norm='l1'\", \"primary_metric\": 0.81287356, \"best_metric\": 0.85942529}, {\"run_id\": \"AutoML_6b718489-5b88-4846-b544-883018174de8_33\", \"run_number\": 1689325061, \"metric\": null, \"status\": \"Canceled\", \"run_type\": \"azureml.scriptrun\", \"training_percent\": \"100\", \"start_time\": \"2023-07-14T08:57:49.980507Z\", \"end_time\": \"2023-07-14T08:58:19.47621Z\", \"created_time\": \"2023-07-14T08:57:41.231176Z\", \"created_time_dt\": \"2023-07-14T08:57:41.231176Z\", \"duration\": \"0:00:38\", \"iteration\": \"33\", \"goal\": \"accuracy_max\", \"run_name\": \"MaxAbsScaler, RandomForest\", \"run_properties\": \"copy=True\", \"primary_metric\": 0.84954023, \"best_metric\": 0.85942529}, {\"run_id\": \"AutoML_6b718489-5b88-4846-b544-883018174de8_35\", \"run_number\": 1689325100, \"metric\": null, \"status\": \"Completed\", \"run_type\": \"azureml.scriptrun\", \"training_percent\": \"100\", \"start_time\": \"2023-07-14T08:58:30.236767Z\", \"end_time\": \"2023-07-14T08:59:43.165296Z\", \"created_time\": \"2023-07-14T08:58:20.477401Z\", \"created_time_dt\": \"2023-07-14T08:58:20.477401Z\", \"duration\": \"0:01:22\", \"iteration\": \"35\", \"goal\": \"accuracy_max\", \"run_name\": \"StackEnsemble\", \"run_properties\": \"base_learners=[('18', Pipeline(memory=None, steps=[('standardscalerwrapper', StandardScalerWrapper(copy=True, with_mean=False, with_std=False\", \"primary_metric\": 0.85942529, \"best_metric\": 0.85942529}], \"children_metrics\": {\"categories\": [0], \"series\": {\"f1_score_micro\": [{\"categories\": [\"0\", \"2\", \"4\", \"7\", \"10\", \"12\", \"16\", \"18\", \"20\", \"21\", \"22\", \"24\", \"25\", \"26\", \"27\", \"28\", \"30\", \"31\", \"32\", \"33\", \"35\"], \"mode\": \"markers\", \"name\": \"f1_score_micro\", \"stepped\": false, \"type\": \"scatter\", \"data\": [0.8526436781609196, 0.8257471264367815, 0.622183908045977, 0.8126436781609195, 0.825977011494253, 0.7419540229885058, 0.7658620689655172, 0.859425287356322, 0.8191954022988505, 0.8526436781609196, 0.8328735632183909, 0.8328735632183909, 0.6791954022988507, 0.8325287356321839, 0.8027586206896553, 0.8529885057471264, 0.8326436781609197, 0.852528735632184, 0.8128735632183908, 0.8495402298850575, 0.859425287356322]}, {\"categories\": [\"0\", \"2\", \"4\", \"7\", \"10\", \"12\", \"16\", \"18\", \"20\", \"21\", \"22\", \"24\", \"25\", \"26\", \"27\", \"28\", \"30\", \"31\", \"32\", \"33\", \"35\"], \"mode\": \"lines\", \"name\": \"f1_score_micro_max\", \"stepped\": true, \"type\": \"scatter\", \"data\": [0.8526436781609196, 0.8526436781609196, 0.8526436781609196, 0.8526436781609196, 0.8526436781609196, 0.8526436781609196, 0.8526436781609196, 0.859425287356322, 0.859425287356322, 0.859425287356322, 0.859425287356322, 0.859425287356322, 0.859425287356322, 0.859425287356322, 0.859425287356322, 0.859425287356322, 0.859425287356322, 0.859425287356322, 0.859425287356322, 0.859425287356322, 0.859425287356322]}], \"norm_macro_recall\": [{\"categories\": [\"0\", \"2\", \"4\", \"7\", \"10\", \"12\", \"16\", \"18\", \"20\", \"21\", \"22\", \"24\", \"25\", \"26\", \"27\", \"28\", \"30\", \"31\", \"32\", \"33\", \"35\"], \"mode\": \"markers\", \"name\": \"norm_macro_recall\", \"stepped\": false, \"type\": \"scatter\", \"data\": [0.6430960429730452, 0.6278728218768265, 0.15359594391116127, 0.468458109205821, 0.5650727840682073, 0.5301724361958916, 0.34833368830508415, 0.6659088135358158, 0.5684972180120922, 0.6410750567129286, 0.6283147410687457, 0.6007725770288699, 0.0, 0.6080982074752098, 0.4652142419619536, 0.6390004895308099, 0.5946868893247611, 0.6855672473344099, 0.5179014920370756, 0.6301133589903614, 0.6752200783579501]}, {\"categories\": [\"0\", \"2\", \"4\", \"7\", \"10\", \"12\", \"16\", \"18\", \"20\", \"21\", \"22\", \"24\", \"25\", \"26\", \"27\", \"28\", \"30\", \"31\", \"32\", \"33\", \"35\"], \"mode\": \"lines\", \"name\": \"norm_macro_recall_max\", \"stepped\": true, \"type\": \"scatter\", \"data\": [0.6430960429730452, 0.6430960429730452, 0.6430960429730452, 0.6430960429730452, 0.6430960429730452, 0.6430960429730452, 0.6430960429730452, 0.6659088135358158, 0.6659088135358158, 0.6659088135358158, 0.6659088135358158, 0.6659088135358158, 0.6659088135358158, 0.6659088135358158, 0.6659088135358158, 0.6659088135358158, 0.6659088135358158, 0.6855672473344099, 0.6855672473344099, 0.6855672473344099, 0.6855672473344099]}], \"average_precision_score_micro\": [{\"categories\": [\"0\", \"2\", \"4\", \"7\", \"10\", \"12\", \"16\", \"18\", \"20\", \"21\", \"22\", \"24\", \"25\", \"26\", \"27\", \"28\", \"30\", \"31\", \"32\", \"33\", \"35\"], \"mode\": \"markers\", \"name\": \"average_precision_score_micro\", \"stepped\": false, \"type\": \"scatter\", \"data\": [0.9118998393040524, 0.8864865988811313, 0.6210072900452314, 0.8881483974222715, 0.9038250871220038, 0.8321613485841948, 0.792947413420068, 0.9149320190586296, 0.8851626125721813, 0.9183136869709024, 0.9053863366491566, 0.8986645998024277, 0.6309528339278636, 0.9050060580442219, 0.9068179014804872, 0.9108135810945518, 0.9065228134259848, 0.9070157315913304, 0.8836598176360552, 0.9254203555446916, 0.9087094209940579]}, {\"categories\": [\"0\", \"2\", \"4\", \"7\", \"10\", \"12\", \"16\", \"18\", \"20\", \"21\", \"22\", \"24\", \"25\", \"26\", \"27\", \"28\", \"30\", \"31\", \"32\", \"33\", \"35\"], \"mode\": \"lines\", \"name\": \"average_precision_score_micro_max\", \"stepped\": true, \"type\": \"scatter\", \"data\": [0.9118998393040524, 0.9118998393040524, 0.9118998393040524, 0.9118998393040524, 0.9118998393040524, 0.9118998393040524, 0.9118998393040524, 0.9149320190586296, 0.9149320190586296, 0.9183136869709024, 0.9183136869709024, 0.9183136869709024, 0.9183136869709024, 0.9183136869709024, 0.9183136869709024, 0.9183136869709024, 0.9183136869709024, 0.9183136869709024, 0.9183136869709024, 0.9254203555446916, 0.9254203555446916]}], \"recall_score_micro\": [{\"categories\": [\"0\", \"2\", \"4\", \"7\", \"10\", \"12\", \"16\", \"18\", \"20\", \"21\", \"22\", \"24\", \"25\", \"26\", \"27\", \"28\", \"30\", \"31\", \"32\", \"33\", \"35\"], \"mode\": \"markers\", \"name\": \"recall_score_micro\", \"stepped\": false, \"type\": \"scatter\", \"data\": [0.8526436781609196, 0.8257471264367815, 0.622183908045977, 0.8126436781609195, 0.825977011494253, 0.7419540229885058, 0.7658620689655172, 0.859425287356322, 0.8191954022988505, 0.8526436781609196, 0.8328735632183909, 0.8328735632183909, 0.6791954022988507, 0.8325287356321839, 0.8027586206896553, 0.8529885057471264, 0.8326436781609197, 0.852528735632184, 0.8128735632183908, 0.8495402298850575, 0.859425287356322]}, {\"categories\": [\"0\", \"2\", \"4\", \"7\", \"10\", \"12\", \"16\", \"18\", \"20\", \"21\", \"22\", \"24\", \"25\", \"26\", \"27\", \"28\", \"30\", \"31\", \"32\", \"33\", \"35\"], \"mode\": \"lines\", \"name\": \"recall_score_micro_max\", \"stepped\": true, \"type\": \"scatter\", \"data\": [0.8526436781609196, 0.8526436781609196, 0.8526436781609196, 0.8526436781609196, 0.8526436781609196, 0.8526436781609196, 0.8526436781609196, 0.859425287356322, 0.859425287356322, 0.859425287356322, 0.859425287356322, 0.859425287356322, 0.859425287356322, 0.859425287356322, 0.859425287356322, 0.859425287356322, 0.859425287356322, 0.859425287356322, 0.859425287356322, 0.859425287356322, 0.859425287356322]}], \"balanced_accuracy\": [{\"categories\": [\"0\", \"2\", \"4\", \"7\", \"10\", \"12\", \"16\", \"18\", \"20\", \"21\", \"22\", \"24\", \"25\", \"26\", \"27\", \"28\", \"30\", \"31\", \"32\", \"33\", \"35\"], \"mode\": \"markers\", \"name\": \"balanced_accuracy\", \"stepped\": false, \"type\": \"scatter\", \"data\": [0.8215480214865225, 0.8139364109384133, 0.5586958985903493, 0.7342290546029104, 0.7825363920341036, 0.7650862180979459, 0.6741668441525421, 0.8329544067679079, 0.7842486090060461, 0.8205375283564642, 0.8141573705343728, 0.8003862885144348, 0.5, 0.8040491037376049, 0.7326071209809769, 0.819500244765405, 0.7973434446623805, 0.842783623667205, 0.7589507460185378, 0.8150566794951806, 0.837610039178975]}, {\"categories\": [\"0\", \"2\", \"4\", \"7\", \"10\", \"12\", \"16\", \"18\", \"20\", \"21\", \"22\", \"24\", \"25\", \"26\", \"27\", \"28\", \"30\", \"31\", \"32\", \"33\", \"35\"], \"mode\": \"lines\", \"name\": \"balanced_accuracy_max\", \"stepped\": true, \"type\": \"scatter\", \"data\": [0.8215480214865225, 0.8215480214865225, 0.8215480214865225, 0.8215480214865225, 0.8215480214865225, 0.8215480214865225, 0.8215480214865225, 0.8329544067679079, 0.8329544067679079, 0.8329544067679079, 0.8329544067679079, 0.8329544067679079, 0.8329544067679079, 0.8329544067679079, 0.8329544067679079, 0.8329544067679079, 0.8329544067679079, 0.842783623667205, 0.842783623667205, 0.842783623667205, 0.842783623667205]}], \"matthews_correlation\": [{\"categories\": [\"0\", \"2\", \"4\", \"7\", \"10\", \"12\", \"16\", \"18\", \"20\", \"21\", \"22\", \"24\", \"25\", \"26\", \"27\", \"28\", \"30\", \"31\", \"32\", \"33\", \"35\"], \"mode\": \"markers\", \"name\": \"matthews_correlation\", \"stepped\": false, \"type\": \"scatter\", \"data\": [0.6609732322714985, 0.6112973776191601, 0.10841152114203997, 0.5446556384150382, 0.5964071184889084, 0.4931990224960162, 0.4335563191961641, 0.6820617137604973, 0.5931881367745848, 0.6599682158297713, 0.627384472486017, 0.6216786612546613, 0.0, 0.6111412876830006, 0.5295774482036208, 0.6656795445455221, 0.6155604984474347, 0.6656016797754918, 0.5503061766067245, 0.6494501503634572, 0.6906576456523913]}, {\"categories\": [\"0\", \"2\", \"4\", \"7\", \"10\", \"12\", \"16\", \"18\", \"20\", \"21\", \"22\", \"24\", \"25\", \"26\", \"27\", \"28\", \"30\", \"31\", \"32\", \"33\", \"35\"], \"mode\": \"lines\", \"name\": \"matthews_correlation_max\", \"stepped\": true, \"type\": \"scatter\", \"data\": [0.6609732322714985, 0.6609732322714985, 0.6609732322714985, 0.6609732322714985, 0.6609732322714985, 0.6609732322714985, 0.6609732322714985, 0.6820617137604973, 0.6820617137604973, 0.6820617137604973, 0.6820617137604973, 0.6820617137604973, 0.6820617137604973, 0.6820617137604973, 0.6820617137604973, 0.6820617137604973, 0.6820617137604973, 0.6820617137604973, 0.6820617137604973, 0.6820617137604973, 0.6906576456523913]}], \"precision_score_micro\": [{\"categories\": [\"0\", \"2\", \"4\", \"7\", \"10\", \"12\", \"16\", \"18\", \"20\", \"21\", \"22\", \"24\", \"25\", \"26\", \"27\", \"28\", \"30\", \"31\", \"32\", \"33\", \"35\"], \"mode\": \"markers\", \"name\": \"precision_score_micro\", \"stepped\": false, \"type\": \"scatter\", \"data\": [0.8526436781609196, 0.8257471264367815, 0.622183908045977, 0.8126436781609195, 0.825977011494253, 0.7419540229885058, 0.7658620689655172, 0.859425287356322, 0.8191954022988505, 0.8526436781609196, 0.8328735632183909, 0.8328735632183909, 0.6791954022988507, 0.8325287356321839, 0.8027586206896553, 0.8529885057471264, 0.8326436781609197, 0.852528735632184, 0.8128735632183908, 0.8495402298850575, 0.859425287356322]}, {\"categories\": [\"0\", \"2\", \"4\", \"7\", \"10\", \"12\", \"16\", \"18\", \"20\", \"21\", \"22\", \"24\", \"25\", \"26\", \"27\", \"28\", \"30\", \"31\", \"32\", \"33\", \"35\"], \"mode\": \"lines\", \"name\": \"precision_score_micro_max\", \"stepped\": true, \"type\": \"scatter\", \"data\": [0.8526436781609196, 0.8526436781609196, 0.8526436781609196, 0.8526436781609196, 0.8526436781609196, 0.8526436781609196, 0.8526436781609196, 0.859425287356322, 0.859425287356322, 0.859425287356322, 0.859425287356322, 0.859425287356322, 0.859425287356322, 0.859425287356322, 0.859425287356322, 0.859425287356322, 0.859425287356322, 0.859425287356322, 0.859425287356322, 0.859425287356322, 0.859425287356322]}], \"average_precision_score_macro\": [{\"categories\": [\"0\", \"2\", \"4\", \"7\", \"10\", \"12\", \"16\", \"18\", \"20\", \"21\", \"22\", \"24\", \"25\", \"26\", \"27\", \"28\", \"30\", \"31\", \"32\", \"33\", \"35\"], \"mode\": \"markers\", \"name\": \"average_precision_score_macro\", \"stepped\": false, \"type\": \"scatter\", \"data\": [0.8914391239798902, 0.8673471655045987, 0.5673227532466278, 0.8793675339357412, 0.8864406673609005, 0.8659854050705768, 0.7597412180878824, 0.8942358758963275, 0.8534419542587844, 0.8949900729504654, 0.8831890761757004, 0.8781911010839283, 0.5, 0.8851213174801085, 0.8817119569459246, 0.8951391513728206, 0.8756940229145658, 0.8899018614660529, 0.8507753704070463, 0.9017155934074685, 0.8954200094695194]}, {\"categories\": [\"0\", \"2\", \"4\", \"7\", \"10\", \"12\", \"16\", \"18\", \"20\", \"21\", \"22\", \"24\", \"25\", \"26\", \"27\", \"28\", \"30\", \"31\", \"32\", \"33\", \"35\"], \"mode\": \"lines\", \"name\": \"average_precision_score_macro_max\", \"stepped\": true, \"type\": \"scatter\", \"data\": [0.8914391239798902, 0.8914391239798902, 0.8914391239798902, 0.8914391239798902, 0.8914391239798902, 0.8914391239798902, 0.8914391239798902, 0.8942358758963275, 0.8942358758963275, 0.8949900729504654, 0.8949900729504654, 0.8949900729504654, 0.8949900729504654, 0.8949900729504654, 0.8949900729504654, 0.8951391513728206, 0.8951391513728206, 0.8951391513728206, 0.8951391513728206, 0.9017155934074685, 0.9017155934074685]}], \"average_precision_score_weighted\": [{\"categories\": [\"0\", \"2\", \"4\", \"7\", \"10\", \"12\", \"16\", \"18\", \"20\", \"21\", \"22\", \"24\", \"25\", \"26\", \"27\", \"28\", \"30\", \"31\", \"32\", \"33\", \"35\"], \"mode\": \"markers\", \"name\": \"average_precision_score_weighted\", \"stepped\": false, \"type\": \"scatter\", \"data\": [0.9151443911131578, 0.8965378166940552, 0.6257308861530108, 0.9088125759174563, 0.9126597740458047, 0.891965830839238, 0.7942963774294312, 0.9160979029873072, 0.8882513470755897, 0.9209980554011408, 0.9083578280817497, 0.9043225700687885, 0.5827102655568768, 0.9110430974236872, 0.9131812337290468, 0.9164953112769896, 0.9046813686146953, 0.9149219555660834, 0.883792328750818, 0.9267746135429192, 0.920459710678253]}, {\"categories\": [\"0\", \"2\", \"4\", \"7\", \"10\", \"12\", \"16\", \"18\", \"20\", \"21\", \"22\", \"24\", \"25\", \"26\", \"27\", \"28\", \"30\", \"31\", \"32\", \"33\", \"35\"], \"mode\": \"lines\", \"name\": \"average_precision_score_weighted_max\", \"stepped\": true, \"type\": \"scatter\", \"data\": [0.9151443911131578, 0.9151443911131578, 0.9151443911131578, 0.9151443911131578, 0.9151443911131578, 0.9151443911131578, 0.9151443911131578, 0.9160979029873072, 0.9160979029873072, 0.9209980554011408, 0.9209980554011408, 0.9209980554011408, 0.9209980554011408, 0.9209980554011408, 0.9209980554011408, 0.9209980554011408, 0.9209980554011408, 0.9209980554011408, 0.9209980554011408, 0.9267746135429192, 0.9267746135429192]}], \"AUC_micro\": [{\"categories\": [\"0\", \"2\", \"4\", \"7\", \"10\", \"12\", \"16\", \"18\", \"20\", \"21\", \"22\", \"24\", \"25\", \"26\", \"27\", \"28\", \"30\", \"31\", \"32\", \"33\", \"35\"], \"mode\": \"markers\", \"name\": \"AUC_micro\", \"stepped\": false, \"type\": \"scatter\", \"data\": [0.9107760602457391, 0.8842927731536531, 0.6193729686880698, 0.8810665873959571, 0.9051269652530058, 0.8228993261989694, 0.8058736953362399, 0.9183745541022592, 0.8821562954155107, 0.9157956136874091, 0.9028540097767209, 0.8990254987448806, 0.6791954022988507, 0.9082146915048224, 0.9002010833663627, 0.911477738142423, 0.9078599550799312, 0.91203157616594, 0.8878911348923241, 0.9210314440480909, 0.910900911613159]}, {\"categories\": [\"0\", \"2\", \"4\", \"7\", \"10\", \"12\", \"16\", \"18\", \"20\", \"21\", \"22\", \"24\", \"25\", \"26\", \"27\", \"28\", \"30\", \"31\", \"32\", \"33\", \"35\"], \"mode\": \"lines\", \"name\": \"AUC_micro_max\", \"stepped\": true, \"type\": \"scatter\", \"data\": [0.9107760602457391, 0.9107760602457391, 0.9107760602457391, 0.9107760602457391, 0.9107760602457391, 0.9107760602457391, 0.9107760602457391, 0.9183745541022592, 0.9183745541022592, 0.9183745541022592, 0.9183745541022592, 0.9183745541022592, 0.9183745541022592, 0.9183745541022592, 0.9183745541022592, 0.9183745541022592, 0.9183745541022592, 0.9183745541022592, 0.9183745541022592, 0.9210314440480909, 0.9210314440480909]}], \"recall_score_macro\": [{\"categories\": [\"0\", \"2\", \"4\", \"7\", \"10\", \"12\", \"16\", \"18\", \"20\", \"21\", \"22\", \"24\", \"25\", \"26\", \"27\", \"28\", \"30\", \"31\", \"32\", \"33\", \"35\"], \"mode\": \"markers\", \"name\": \"recall_score_macro\", \"stepped\": false, \"type\": \"scatter\", \"data\": [0.8215480214865225, 0.8139364109384133, 0.5586958985903493, 0.7342290546029104, 0.7825363920341036, 0.7650862180979459, 0.6741668441525421, 0.8329544067679079, 0.7842486090060461, 0.8205375283564642, 0.8141573705343728, 0.8003862885144348, 0.5, 0.8040491037376049, 0.7326071209809769, 0.819500244765405, 0.7973434446623805, 0.842783623667205, 0.7589507460185378, 0.8150566794951806, 0.837610039178975]}, {\"categories\": [\"0\", \"2\", \"4\", \"7\", \"10\", \"12\", \"16\", \"18\", \"20\", \"21\", \"22\", \"24\", \"25\", \"26\", \"27\", \"28\", \"30\", \"31\", \"32\", \"33\", \"35\"], \"mode\": \"lines\", \"name\": \"recall_score_macro_max\", \"stepped\": true, \"type\": \"scatter\", \"data\": [0.8215480214865225, 0.8215480214865225, 0.8215480214865225, 0.8215480214865225, 0.8215480214865225, 0.8215480214865225, 0.8215480214865225, 0.8329544067679079, 0.8329544067679079, 0.8329544067679079, 0.8329544067679079, 0.8329544067679079, 0.8329544067679079, 0.8329544067679079, 0.8329544067679079, 0.8329544067679079, 0.8329544067679079, 0.842783623667205, 0.842783623667205, 0.842783623667205, 0.842783623667205]}], \"precision_score_macro\": [{\"categories\": [\"0\", \"2\", \"4\", \"7\", \"10\", \"12\", \"16\", \"18\", \"20\", \"21\", \"22\", \"24\", \"25\", \"26\", \"27\", \"28\", \"30\", \"31\", \"32\", \"33\", \"35\"], \"mode\": \"markers\", \"name\": \"precision_score_macro\", \"stepped\": false, \"type\": \"scatter\", \"data\": [0.8410434880400557, 0.7983508729832259, 0.5507478499761109, 0.8204962175505655, 0.8174327592697159, 0.7308246833575781, 0.773829678500159, 0.8518656471405833, 0.8117686917392295, 0.8409737484737484, 0.8148021961100772, 0.8245437787485841, 0.33959770114942534, 0.8086166503214558, 0.8056671842650104, 0.8487546270154965, 0.8202397891963109, 0.8239607520943334, 0.7934786563887049, 0.8357518442767804, 0.855328475871954]}, {\"categories\": [\"0\", \"2\", \"4\", \"7\", \"10\", \"12\", \"16\", \"18\", \"20\", \"21\", \"22\", \"24\", \"25\", \"26\", \"27\", \"28\", \"30\", \"31\", \"32\", \"33\", \"35\"], \"mode\": \"lines\", \"name\": \"precision_score_macro_max\", \"stepped\": true, \"type\": \"scatter\", \"data\": [0.8410434880400557, 0.8410434880400557, 0.8410434880400557, 0.8410434880400557, 0.8410434880400557, 0.8410434880400557, 0.8410434880400557, 0.8518656471405833, 0.8518656471405833, 0.8518656471405833, 0.8518656471405833, 0.8518656471405833, 0.8518656471405833, 0.8518656471405833, 0.8518656471405833, 0.8518656471405833, 0.8518656471405833, 0.8518656471405833, 0.8518656471405833, 0.8518656471405833, 0.855328475871954]}], \"AUC_macro\": [{\"categories\": [\"0\", \"2\", \"4\", \"7\", \"10\", \"12\", \"16\", \"18\", \"20\", \"21\", \"22\", \"24\", \"25\", \"26\", \"27\", \"28\", \"30\", \"31\", \"32\", \"33\", \"35\"], \"mode\": \"markers\", \"name\": \"AUC_macro\", \"stepped\": false, \"type\": \"scatter\", \"data\": [0.8952333600250076, 0.8704845935105663, 0.5165883922311267, 0.892313706092196, 0.896011277094801, 0.8618047728841207, 0.7464011599733854, 0.8995984982493563, 0.8643678111065984, 0.9061160855173727, 0.8951168449505404, 0.8918636817394827, 0.5, 0.8992163492421215, 0.8958417605002845, 0.9021271796916535, 0.8980363016814105, 0.8964083562826698, 0.869332350144135, 0.9117078748969482, 0.9047509980484809]}, {\"categories\": [\"0\", \"2\", \"4\", \"7\", \"10\", \"12\", \"16\", \"18\", \"20\", \"21\", \"22\", \"24\", \"25\", \"26\", \"27\", \"28\", \"30\", \"31\", \"32\", \"33\", \"35\"], \"mode\": \"lines\", \"name\": \"AUC_macro_max\", \"stepped\": true, \"type\": \"scatter\", \"data\": [0.8952333600250076, 0.8952333600250076, 0.8952333600250076, 0.8952333600250076, 0.896011277094801, 0.896011277094801, 0.896011277094801, 0.8995984982493563, 0.8995984982493563, 0.9061160855173727, 0.9061160855173727, 0.9061160855173727, 0.9061160855173727, 0.9061160855173727, 0.9061160855173727, 0.9061160855173727, 0.9061160855173727, 0.9061160855173727, 0.9061160855173727, 0.9117078748969482, 0.9117078748969482]}], \"f1_score_macro\": [{\"categories\": [\"0\", \"2\", \"4\", \"7\", \"10\", \"12\", \"16\", \"18\", \"20\", \"21\", \"22\", \"24\", \"25\", \"26\", \"27\", \"28\", \"30\", \"31\", \"32\", \"33\", \"35\"], \"mode\": \"markers\", \"name\": \"f1_score_macro\", \"stepped\": false, \"type\": \"scatter\", \"data\": [0.8229109664388268, 0.7994978152443464, 0.5356660352056791, 0.7453412365496912, 0.783601705121691, 0.721172292163957, 0.6829016131755693, 0.8292469495078191, 0.7818566483159358, 0.8221316128161591, 0.8041705508028547, 0.7956755945265261, 0.4024893878511494, 0.7970399279962603, 0.7444879212858083, 0.8220875981379414, 0.7961855025023414, 0.8252673016430551, 0.7642279815526278, 0.8164082694128789, 0.8351366555688224]}, {\"categories\": [\"0\", \"2\", \"4\", \"7\", \"10\", \"12\", \"16\", \"18\", \"20\", \"21\", \"22\", \"24\", \"25\", \"26\", \"27\", \"28\", \"30\", \"31\", \"32\", \"33\", \"35\"], \"mode\": \"lines\", \"name\": \"f1_score_macro_max\", \"stepped\": true, \"type\": \"scatter\", \"data\": [0.8229109664388268, 0.8229109664388268, 0.8229109664388268, 0.8229109664388268, 0.8229109664388268, 0.8229109664388268, 0.8229109664388268, 0.8292469495078191, 0.8292469495078191, 0.8292469495078191, 0.8292469495078191, 0.8292469495078191, 0.8292469495078191, 0.8292469495078191, 0.8292469495078191, 0.8292469495078191, 0.8292469495078191, 0.8292469495078191, 0.8292469495078191, 0.8292469495078191, 0.8351366555688224]}], \"weighted_accuracy\": [{\"categories\": [\"0\", \"2\", \"4\", \"7\", \"10\", \"12\", \"16\", \"18\", \"20\", \"21\", \"22\", \"24\", \"25\", \"26\", \"27\", \"28\", \"30\", \"31\", \"32\", \"33\", \"35\"], \"mode\": \"markers\", \"name\": \"weighted_accuracy\", \"stepped\": false, \"type\": \"scatter\", \"data\": [0.8721435014988043, 0.8326018544141622, 0.666524611793345, 0.8639893401445244, 0.8522533778916486, 0.7260469453334005, 0.8242342713380824, 0.8757254169192885, 0.8420708427132879, 0.872467922377734, 0.8444755985024868, 0.8534594061727357, 0.7931711479234276, 0.851387018507024, 0.8455097542892547, 0.8750699234863237, 0.8560474690627042, 0.8568419128152511, 0.8441908982535621, 0.8708231400610119, 0.8733524816790323]}, {\"categories\": [\"0\", \"2\", \"4\", \"7\", \"10\", \"12\", \"16\", \"18\", \"20\", \"21\", \"22\", \"24\", \"25\", \"26\", \"27\", \"28\", \"30\", \"31\", \"32\", \"33\", \"35\"], \"mode\": \"lines\", \"name\": \"weighted_accuracy_max\", \"stepped\": true, \"type\": \"scatter\", \"data\": [0.8721435014988043, 0.8721435014988043, 0.8721435014988043, 0.8721435014988043, 0.8721435014988043, 0.8721435014988043, 0.8721435014988043, 0.8757254169192885, 0.8757254169192885, 0.8757254169192885, 0.8757254169192885, 0.8757254169192885, 0.8757254169192885, 0.8757254169192885, 0.8757254169192885, 0.8757254169192885, 0.8757254169192885, 0.8757254169192885, 0.8757254169192885, 0.8757254169192885, 0.8757254169192885]}], \"recall_score_weighted\": [{\"categories\": [\"0\", \"2\", \"4\", \"7\", \"10\", \"12\", \"16\", \"18\", \"20\", \"21\", \"22\", \"24\", \"25\", \"26\", \"27\", \"28\", \"30\", \"31\", \"32\", \"33\", \"35\"], \"mode\": \"markers\", \"name\": \"recall_score_weighted\", \"stepped\": false, \"type\": \"scatter\", \"data\": [0.8526436781609196, 0.8257471264367815, 0.622183908045977, 0.8126436781609195, 0.825977011494253, 0.7419540229885058, 0.7658620689655172, 0.859425287356322, 0.8191954022988505, 0.8526436781609196, 0.8328735632183909, 0.8328735632183909, 0.6791954022988507, 0.8325287356321839, 0.8027586206896553, 0.8529885057471264, 0.8326436781609197, 0.852528735632184, 0.8128735632183908, 0.8495402298850575, 0.859425287356322]}, {\"categories\": [\"0\", \"2\", \"4\", \"7\", \"10\", \"12\", \"16\", \"18\", \"20\", \"21\", \"22\", \"24\", \"25\", \"26\", \"27\", \"28\", \"30\", \"31\", \"32\", \"33\", \"35\"], \"mode\": \"lines\", \"name\": \"recall_score_weighted_max\", \"stepped\": true, \"type\": \"scatter\", \"data\": [0.8526436781609196, 0.8526436781609196, 0.8526436781609196, 0.8526436781609196, 0.8526436781609196, 0.8526436781609196, 0.8526436781609196, 0.859425287356322, 0.859425287356322, 0.859425287356322, 0.859425287356322, 0.859425287356322, 0.859425287356322, 0.859425287356322, 0.859425287356322, 0.859425287356322, 0.859425287356322, 0.859425287356322, 0.859425287356322, 0.859425287356322, 0.859425287356322]}], \"f1_score_weighted\": [{\"categories\": [\"0\", \"2\", \"4\", \"7\", \"10\", \"12\", \"16\", \"18\", \"20\", \"21\", \"22\", \"24\", \"25\", \"26\", \"27\", \"28\", \"30\", \"31\", \"32\", \"33\", \"35\"], \"mode\": \"markers\", \"name\": \"f1_score_weighted\", \"stepped\": false, \"type\": \"scatter\", \"data\": [0.8495734967583646, 0.8286219809267841, 0.6060215955909589, 0.7946244169564667, 0.8203961243214014, 0.7523124590883534, 0.7414592889700058, 0.8562508321263944, 0.8150813374381066, 0.8493712403573029, 0.831680554926008, 0.827960352839342, 0.5534120288954022, 0.8302446826212707, 0.7905147924958048, 0.8493133970569267, 0.827107622023288, 0.8538105276620067, 0.807491768428107, 0.8455953331318773, 0.856949206977603]}, {\"categories\": [\"0\", \"2\", \"4\", \"7\", \"10\", \"12\", \"16\", \"18\", \"20\", \"21\", \"22\", \"24\", \"25\", \"26\", \"27\", \"28\", \"30\", \"31\", \"32\", \"33\", \"35\"], \"mode\": \"lines\", \"name\": \"f1_score_weighted_max\", \"stepped\": true, \"type\": \"scatter\", \"data\": [0.8495734967583646, 0.8495734967583646, 0.8495734967583646, 0.8495734967583646, 0.8495734967583646, 0.8495734967583646, 0.8495734967583646, 0.8562508321263944, 0.8562508321263944, 0.8562508321263944, 0.8562508321263944, 0.8562508321263944, 0.8562508321263944, 0.8562508321263944, 0.8562508321263944, 0.8562508321263944, 0.8562508321263944, 0.8562508321263944, 0.8562508321263944, 0.8562508321263944, 0.856949206977603]}], \"log_loss\": [{\"categories\": [\"0\", \"2\", \"4\", \"7\", \"10\", \"12\", \"16\", \"18\", \"20\", \"21\", \"22\", \"24\", \"25\", \"26\", \"27\", \"28\", \"30\", \"31\", \"32\", \"33\", \"35\"], \"mode\": \"markers\", \"name\": \"log_loss\", \"stepped\": false, \"type\": \"scatter\", \"data\": [0.4598848075595511, 0.5366044952587311, 2.4047421018729027, 0.47443317240227384, 0.3824302945389485, 0.5008760796772892, 1.2827620632333787, 0.36241666896158364, 0.4314653463367126, 0.3707409741784044, 0.40235141077702863, 0.4371359768889257, 0.6322413035134712, 0.38867610656007107, 0.5629199930186023, 0.4221451604115229, 0.38817870182730063, 0.5235294333798719, 0.42460937662828424, 0.37618692658672004, 0.3716032139643938]}, {\"categories\": [\"0\", \"2\", \"4\", \"7\", \"10\", \"12\", \"16\", \"18\", \"20\", \"21\", \"22\", \"24\", \"25\", \"26\", \"27\", \"28\", \"30\", \"31\", \"32\", \"33\", \"35\"], \"mode\": \"lines\", \"name\": \"log_loss_min\", \"stepped\": true, \"type\": \"scatter\", \"data\": [0.4598848075595511, 0.4598848075595511, 0.4598848075595511, 0.4598848075595511, 0.3824302945389485, 0.3824302945389485, 0.3824302945389485, 0.36241666896158364, 0.36241666896158364, 0.36241666896158364, 0.36241666896158364, 0.36241666896158364, 0.36241666896158364, 0.36241666896158364, 0.36241666896158364, 0.36241666896158364, 0.36241666896158364, 0.36241666896158364, 0.36241666896158364, 0.36241666896158364, 0.36241666896158364]}], \"AUC_weighted\": [{\"categories\": [\"0\", \"2\", \"4\", \"7\", \"10\", \"12\", \"16\", \"18\", \"20\", \"21\", \"22\", \"24\", \"25\", \"26\", \"27\", \"28\", \"30\", \"31\", \"32\", \"33\", \"35\"], \"mode\": \"markers\", \"name\": \"AUC_weighted\", \"stepped\": false, \"type\": \"scatter\", \"data\": [0.8952333600250076, 0.870484593510566, 0.5165883922311267, 0.892313706092196, 0.896011277094801, 0.8618047728841207, 0.7464011599733854, 0.8995984982493563, 0.8643678111065982, 0.9061160855173727, 0.8951168449505404, 0.8918636817394827, 0.5, 0.8992163492421215, 0.8958417605002845, 0.9021271796916535, 0.8980363016814105, 0.8964083562826698, 0.8693323501441352, 0.9117078748969482, 0.9047509980484808]}, {\"categories\": [\"0\", \"2\", \"4\", \"7\", \"10\", \"12\", \"16\", \"18\", \"20\", \"21\", \"22\", \"24\", \"25\", \"26\", \"27\", \"28\", \"30\", \"31\", \"32\", \"33\", \"35\"], \"mode\": \"lines\", \"name\": \"AUC_weighted_max\", \"stepped\": true, \"type\": \"scatter\", \"data\": [0.8952333600250076, 0.8952333600250076, 0.8952333600250076, 0.8952333600250076, 0.896011277094801, 0.896011277094801, 0.896011277094801, 0.8995984982493563, 0.8995984982493563, 0.9061160855173727, 0.9061160855173727, 0.9061160855173727, 0.9061160855173727, 0.9061160855173727, 0.9061160855173727, 0.9061160855173727, 0.9061160855173727, 0.9061160855173727, 0.9061160855173727, 0.9117078748969482, 0.9117078748969482]}], \"precision_score_weighted\": [{\"categories\": [\"0\", \"2\", \"4\", \"7\", \"10\", \"12\", \"16\", \"18\", \"20\", \"21\", \"22\", \"24\", \"25\", \"26\", \"27\", \"28\", \"30\", \"31\", \"32\", \"33\", \"35\"], \"mode\": \"markers\", \"name\": \"precision_score_weighted\", \"stepped\": false, \"type\": \"scatter\", \"data\": [0.8605602523953744, 0.8423007267505239, 0.6243793794245067, 0.8260629524981098, 0.8434931815477542, 0.8060417721352385, 0.7784834739122095, 0.8757885426476395, 0.8396637124448711, 0.8609835152076531, 0.8484553493335933, 0.8541516513900718, 0.47055053507728895, 0.8444399598541278, 0.8141265855167654, 0.8663265339913016, 0.8447096662707608, 0.8685826129570211, 0.8235140511851595, 0.8581747683352763, 0.873923813276512]}, {\"categories\": [\"0\", \"2\", \"4\", \"7\", \"10\", \"12\", \"16\", \"18\", \"20\", \"21\", \"22\", \"24\", \"25\", \"26\", \"27\", \"28\", \"30\", \"31\", \"32\", \"33\", \"35\"], \"mode\": \"lines\", \"name\": \"precision_score_weighted_max\", \"stepped\": true, \"type\": \"scatter\", \"data\": [0.8605602523953744, 0.8605602523953744, 0.8605602523953744, 0.8605602523953744, 0.8605602523953744, 0.8605602523953744, 0.8605602523953744, 0.8757885426476395, 0.8757885426476395, 0.8757885426476395, 0.8757885426476395, 0.8757885426476395, 0.8757885426476395, 0.8757885426476395, 0.8757885426476395, 0.8757885426476395, 0.8757885426476395, 0.8757885426476395, 0.8757885426476395, 0.8757885426476395, 0.8757885426476395]}], \"accuracy\": [{\"categories\": [\"0\", \"2\", \"4\", \"7\", \"10\", \"12\", \"16\", \"18\", \"20\", \"21\", \"22\", \"24\", \"25\", \"26\", \"27\", \"28\", \"30\", \"31\", \"32\", \"33\", \"35\"], \"mode\": \"markers\", \"name\": \"accuracy\", \"stepped\": false, \"type\": \"scatter\", \"data\": [0.8526436781609196, 0.8257471264367815, 0.622183908045977, 0.8126436781609195, 0.825977011494253, 0.7419540229885058, 0.7658620689655172, 0.859425287356322, 0.8191954022988505, 0.8526436781609196, 0.8328735632183909, 0.8328735632183909, 0.6791954022988507, 0.8325287356321839, 0.8027586206896553, 0.8529885057471264, 0.8326436781609197, 0.852528735632184, 0.8128735632183908, 0.8495402298850575, 0.859425287356322]}, {\"categories\": [\"0\", \"2\", \"4\", \"7\", \"10\", \"12\", \"16\", \"18\", \"20\", \"21\", \"22\", \"24\", \"25\", \"26\", \"27\", \"28\", \"30\", \"31\", \"32\", \"33\", \"35\"], \"mode\": \"lines\", \"name\": \"accuracy_max\", \"stepped\": true, \"type\": \"scatter\", \"data\": [0.8526436781609196, 0.8526436781609196, 0.8526436781609196, 0.8526436781609196, 0.8526436781609196, 0.8526436781609196, 0.8526436781609196, 0.859425287356322, 0.859425287356322, 0.859425287356322, 0.859425287356322, 0.859425287356322, 0.859425287356322, 0.859425287356322, 0.859425287356322, 0.859425287356322, 0.859425287356322, 0.859425287356322, 0.859425287356322, 0.859425287356322, 0.859425287356322]}]}, \"metricName\": null, \"primaryMetricName\": \"accuracy\", \"showLegend\": false}, \"run_metrics\": [{\"name\": \"experiment_status\", \"run_id\": \"AutoML_6b718489-5b88-4846-b544-883018174de8\", \"categories\": [0, 1, 2, 3, 4, 5, 6, 7, 8, 9, 10, 11, 12, 13], \"series\": [{\"data\": [\"DatasetEvaluation\", \"FeaturesGeneration\", \"DatasetFeaturization\", \"DatasetFeaturizationCompleted\", \"DatasetCrossValidationSplit\", \"ModelSelection\", \"BestRunExplainModel\", \"ModelExplanationDataSetSetup\", \"PickSurrogateModel\", \"EngineeredFeatureExplanations\", \"EngineeredFeatureExplanations\", \"RawFeaturesExplanations\", \"RawFeaturesExplanations\", \"BestRunExplainModel\"]}]}, {\"name\": \"experiment_status_description\", \"run_id\": \"AutoML_6b718489-5b88-4846-b544-883018174de8\", \"categories\": [0, 1, 2, 3, 4, 5, 6, 7, 8, 9, 10, 11, 12, 13], \"series\": [{\"data\": [\"Gathering dataset statistics.\", \"Generating features for the dataset.\", \"Beginning to fit featurizers and featurize the dataset.\", \"Completed fit featurizers and featurizing the dataset.\", \"Generating individually featurized CV splits.\", \"Beginning model selection.\", \"Best run model explanations started\", \"Model explanations data setup completed\", \"Choosing LightGBM as the surrogate model for explanations\", \"Computation of engineered features started\", \"Computation of engineered features completed\", \"Computation of raw features started\", \"Computation of raw features completed\", \"Best run model explanations completed\"]}]}, {\"name\": \"average_precision_score_micro\", \"run_id\": \"AutoML_6b718489-5b88-4846-b544-883018174de8\", \"categories\": [0], \"series\": [{\"data\": [0.9246408548633764]}]}, {\"name\": \"precision_score_weighted\", \"run_id\": \"AutoML_6b718489-5b88-4846-b544-883018174de8\", \"categories\": [0], \"series\": [{\"data\": [0.91093294759824]}]}, {\"name\": \"weighted_accuracy\", \"run_id\": \"AutoML_6b718489-5b88-4846-b544-883018174de8\", \"categories\": [0], \"series\": [{\"data\": [0.9115690257261072]}]}, {\"name\": \"balanced_accuracy\", \"run_id\": \"AutoML_6b718489-5b88-4846-b544-883018174de8\", \"categories\": [0], \"series\": [{\"data\": [0.8722086094683348]}]}, {\"name\": \"precision_score_macro\", \"run_id\": \"AutoML_6b718489-5b88-4846-b544-883018174de8\", \"categories\": [0], \"series\": [{\"data\": [0.9040411790726436]}]}, {\"name\": \"recall_score_weighted\", \"run_id\": \"AutoML_6b718489-5b88-4846-b544-883018174de8\", \"categories\": [0], \"series\": [{\"data\": [0.8964367816091954]}]}, {\"name\": \"AUC_micro\", \"run_id\": \"AutoML_6b718489-5b88-4846-b544-883018174de8\", \"categories\": [0], \"series\": [{\"data\": [0.9211677896683842]}]}, {\"name\": \"accuracy\", \"run_id\": \"AutoML_6b718489-5b88-4846-b544-883018174de8\", \"categories\": [0], \"series\": [{\"data\": [0.8964367816091954]}]}, {\"name\": \"f1_score_micro\", \"run_id\": \"AutoML_6b718489-5b88-4846-b544-883018174de8\", \"categories\": [0], \"series\": [{\"data\": [0.8964367816091954]}]}, {\"name\": \"f1_score_macro\", \"run_id\": \"AutoML_6b718489-5b88-4846-b544-883018174de8\", \"categories\": [0], \"series\": [{\"data\": [0.8760923514762438]}]}, {\"name\": \"AUC_macro\", \"run_id\": \"AutoML_6b718489-5b88-4846-b544-883018174de8\", \"categories\": [0], \"series\": [{\"data\": [0.9167654407758526]}]}, {\"name\": \"norm_macro_recall\", \"run_id\": \"AutoML_6b718489-5b88-4846-b544-883018174de8\", \"categories\": [0], \"series\": [{\"data\": [0.7444172189366698]}]}, {\"name\": \"average_precision_score_macro\", \"run_id\": \"AutoML_6b718489-5b88-4846-b544-883018174de8\", \"categories\": [0], \"series\": [{\"data\": [0.9064557466604016]}]}, {\"name\": \"log_loss\", \"run_id\": \"AutoML_6b718489-5b88-4846-b544-883018174de8\", \"categories\": [0], \"series\": [{\"data\": [0.3886299135499442]}]}, {\"name\": \"precision_score_micro\", \"run_id\": \"AutoML_6b718489-5b88-4846-b544-883018174de8\", \"categories\": [0], \"series\": [{\"data\": [0.8964367816091954]}]}, {\"name\": \"average_precision_score_weighted\", \"run_id\": \"AutoML_6b718489-5b88-4846-b544-883018174de8\", \"categories\": [0], \"series\": [{\"data\": [0.9279168952288946]}]}, {\"name\": \"matthews_correlation\", \"run_id\": \"AutoML_6b718489-5b88-4846-b544-883018174de8\", \"categories\": [0], \"series\": [{\"data\": [0.7733091075113918]}]}, {\"name\": \"recall_score_macro\", \"run_id\": \"AutoML_6b718489-5b88-4846-b544-883018174de8\", \"categories\": [0], \"series\": [{\"data\": [0.8722086094683348]}]}, {\"name\": \"f1_score_weighted\", \"run_id\": \"AutoML_6b718489-5b88-4846-b544-883018174de8\", \"categories\": [0], \"series\": [{\"data\": [0.8937583689557579]}]}, {\"name\": \"AUC_weighted\", \"run_id\": \"AutoML_6b718489-5b88-4846-b544-883018174de8\", \"categories\": [0], \"series\": [{\"data\": [0.9167654407758526]}]}, {\"name\": \"recall_score_micro\", \"run_id\": \"AutoML_6b718489-5b88-4846-b544-883018174de8\", \"categories\": [0], \"series\": [{\"data\": [0.8964367816091954]}]}], \"run_logs\": \"\\nRun is completed.\", \"graph\": {}, \"widget_settings\": {\"childWidgetDisplay\": \"popup\", \"send_telemetry\": false, \"log_level\": \"INFO\", \"sdk_version\": \"1.49.0\"}, \"loading\": false}"
     },
     "metadata": {},
     "output_type": "display_data"
    },
    {
     "data": {
      "text/plain": [
       "{'runId': 'AutoML_6b718489-5b88-4846-b544-883018174de8',\n",
       " 'target': 'heart-failure-compute',\n",
       " 'status': 'Completed',\n",
       " 'startTimeUtc': '2023-07-14T08:44:20.468144Z',\n",
       " 'endTimeUtc': '2023-07-14T08:59:44.747852Z',\n",
       " 'services': {},\n",
       " 'warnings': [{'source': 'JasmineService',\n",
       "   'message': 'No scores improved over last 10 iterations, so experiment stopped early. This early stopping behavior can be disabled by setting enable_early_stopping = False in AutoMLConfig for notebook/python SDK runs.'}],\n",
       " 'properties': {'num_iterations': '1000',\n",
       "  'training_type': 'TrainFull',\n",
       "  'acquisition_function': 'EI',\n",
       "  'primary_metric': 'accuracy',\n",
       "  'train_split': '0',\n",
       "  'acquisition_parameter': '0',\n",
       "  'num_cross_validation': None,\n",
       "  'target': 'heart-failure-compute',\n",
       "  'AMLSettingsJsonString': '{\"path\":null,\"name\":\"heart-failure-autml\",\"subscription_id\":\"976ee174-3882-4721-b90a-b5fef6b72f24\",\"resource_group\":\"aml-quickstarts-238676\",\"workspace_name\":\"quick-starts-ws-238676\",\"region\":\"westeurope\",\"compute_target\":\"heart-failure-compute\",\"spark_service\":null,\"azure_service\":\"remote\",\"many_models\":false,\"pipeline_fetch_max_batch_size\":1,\"enable_batch_run\":true,\"enable_parallel_run\":false,\"num_procs\":null,\"enable_run_restructure\":false,\"start_auxiliary_runs_before_parent_complete\":false,\"enable_code_generation\":true,\"iterations\":1000,\"primary_metric\":\"accuracy\",\"task_type\":\"classification\",\"positive_label\":null,\"data_script\":null,\"test_size\":0.0,\"test_include_predictions_only\":false,\"validation_size\":0.0,\"n_cross_validations\":null,\"y_min\":null,\"y_max\":null,\"num_classes\":null,\"featurization\":\"auto\",\"_ignore_package_version_incompatibilities\":false,\"is_timeseries\":false,\"max_cores_per_iteration\":1,\"max_concurrent_iterations\":3,\"iteration_timeout_minutes\":null,\"mem_in_mb\":null,\"enforce_time_on_windows\":false,\"experiment_timeout_minutes\":20,\"experiment_exit_score\":null,\"partition_column_names\":null,\"whitelist_models\":null,\"blacklist_algos\":[\"TensorFlowLinearClassifier\",\"TensorFlowDNN\"],\"supported_models\":[\"SGD\",\"DecisionTree\",\"ExtremeRandomTrees\",\"MultinomialNaiveBayes\",\"LightGBM\",\"XGBoostClassifier\",\"RandomForest\",\"TensorFlowDNN\",\"LinearSVM\",\"KNN\",\"BernoulliNaiveBayes\",\"AveragedPerceptronClassifier\",\"TabnetClassifier\",\"SVM\",\"LogisticRegression\",\"TensorFlowLinearClassifier\",\"GradientBoosting\"],\"private_models\":[],\"auto_blacklist\":true,\"blacklist_samples_reached\":false,\"exclude_nan_labels\":true,\"verbosity\":20,\"_debug_log\":\"azureml_automl.log\",\"show_warnings\":false,\"model_explainability\":true,\"service_url\":null,\"sdk_url\":null,\"sdk_packages\":null,\"enable_onnx_compatible_models\":false,\"enable_split_onnx_featurizer_estimator_models\":false,\"vm_type\":\"STANDARD_D2_V2\",\"telemetry_verbosity\":20,\"send_telemetry\":true,\"enable_dnn\":false,\"scenario\":\"AutoML\",\"environment_label\":null,\"save_mlflow\":false,\"enable_categorical_indicators\":false,\"force_text_dnn\":false,\"enable_feature_sweeping\":true,\"enable_early_stopping\":true,\"early_stopping_n_iters\":10,\"arguments\":null,\"dataset_id\":\"6b0b677e-8899-49e6-bb85-c5e1c503e0d5\",\"hyperdrive_config\":null,\"validation_dataset_id\":null,\"run_source\":null,\"metrics\":null,\"enable_metric_confidence\":false,\"enable_ensembling\":true,\"enable_stack_ensembling\":true,\"ensemble_iterations\":15,\"enable_tf\":false,\"enable_subsampling\":null,\"subsample_seed\":null,\"enable_nimbusml\":false,\"enable_streaming\":false,\"force_streaming\":false,\"track_child_runs\":true,\"n_best_runs\":1,\"allowed_private_models\":[],\"label_column_name\":\"DEATH_EVENT\",\"weight_column_name\":null,\"cv_split_column_names\":null,\"enable_local_managed\":false,\"_local_managed_run_id\":null,\"cost_mode\":1,\"lag_length\":0,\"metric_operation\":\"maximize\",\"preprocess\":true}',\n",
       "  'DataPrepJsonString': '{\\\\\"training_data\\\\\": {\\\\\"datasetId\\\\\": \\\\\"6b0b677e-8899-49e6-bb85-c5e1c503e0d5\\\\\"}, \\\\\"datasets\\\\\": 0}',\n",
       "  'EnableSubsampling': None,\n",
       "  'runTemplate': 'AutoML',\n",
       "  'azureml.runsource': 'automl',\n",
       "  'display_task_type': 'classification',\n",
       "  'dependencies_versions': '{\"azureml-widgets\": \"1.49.0\", \"azureml-training-tabular\": \"1.49.0\", \"azureml-train\": \"1.49.0\", \"azureml-train-restclients-hyperdrive\": \"1.49.0\", \"azureml-train-core\": \"1.49.0\", \"azureml-train-automl\": \"1.49.0\", \"azureml-train-automl-runtime\": \"1.49.0\", \"azureml-train-automl-client\": \"1.49.0\", \"azureml-tensorboard\": \"1.49.0\", \"azureml-telemetry\": \"1.49.0\", \"azureml-sdk\": \"1.49.0\", \"azureml-responsibleai\": \"1.49.0\", \"azureml-pipeline\": \"1.49.0\", \"azureml-pipeline-steps\": \"1.49.0\", \"azureml-pipeline-core\": \"1.49.0\", \"azureml-opendatasets\": \"1.49.0\", \"azureml-mlflow\": \"1.49.0\", \"azureml-interpret\": \"1.49.0\", \"azureml-inference-server-http\": \"0.8.0\", \"azureml-explain-model\": \"1.49.0\", \"azureml-defaults\": \"1.49.0\", \"azureml-dataset-runtime\": \"1.49.0\", \"azureml-dataprep\": \"4.9.1\", \"azureml-dataprep-rslex\": \"2.16.1\", \"azureml-dataprep-native\": \"38.0.0\", \"azureml-datadrift\": \"1.49.0\", \"azureml-core\": \"1.49.0\", \"azureml-contrib-services\": \"1.49.0\", \"azureml-contrib-server\": \"1.49.0\", \"azureml-contrib-reinforcementlearning\": \"1.49.0\", \"azureml-contrib-pipeline-steps\": \"1.49.0\", \"azureml-contrib-notebook\": \"1.49.0\", \"azureml-contrib-fairness\": \"1.49.0\", \"azureml-contrib-dataset\": \"1.49.0\", \"azureml-contrib-automl-pipeline-steps\": \"1.49.0\", \"azureml-cli-common\": \"1.49.0\", \"azureml-automl-runtime\": \"1.49.0\", \"azureml-automl-dnn-nlp\": \"1.49.0\", \"azureml-automl-core\": \"1.49.0\", \"azureml-accel-models\": \"1.49.0\"}',\n",
       "  '_aml_system_scenario_identification': 'Remote.Parent',\n",
       "  'ClientType': 'SDK',\n",
       "  'PlatformVersion': 'DPV1',\n",
       "  'environment_cpu_name': 'AzureML-AutoML',\n",
       "  'environment_cpu_label': 'prod',\n",
       "  'environment_gpu_name': 'AzureML-AutoML-GPU',\n",
       "  'environment_gpu_label': 'prod',\n",
       "  'root_attribution': 'automl',\n",
       "  'attribution': 'AutoML',\n",
       "  'Orchestrator': 'AutoML',\n",
       "  'CancelUri': 'https://westeurope.api.azureml.ms/jasmine/v1.0/subscriptions/976ee174-3882-4721-b90a-b5fef6b72f24/resourceGroups/aml-quickstarts-238676/providers/Microsoft.MachineLearningServices/workspaces/quick-starts-ws-238676/experimentids/4e01edbc-0d1a-48db-b47c-60c877baeca4/cancel/AutoML_6b718489-5b88-4846-b544-883018174de8',\n",
       "  'ClientSdkVersion': None,\n",
       "  'snapshotId': '00000000-0000-0000-0000-000000000000',\n",
       "  'SetupRunId': 'AutoML_6b718489-5b88-4846-b544-883018174de8_setup',\n",
       "  'SetupRunContainerId': 'dcid.AutoML_6b718489-5b88-4846-b544-883018174de8_setup',\n",
       "  'FeaturizationRunJsonPath': 'featurizer_container.json',\n",
       "  'FeaturizationRunId': 'AutoML_6b718489-5b88-4846-b544-883018174de8_featurize',\n",
       "  'ProblemInfoJsonString': '{\"dataset_num_categorical\": 0, \"is_sparse\": false, \"subsampling\": false, \"has_extra_col\": true, \"dataset_classes\": 2, \"dataset_features\": 12, \"dataset_samples\": 299, \"single_frequency_class_detected\": false}',\n",
       "  'ModelExplainRunId': 'AutoML_6b718489-5b88-4846-b544-883018174de8_ModelExplain'},\n",
       " 'inputDatasets': [{'dataset': {'id': '6b0b677e-8899-49e6-bb85-c5e1c503e0d5'}, 'consumptionDetails': {'type': 'RunInput', 'inputName': 'training_data', 'mechanism': 'Direct'}}],\n",
       " 'outputDatasets': [{'identifier': {'savedId': '24741c94-3ac9-473b-95df-f3b54d1efa5c'},\n",
       "   'outputType': 'RunOutput',\n",
       "   'outputDetails': {'outputName': 'full_training_dataset'},\n",
       "   'dataset': {\n",
       "     \"source\": [\n",
       "       \"('workspaceartifactstore', 'ExperimentRun/dcid.AutoML_6b718489-5b88-4846-b544-883018174de8/outputs/featurization/data/full_training_dataset.df.parquet')\"\n",
       "     ],\n",
       "     \"definition\": [\n",
       "       \"GetDatastoreFiles\",\n",
       "       \"ReadParquetFile\",\n",
       "       \"DropColumns\"\n",
       "     ],\n",
       "     \"registration\": {\n",
       "       \"id\": \"24741c94-3ac9-473b-95df-f3b54d1efa5c\",\n",
       "       \"name\": null,\n",
       "       \"version\": null,\n",
       "       \"workspace\": \"Workspace.create(name='quick-starts-ws-238676', subscription_id='976ee174-3882-4721-b90a-b5fef6b72f24', resource_group='aml-quickstarts-238676')\"\n",
       "     }\n",
       "   }}],\n",
       " 'logFiles': {},\n",
       " 'submittedBy': 'ODL_User 238676'}"
      ]
     },
     "execution_count": 13,
     "metadata": {},
     "output_type": "execute_result"
    }
   ],
   "source": [
    "RunDetails(remote_run).show()\n",
    "remote_run.wait_for_completion()"
   ]
  },
  {
   "cell_type": "markdown",
   "metadata": {},
   "source": [
    "## Best Model"
   ]
  },
  {
   "cell_type": "code",
   "execution_count": 14,
   "metadata": {
    "collapsed": false,
    "gather": {
     "logged": 1598431425670
    },
    "jupyter": {
     "outputs_hidden": false,
     "source_hidden": false
    },
    "nteract": {
     "transient": {
      "deleting": false
     }
    }
   },
   "outputs": [
    {
     "name": "stderr",
     "output_type": "stream",
     "text": [
      "WARNING:root:The version of the SDK does not match the version the model was trained on.\n",
      "WARNING:root:The consistency in the result may not be guaranteed.\n",
      "WARNING:root:Package:azureml-automl-core, training version:1.51.0.post1, current version:1.49.0\n",
      "Package:azureml-automl-runtime, training version:1.51.0.post2, current version:1.49.0\n",
      "Package:azureml-core, training version:1.51.0, current version:1.49.0\n",
      "Package:azureml-dataprep, training version:4.10.8, current version:4.9.1\n",
      "Package:azureml-dataprep-rslex, training version:2.17.12, current version:2.16.1\n",
      "Package:azureml-dataset-runtime, training version:1.51.0, current version:1.49.0\n",
      "Package:azureml-defaults, training version:1.51.0, current version:1.49.0\n",
      "Package:azureml-interpret, training version:1.51.0, current version:1.49.0\n",
      "Package:azureml-mlflow, training version:1.51.0, current version:1.49.0\n",
      "Package:azureml-pipeline-core, training version:1.51.0, current version:1.49.0\n",
      "Package:azureml-responsibleai, training version:1.51.0, current version:1.49.0\n",
      "Package:azureml-telemetry, training version:1.51.0, current version:1.49.0\n",
      "Package:azureml-train-automl-client, training version:1.51.0.post1, current version:1.49.0\n",
      "Package:azureml-train-automl-runtime, training version:1.51.0.post2, current version:1.49.0\n",
      "Package:azureml-train-core, training version:1.51.0, current version:1.49.0\n",
      "Package:azureml-train-restclients-hyperdrive, training version:1.51.0, current version:1.49.0\n",
      "Package:azureml-training-tabular, training version:1.51.0.post1, current version:1.49.0\n",
      "WARNING:root:Please ensure the version of your local conda dependencies match the version on which your model was trained in order to properly retrieve your model.\n"
     ]
    }
   ],
   "source": [
    "best_model, model = remote_run.get_output()"
   ]
  },
  {
   "cell_type": "code",
   "execution_count": 15,
   "metadata": {},
   "outputs": [
    {
     "data": {
      "text/plain": [
       "{'recall_score_micro': 0.8964367816091954,\n",
       " 'AUC_weighted': 0.9167654407758526,\n",
       " 'f1_score_weighted': 0.8937583689557579,\n",
       " 'average_precision_score_weighted': 0.9279168952288946,\n",
       " 'AUC_micro': 0.9211677896683842,\n",
       " 'average_precision_score_macro': 0.9064557466604016,\n",
       " 'matthews_correlation': 0.7733091075113918,\n",
       " 'f1_score_micro': 0.8964367816091954,\n",
       " 'weighted_accuracy': 0.9115690257261072,\n",
       " 'accuracy': 0.8964367816091954,\n",
       " 'recall_score_macro': 0.8722086094683348,\n",
       " 'balanced_accuracy': 0.8722086094683348,\n",
       " 'AUC_macro': 0.9167654407758526,\n",
       " 'average_precision_score_micro': 0.9246408548633764,\n",
       " 'precision_score_weighted': 0.91093294759824,\n",
       " 'log_loss': 0.3886299135499442,\n",
       " 'precision_score_micro': 0.8964367816091954,\n",
       " 'recall_score_weighted': 0.8964367816091954,\n",
       " 'precision_score_macro': 0.9040411790726436,\n",
       " 'f1_score_macro': 0.8760923514762438,\n",
       " 'norm_macro_recall': 0.7444172189366698,\n",
       " 'accuracy_table': 'aml://artifactId/ExperimentRun/dcid.AutoML_6b718489-5b88-4846-b544-883018174de8_34/accuracy_table',\n",
       " 'confusion_matrix': 'aml://artifactId/ExperimentRun/dcid.AutoML_6b718489-5b88-4846-b544-883018174de8_34/confusion_matrix'}"
      ]
     },
     "execution_count": 15,
     "metadata": {},
     "output_type": "execute_result"
    }
   ],
   "source": [
    "best_model.get_metrics()"
   ]
  },
  {
   "cell_type": "code",
   "execution_count": 16,
   "metadata": {},
   "outputs": [
    {
     "data": {
      "text/plain": [
       "[('datatransformer',\n",
       "  DataTransformer(enable_dnn=False, enable_feature_sweeping=True, feature_sweeping_config={}, feature_sweeping_timeout=86400, featurization_config=None, force_text_dnn=False, is_cross_validation=True, is_onnx_compatible=False, task='classification')),\n",
       " ('prefittedsoftvotingclassifier',\n",
       "  PreFittedSoftVotingClassifier(classification_labels=numpy.array([0, 1]), estimators=[('18', Pipeline(memory=None, steps=[('standardscalerwrapper', StandardScalerWrapper(copy=True, with_mean=False, with_std=False)), ('xgboostclassifier', XGBoostClassifier(booster='gbtree', colsample_bytree=0.5, eta=0.5, gamma=0, max_depth=6, max_leaves=3, n_estimators=10, n_jobs=1, objective='reg:logistic', problem_info=ProblemInfo(gpu_training_param_dict={'processing_unit_type': 'cpu'}), random_state=0, reg_alpha=0.7291666666666667, reg_lambda=2.3958333333333335, subsample=0.8, tree_method='auto'))], verbose=False)), ('28', Pipeline(memory=None, steps=[('sparsenormalizer', Normalizer(copy=True, norm='l1')), ('xgboostclassifier', XGBoostClassifier(booster='gbtree', colsample_bylevel=1, colsample_bytree=1, eta=0.5, gamma=0.01, max_depth=7, max_leaves=15, n_estimators=100, n_jobs=1, objective='reg:logistic', problem_info=ProblemInfo(gpu_training_param_dict={'processing_unit_type': 'cpu'}), random_state=0, reg_alpha=0.5208333333333334, reg_lambda=2.291666666666667, subsample=1, tree_method='auto'))], verbose=False)), ('21', Pipeline(memory=None, steps=[('standardscalerwrapper', StandardScalerWrapper(copy=True, with_mean=False, with_std=False)), ('xgboostclassifier', XGBoostClassifier(booster='gbtree', colsample_bytree=1, eta=0.3, gamma=0, max_depth=10, max_leaves=511, n_estimators=10, n_jobs=1, objective='reg:logistic', problem_info=ProblemInfo(gpu_training_param_dict={'processing_unit_type': 'cpu'}), random_state=0, reg_alpha=2.1875, reg_lambda=0.4166666666666667, subsample=0.5, tree_method='auto'))], verbose=False)), ('0', Pipeline(memory=None, steps=[('maxabsscaler', MaxAbsScaler(copy=True)), ('lightgbmclassifier', LightGBMClassifier(min_data_in_leaf=20, n_jobs=1, problem_info=ProblemInfo(gpu_training_param_dict={'processing_unit_type': 'cpu'}), random_state=None))], verbose=False)), ('31', Pipeline(memory=None, steps=[('standardscalerwrapper', StandardScalerWrapper(copy=True, with_mean=False, with_std=False)), ('randomforestclassifier', RandomForestClassifier(bootstrap=True, ccp_alpha=0.0, class_weight='balanced', criterion='entropy', max_depth=None, max_features=0.05, max_leaf_nodes=None, max_samples=None, min_impurity_decrease=0.0, min_impurity_split=None, min_samples_leaf=0.035789473684210524, min_samples_split=0.10368421052631578, min_weight_fraction_leaf=0.0, n_estimators=25, n_jobs=1, oob_score=True, random_state=None, verbose=0, warm_start=False))], verbose=False)), ('8', Pipeline(memory=None, steps=[('standardscalerwrapper', StandardScalerWrapper(copy=True, with_mean=False, with_std=False)), ('kneighborsclassifier', KNeighborsClassifier(algorithm='auto', leaf_size=30, metric='l1', metric_params=None, n_jobs=1, n_neighbors=8, p=2, weights='distance'))], verbose=False)), ('24', Pipeline(memory=None, steps=[('sparsenormalizer', Normalizer(copy=True, norm='l1')), ('xgboostclassifier', XGBoostClassifier(booster='gbtree', colsample_bytree=1, eta=0.4, gamma=0.1, max_depth=10, max_leaves=127, n_estimators=50, n_jobs=1, objective='reg:logistic', problem_info=ProblemInfo(gpu_training_param_dict={'processing_unit_type': 'cpu'}), random_state=0, reg_alpha=0.8333333333333334, reg_lambda=1.1458333333333335, subsample=0.8, tree_method='auto'))], verbose=False)), ('22', Pipeline(memory=None, steps=[('sparsenormalizer', Normalizer(copy=True, norm='l2')), ('randomforestclassifier', RandomForestClassifier(bootstrap=True, ccp_alpha=0.0, class_weight='balanced', criterion='gini', max_depth=None, max_features='sqrt', max_leaf_nodes=None, max_samples=None, min_impurity_decrease=0.0, min_impurity_split=None, min_samples_leaf=0.01, min_samples_split=0.01, min_weight_fraction_leaf=0.0, n_estimators=100, n_jobs=1, oob_score=True, random_state=None, verbose=0, warm_start=False))], verbose=False))], flatten_transform=None, weights=[0.09090909090909091, 0.09090909090909091, 0.09090909090909091, 0.09090909090909091, 0.18181818181818182, 0.09090909090909091, 0.09090909090909091, 0.2727272727272727]))]"
      ]
     },
     "execution_count": 16,
     "metadata": {},
     "output_type": "execute_result"
    }
   ],
   "source": [
    "model.steps"
   ]
  },
  {
   "cell_type": "code",
   "execution_count": 19,
   "metadata": {},
   "outputs": [],
   "source": [
    "model = best_model.register_model(model_name=\"best_automl_model\", model_path=\"outputs/model.pkl\")chach"
   ]
  },
  {
   "cell_type": "code",
   "execution_count": 7,
   "metadata": {},
   "outputs": [],
   "source": [
    "model = Model(ws, \"best_automl_model\")"
   ]
  },
  {
   "cell_type": "markdown",
   "metadata": {},
   "source": [
    "## Model Deployment"
   ]
  },
  {
   "cell_type": "code",
   "execution_count": 8,
   "metadata": {
    "collapsed": false,
    "gather": {
     "logged": 1598431435189
    },
    "jupyter": {
     "outputs_hidden": false,
     "source_hidden": false
    },
    "nteract": {
     "transient": {
      "deleting": false
     }
    }
   },
   "outputs": [
    {
     "name": "stderr",
     "output_type": "stream",
     "text": [
      "Warning, custom base image or base dockerfile detected without a specified `inferencing_stack_version`. Please set environment.inferencing_stack_version='latest'\n",
      "/tmp/ipykernel_16809/107878115.py:10: FutureWarning: azureml.core.model:\n",
      "To leverage new model deployment capabilities, AzureML recommends using CLI/SDK v2 to deploy models as online endpoint, \n",
      "please refer to respective documentations \n",
      "https://docs.microsoft.com/azure/machine-learning/how-to-deploy-managed-online-endpoints /\n",
      "https://docs.microsoft.com/azure/machine-learning/how-to-attach-kubernetes-anywhere \n",
      "For more information on migration, see https://aka.ms/acimoemigration \n",
      "To disable CLI/SDK v1 deprecation warning set AZUREML_LOG_DEPRECATION_WARNING_ENABLED to 'False'\n",
      "  service = Model.deploy(ws, \"heart-failure-service\", [model], inference_config, deployment_config)\n"
     ]
    },
    {
     "name": "stdout",
     "output_type": "stream",
     "text": [
      "Tips: You can try get_logs(): https://aka.ms/debugimage#dockerlog or local deployment: https://aka.ms/debugimage#debug-locally to debug if deployment takes longer than 10 minutes.\n",
      "Running\n",
      "2023-07-14 09:18:49+00:00 Creating Container Registry if not exists.\n",
      "2023-07-14 09:18:49+00:00 Registering the environment.\n",
      "2023-07-14 09:18:50+00:00 Use the existing image.\n",
      "2023-07-14 09:18:51+00:00 Submitting deployment to compute.\n",
      "2023-07-14 09:18:57+00:00 Checking the status of deployment heart-failure-service..\n",
      "2023-07-14 09:21:04+00:00 Checking the status of inference endpoint heart-failure-service.\n",
      "Succeeded\n",
      "ACI service creation operation finished, operation \"Succeeded\"\n"
     ]
    },
    {
     "data": {
      "text/plain": [
       "'http://b32fe92c-727b-468b-98fb-f6d67df91c6a.westeurope.azurecontainer.io/score'"
      ]
     },
     "execution_count": 8,
     "metadata": {},
     "output_type": "execute_result"
    }
   ],
   "source": [
    "# Create a deployment configuration\n",
    "deployment_config = AciWebservice.deploy_configuration(cpu_cores=1, memory_gb=1)\n",
    "\n",
    "inference_env = Environment.get(ws, \"AzureML-AutoML\")\n",
    "\n",
    "# Define the inference configuration\n",
    "inference_config = InferenceConfig(entry_script=\"./score.py\", environment=inference_env)\n",
    "\n",
    "# Deploy the model to AKS\n",
    "service = Model.deploy(ws, \"heart-failure-service\", [model], inference_config, deployment_config)\n",
    "service.wait_for_deployment(show_output=True)\n",
    "service.scoring_uri"
   ]
  },
  {
   "cell_type": "code",
   "execution_count": null,
   "metadata": {
    "collapsed": false,
    "gather": {
     "logged": 1598432707604
    },
    "jupyter": {
     "outputs_hidden": false,
     "source_hidden": false
    },
    "nteract": {
     "transient": {
      "deleting": false
     }
    }
   },
   "outputs": [],
   "source": [
    "# Enable app insights\n",
    "service.update(enable_app_insights=True)\n",
    "srvice.get_logs()"
   ]
  },
  {
   "cell_type": "markdown",
   "metadata": {
    "collapsed": true,
    "gather": {
     "logged": 1598432765711
    },
    "jupyter": {
     "outputs_hidden": true,
     "source_hidden": false
    },
    "nteract": {
     "transient": {
      "deleting": false
     }
    }
   },
   "source": [
    "### Send request to model endpoint"
   ]
  },
  {
   "cell_type": "code",
   "execution_count": 9,
   "metadata": {
    "collapsed": false,
    "jupyter": {
     "outputs_hidden": false,
     "source_hidden": false
    },
    "nteract": {
     "transient": {
      "deleting": false
     }
    }
   },
   "outputs": [
    {
     "name": "stdout",
     "output_type": "stream",
     "text": [
      "b'\"{\\\\\"result\\\\\": [1]}\"'\n"
     ]
    }
   ],
   "source": [
    "import urllib.request\n",
    "import json\n",
    "import os\n",
    "import ssl\n",
    "\n",
    "def allowSelfSignedHttps(allowed):\n",
    "    # bypass the server certificate verification on client side\n",
    "    if allowed and not os.environ.get('PYTHONHTTPSVERIFY', '') and getattr(ssl, '_create_unverified_context', None):\n",
    "        ssl._create_default_https_context = ssl._create_unverified_context\n",
    "\n",
    "allowSelfSignedHttps(True) # this line is needed if you use self-signed certificate in your scoring service.\n",
    "\n",
    "# Request data goes here\n",
    "# The example below assumes JSON formatting which may be updated\n",
    "# depending on the format your endpoint expects.\n",
    "# More information can be found here:\n",
    "# https://docs.microsoft.com/azure/machine-learning/how-to-deploy-advanced-entry-script\n",
    "data =  {\n",
    "  \"data\": [\n",
    "    {\n",
    "      \"age\": 0.0,\n",
    "      \"anaemia\": 0,\n",
    "      \"creatinine_phosphokinase\": 0,\n",
    "      \"diabetes\": 0,\n",
    "      \"ejection_fraction\": 0,\n",
    "      \"high_blood_pressure\": 0,\n",
    "      \"platelets\": 0.0,\n",
    "      \"serum_creatinine\": 0.0,\n",
    "      \"serum_sodium\": 0,\n",
    "      \"sex\": 0,\n",
    "      \"smoking\": 0,\n",
    "      \"time\": 0\n",
    "    }\n",
    "  ]\n",
    "}\n",
    "\n",
    "body = str.encode(json.dumps(data))\n",
    "\n",
    "url = 'http://b32fe92c-727b-468b-98fb-f6d67df91c6a.westeurope.azurecontainer.io/score'\n",
    "\n",
    "\n",
    "headers = {'Content-Type':'application/json'}\n",
    "\n",
    "req = urllib.request.Request(url, body, headers)\n",
    "\n",
    "try:\n",
    "    response = urllib.request.urlopen(req)\n",
    "\n",
    "    result = response.read()\n",
    "    print(result)\n",
    "except urllib.error.HTTPError as error:\n",
    "    print(\"The request failed with status code: \" + str(error.code))\n",
    "\n",
    "    # Print the headers - they include the requert ID and the timestamp, which are useful for debugging the failure\n",
    "    print(error.info())\n",
    "    print(error.read().decode(\"utf8\", 'ignore'))"
   ]
  },
  {
   "cell_type": "code",
   "execution_count": null,
   "metadata": {},
   "outputs": [],
   "source": [
    "service.delete()\n",
    "cluster.delete()"
   ]
  }
 ],
 "metadata": {
  "kernel_info": {
   "name": "python38-azureml"
  },
  "kernelspec": {
   "display_name": "Python 3.8 - AzureML",
   "language": "python",
   "name": "python38-azureml"
  },
  "language_info": {
   "codemirror_mode": {
    "name": "ipython",
    "version": 3
   },
   "file_extension": ".py",
   "mimetype": "text/x-python",
   "name": "python",
   "nbconvert_exporter": "python",
   "pygments_lexer": "ipython3",
   "version": "3.8.5"
  },
  "microsoft": {
   "host": {
    "AzureML": {
     "notebookHasBeenCompleted": true
    }
   },
   "ms_spell_check": {
    "ms_spell_check_language": "en"
   }
  },
  "nteract": {
   "version": "nteract-front-end@1.0.0"
  }
 },
 "nbformat": 4,
 "nbformat_minor": 4
}
