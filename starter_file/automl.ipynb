{
 "cells": [
  {
   "cell_type": "markdown",
   "metadata": {},
   "source": [
    "# Automated ML"
   ]
  },
  {
   "cell_type": "code",
   "execution_count": 18,
   "metadata": {
    "gather": {
     "logged": 1688383246909
    },
    "jupyter": {
     "outputs_hidden": false,
     "source_hidden": false
    },
    "nteract": {
     "transient": {
      "deleting": false
     }
    }
   },
   "outputs": [],
   "source": [
    "import joblib\n",
    "\n",
    "from azureml.core import Dataset, Workspace, Experiment\n",
    "from azureml.core.compute import ComputeTarget, AmlCompute\n",
    "from azureml.core.compute_target import ComputeTargetException\n",
    "from azureml.train.automl import AutoMLConfig\n",
    "from azureml.widgets import RunDetails"
   ]
  },
  {
   "cell_type": "code",
   "execution_count": null,
   "metadata": {
    "jupyter": {
     "outputs_hidden": false,
     "source_hidden": false
    },
    "nteract": {
     "transient": {
      "deleting": false
     }
    }
   },
   "outputs": [],
   "source": [
    "ws = Workspace.from_config()\n",
    "\n",
    "# choose a name for experiment\n",
    "experiment_name = 'sleep-health-project'\n",
    "\n",
    "exp = Experiment(ws, experiment_name)"
   ]
  },
  {
   "cell_type": "code",
   "execution_count": 6,
   "metadata": {
    "gather": {
     "logged": 1688383256216
    },
    "jupyter": {
     "outputs_hidden": false,
     "source_hidden": false
    },
    "nteract": {
     "transient": {
      "deleting": false
     }
    }
   },
   "outputs": [
    {
     "name": "stdout",
     "output_type": "stream",
     "text": [
      "InProgress.\n",
      "SucceededProvisioning operation finished, operation \"Succeeded\"\n",
      "Succeeded\n",
      "AmlCompute wait for completion finished\n",
      "\n",
      "Minimum number of nodes requested have been provisioned\n"
     ]
    }
   ],
   "source": [
    "cluster_name = \"sleep-health-compute\"\n",
    "\n",
    "# Verfiy that cluster does not exist already\n",
    "try:\n",
    "    cluster = ComputeTarget(workspace=ws, name=cluster_name)\n",
    "    print(\"Found existing cluster, use it.\")\n",
    "except ComputeTargetException:\n",
    "    compute_config = AmlCompute.provisioning_configuration(vm_size=\"STANDARD_D2_V2\", max_nodes=4)\n",
    "    cluster = ComputeTarget.create(ws, cluster_name, compute_config)\n",
    "\n",
    "cluster.wait_for_completion(show_output=True)"
   ]
  },
  {
   "cell_type": "markdown",
   "metadata": {},
   "source": [
    "## Dataset\n",
    "\n",
    "### Overview\n",
    "The Sleep Health and Lifestyle Dataset from Kaggle is used to perform a classification task. The data covers a wide range of variables related to sleep and daily habits. In the classification task it should be determined wether a person has a certain sleep disorder or none."
   ]
  },
  {
   "cell_type": "code",
   "execution_count": 8,
   "metadata": {
    "gather": {
     "logged": 1688382875097
    },
    "jupyter": {
     "outputs_hidden": false,
     "source_hidden": false
    },
    "nteract": {
     "transient": {
      "deleting": false
     }
    }
   },
   "outputs": [],
   "source": [
    "dataset = Dataset.get_by_name(ws, name='Sleep-Health-Dataset')\n",
    "df = dataset.to_pandas_dataframe()"
   ]
  },
  {
   "cell_type": "code",
   "execution_count": 9,
   "metadata": {},
   "outputs": [
    {
     "data": {
      "text/plain": [
       "pandas.core.frame.DataFrame"
      ]
     },
     "execution_count": 9,
     "metadata": {},
     "output_type": "execute_result"
    }
   ],
   "source": [
    "from train import clean_data\n"
   ]
  },
  {
   "cell_type": "code",
   "execution_count": 10,
   "metadata": {},
   "outputs": [
    {
     "data": {
      "text/plain": [
       "Index(['Person ID', 'Gender', 'Age', 'Occupation', 'Sleep Duration',\n",
       "       'Quality of Sleep', 'Physical Activity Level', 'Stress Level',\n",
       "       'BMI Category', 'Blood Pressure', 'Heart Rate', 'Daily Steps',\n",
       "       'Sleep Disorder'],\n",
       "      dtype='object')"
      ]
     },
     "execution_count": 10,
     "metadata": {},
     "output_type": "execute_result"
    }
   ],
   "source": [
    "df.columns"
   ]
  },
  {
   "cell_type": "markdown",
   "metadata": {},
   "source": [
    "## AutoML Configuration\n",
    "\n",
    "TODO: Explain why you chose the automl settings and cofiguration you used below."
   ]
  },
  {
   "cell_type": "code",
   "execution_count": 13,
   "metadata": {
    "gather": {
     "logged": 1598429217746
    },
    "jupyter": {
     "outputs_hidden": false,
     "source_hidden": false
    },
    "nteract": {
     "transient": {
      "deleting": false
     }
    }
   },
   "outputs": [],
   "source": [
    "automl_settings = {}\n",
    "\n",
    "# Set parameters for AutoMLConfig\n",
    "automl_config = AutoMLConfig(\n",
    "    compute_target=cluster,\n",
    "    experiment_timeout_minutes=30,\n",
    "    task=\"classification\",\n",
    "    primary_metric=\"accuracy\",\n",
    "    training_data=dataset,\n",
    "    label_column_name=\"Sleep Disorder\",\n",
    "    n_cross_validations=5\n",
    ")"
   ]
  },
  {
   "cell_type": "code",
   "execution_count": 15,
   "metadata": {
    "gather": {
     "logged": 1598431107951
    },
    "jupyter": {
     "outputs_hidden": false,
     "source_hidden": false
    },
    "nteract": {
     "transient": {
      "deleting": false
     }
    },
    "scrolled": true
   },
   "outputs": [
    {
     "name": "stdout",
     "output_type": "stream",
     "text": [
      "Submitting remote run.\n",
      "No run_configuration provided, running on sleep-health-compute with default configuration\n",
      "Running on remote compute: sleep-health-compute\n"
     ]
    },
    {
     "data": {
      "text/html": [
       "<table style=\"width:100%\"><tr><th>Experiment</th><th>Id</th><th>Type</th><th>Status</th><th>Details Page</th><th>Docs Page</th></tr><tr><td>sleep-health-project</td><td>AutoML_5e0da2bf-794e-4798-8cfa-aabcd0aaa516</td><td>automl</td><td>NotStarted</td><td><a href=\"https://ml.azure.com/runs/AutoML_5e0da2bf-794e-4798-8cfa-aabcd0aaa516?wsid=/subscriptions/cdbe0b43-92a0-4715-838a-f2648cc7ad21/resourcegroups/aml-quickstarts-238132/workspaces/quick-starts-ws-238132&amp;tid=660b3398-b80e-49d2-bc5b-ac1dc93b5254\" target=\"_blank\" rel=\"noopener\">Link to Azure Machine Learning studio</a></td><td><a href=\"https://docs.microsoft.com/en-us/python/api/overview/azure/ml/intro?view=azure-ml-py\" target=\"_blank\" rel=\"noopener\">Link to Documentation</a></td></tr></table>"
      ],
      "text/plain": [
       "<IPython.core.display.HTML object>"
      ]
     },
     "metadata": {},
     "output_type": "display_data"
    },
    {
     "name": "stdout",
     "output_type": "stream",
     "text": [
      "\n",
      "Current status: FeaturesGeneration. Generating features for the dataset.\n",
      "Current status: DatasetFeaturization. Beginning to fit featurizers and featurize the dataset.\n",
      "Current status: DatasetCrossValidationSplit. Generating individually featurized CV splits.\n",
      "Current status: ModelSelection. Beginning model selection.\n",
      "\n",
      "********************************************************************************************\n",
      "DATA GUARDRAILS: \n",
      "\n",
      "TYPE:         Class balancing detection\n",
      "STATUS:       PASSED\n",
      "DESCRIPTION:  Your inputs were analyzed, and all classes are balanced in your training data.\n",
      "              Learn more about imbalanced data: https://aka.ms/AutomatedMLImbalancedData\n",
      "\n",
      "********************************************************************************************\n",
      "\n",
      "TYPE:         Missing feature values imputation\n",
      "STATUS:       PASSED\n",
      "DESCRIPTION:  No feature missing values were detected in the training data.\n",
      "              Learn more about missing value imputation: https://aka.ms/AutomatedMLFeaturization\n",
      "\n",
      "********************************************************************************************\n",
      "\n",
      "TYPE:         High cardinality feature detection\n",
      "STATUS:       PASSED\n",
      "DESCRIPTION:  Your inputs were analyzed, and no high cardinality features were detected.\n",
      "              Learn more about high cardinality feature handling: https://aka.ms/AutomatedMLFeaturization\n",
      "\n",
      "********************************************************************************************\n",
      "\n",
      "********************************************************************************************\n",
      "ITER: The iteration being evaluated.\n",
      "PIPELINE: A summary description of the pipeline being evaluated.\n",
      "DURATION: Time taken for the current iteration.\n",
      "METRIC: The result of computing score on the fitted pipeline.\n",
      "BEST: The best observed score thus far.\n",
      "********************************************************************************************\n",
      "\n",
      " ITER   PIPELINE                                       DURATION            METRIC      BEST\n",
      "    0   MaxAbsScaler LightGBM                          0:00:15             0.8957    0.8957\n",
      "    1   MaxAbsScaler XGBoostClassifier                 0:00:13             0.8930    0.8957\n",
      "    2   MaxAbsScaler ExtremeRandomTrees                0:00:13             0.8770    0.8957\n",
      "    3   SparseNormalizer XGBoostClassifier             0:00:12             0.8877    0.8957\n",
      "    4   MaxAbsScaler LightGBM                          0:00:12             0.8770    0.8957\n",
      "    5   MaxAbsScaler LightGBM                          0:00:12             0.8743    0.8957\n",
      "    6   StandardScalerWrapper XGBoostClassifier        0:00:12             0.8984    0.8984\n",
      "    7   MaxAbsScaler LogisticRegression                0:00:12             0.9011    0.9011\n",
      "    8   StandardScalerWrapper ExtremeRandomTrees       0:00:12             0.8877    0.9011\n",
      "    9   StandardScalerWrapper XGBoostClassifier        0:00:12             0.8957    0.9011\n",
      "   10   SparseNormalizer LightGBM                      0:00:12             0.8850    0.9011\n",
      "   11   StandardScalerWrapper XGBoostClassifier        0:00:12             0.8931    0.9011\n",
      "   12   MaxAbsScaler LogisticRegression                0:00:13             0.8877    0.9011\n",
      "   13   MaxAbsScaler SGD                               0:00:12             0.8930    0.9011\n",
      "   14   StandardScalerWrapper XGBoostClassifier        0:00:12             0.8877    0.9011\n",
      "   15   SparseNormalizer RandomForest                  0:00:14             0.8904    0.9011\n",
      "   16   StandardScalerWrapper LogisticRegression       0:00:13             0.8930    0.9011\n",
      "   17   StandardScalerWrapper RandomForest             0:00:12             0.8904    0.9011\n",
      "   18   StandardScalerWrapper XGBoostClassifier        0:00:12             0.9011    0.9011\n",
      "   19   TruncatedSVDWrapper RandomForest               0:00:14             0.8877    0.9011\n",
      "   20   TruncatedSVDWrapper RandomForest               0:00:38             0.9064    0.9064\n",
      "   21   StandardScalerWrapper XGBoostClassifier        0:00:34             0.9037    0.9064\n",
      "   22   SparseNormalizer XGBoostClassifier             0:00:40             0.9064    0.9064\n",
      "   23   SparseNormalizer LightGBM                      0:00:40             0.8877    0.9064\n",
      "   24   SparseNormalizer XGBoostClassifier             0:00:35             0.8957    0.9064\n",
      "   25   StandardScalerWrapper RandomForest             0:00:38             0.5856    0.9064\n",
      "   26   StandardScalerWrapper RandomForest             0:00:37             0.8610    0.9064\n",
      "   27   StandardScalerWrapper RandomForest             0:00:36             0.8717    0.9064\n",
      "   28   SparseNormalizer XGBoostClassifier             0:00:33             0.8663    0.9064\n",
      "   29   SparseNormalizer ExtremeRandomTrees            0:00:34             0.8610    0.9064\n",
      "   30   MaxAbsScaler RandomForest                      0:00:35             0.7244    0.9064\n",
      "   31    VotingEnsemble                                0:00:59             0.9171    0.9171\n",
      "   32    StackEnsemble                                 0:01:13             0.9010    0.9171\n"
     ]
    }
   ],
   "source": [
    "# Submit automl run\n",
    "remote_run = exp.submit(automl_config, show_output=True)"
   ]
  },
  {
   "cell_type": "markdown",
   "metadata": {},
   "source": [
    "## Run Details"
   ]
  },
  {
   "cell_type": "code",
   "execution_count": 19,
   "metadata": {
    "gather": {
     "logged": 1598431121770
    },
    "jupyter": {
     "outputs_hidden": false,
     "source_hidden": false
    },
    "nteract": {
     "transient": {
      "deleting": false
     }
    }
   },
   "outputs": [
    {
     "data": {
      "application/vnd.jupyter.widget-view+json": {
       "model_id": "7a73399ec0b34a9f9d11830bb7b41606",
       "version_major": 2,
       "version_minor": 0
      },
      "text/plain": [
       "_AutoMLWidget(widget_settings={'childWidgetDisplay': 'popup', 'send_telemetry': False, 'log_level': 'INFO', 's…"
      ]
     },
     "metadata": {},
     "output_type": "display_data"
    },
    {
     "data": {
      "application/aml.mini.widget.v1": "{\"status\": \"Completed\", \"workbench_run_details_uri\": \"https://ml.azure.com/runs/AutoML_5e0da2bf-794e-4798-8cfa-aabcd0aaa516?wsid=/subscriptions/cdbe0b43-92a0-4715-838a-f2648cc7ad21/resourcegroups/aml-quickstarts-238132/workspaces/quick-starts-ws-238132&tid=660b3398-b80e-49d2-bc5b-ac1dc93b5254\", \"run_id\": \"AutoML_5e0da2bf-794e-4798-8cfa-aabcd0aaa516\", \"run_properties\": {\"run_id\": \"AutoML_5e0da2bf-794e-4798-8cfa-aabcd0aaa516\", \"created_utc\": \"2023-07-03T11:30:33.528967Z\", \"properties\": {\"num_iterations\": \"1000\", \"training_type\": \"TrainFull\", \"acquisition_function\": \"EI\", \"primary_metric\": \"accuracy\", \"train_split\": \"0\", \"acquisition_parameter\": \"0\", \"num_cross_validation\": \"5\", \"target\": \"sleep-health-compute\", \"AMLSettingsJsonString\": \"{\\\"path\\\":null,\\\"name\\\":\\\"sleep-health-project\\\",\\\"subscription_id\\\":\\\"cdbe0b43-92a0-4715-838a-f2648cc7ad21\\\",\\\"resource_group\\\":\\\"aml-quickstarts-238132\\\",\\\"workspace_name\\\":\\\"quick-starts-ws-238132\\\",\\\"region\\\":\\\"southcentralus\\\",\\\"compute_target\\\":\\\"sleep-health-compute\\\",\\\"spark_service\\\":null,\\\"azure_service\\\":\\\"remote\\\",\\\"many_models\\\":false,\\\"pipeline_fetch_max_batch_size\\\":1,\\\"enable_batch_run\\\":true,\\\"enable_parallel_run\\\":false,\\\"num_procs\\\":null,\\\"enable_run_restructure\\\":false,\\\"start_auxiliary_runs_before_parent_complete\\\":false,\\\"enable_code_generation\\\":true,\\\"iterations\\\":1000,\\\"primary_metric\\\":\\\"accuracy\\\",\\\"task_type\\\":\\\"classification\\\",\\\"positive_label\\\":null,\\\"data_script\\\":null,\\\"test_size\\\":0.0,\\\"test_include_predictions_only\\\":false,\\\"validation_size\\\":0.0,\\\"n_cross_validations\\\":5,\\\"y_min\\\":null,\\\"y_max\\\":null,\\\"num_classes\\\":null,\\\"featurization\\\":\\\"auto\\\",\\\"_ignore_package_version_incompatibilities\\\":false,\\\"is_timeseries\\\":false,\\\"max_cores_per_iteration\\\":1,\\\"max_concurrent_iterations\\\":1,\\\"iteration_timeout_minutes\\\":null,\\\"mem_in_mb\\\":null,\\\"enforce_time_on_windows\\\":false,\\\"experiment_timeout_minutes\\\":30,\\\"experiment_exit_score\\\":null,\\\"partition_column_names\\\":null,\\\"whitelist_models\\\":null,\\\"blacklist_algos\\\":[\\\"TensorFlowLinearClassifier\\\",\\\"TensorFlowDNN\\\"],\\\"supported_models\\\":[\\\"GradientBoosting\\\",\\\"AveragedPerceptronClassifier\\\",\\\"MultinomialNaiveBayes\\\",\\\"BernoulliNaiveBayes\\\",\\\"KNN\\\",\\\"LogisticRegression\\\",\\\"LinearSVM\\\",\\\"SVM\\\",\\\"DecisionTree\\\",\\\"TensorFlowDNN\\\",\\\"ExtremeRandomTrees\\\",\\\"LightGBM\\\",\\\"XGBoostClassifier\\\",\\\"TensorFlowLinearClassifier\\\",\\\"TabnetClassifier\\\",\\\"RandomForest\\\",\\\"SGD\\\"],\\\"private_models\\\":[],\\\"auto_blacklist\\\":true,\\\"blacklist_samples_reached\\\":false,\\\"exclude_nan_labels\\\":true,\\\"verbosity\\\":20,\\\"_debug_log\\\":\\\"azureml_automl.log\\\",\\\"show_warnings\\\":false,\\\"model_explainability\\\":true,\\\"service_url\\\":null,\\\"sdk_url\\\":null,\\\"sdk_packages\\\":null,\\\"enable_onnx_compatible_models\\\":false,\\\"enable_split_onnx_featurizer_estimator_models\\\":false,\\\"vm_type\\\":\\\"STANDARD_D2_V2\\\",\\\"telemetry_verbosity\\\":20,\\\"send_telemetry\\\":true,\\\"enable_dnn\\\":false,\\\"scenario\\\":\\\"AutoML\\\",\\\"environment_label\\\":null,\\\"save_mlflow\\\":false,\\\"enable_categorical_indicators\\\":false,\\\"force_text_dnn\\\":false,\\\"enable_feature_sweeping\\\":true,\\\"enable_early_stopping\\\":true,\\\"early_stopping_n_iters\\\":10,\\\"arguments\\\":null,\\\"dataset_id\\\":\\\"6ce3ae65-0d43-4bc8-954f-cf7a8298bd62\\\",\\\"hyperdrive_config\\\":null,\\\"validation_dataset_id\\\":null,\\\"run_source\\\":null,\\\"metrics\\\":null,\\\"enable_metric_confidence\\\":false,\\\"enable_ensembling\\\":true,\\\"enable_stack_ensembling\\\":true,\\\"ensemble_iterations\\\":15,\\\"enable_tf\\\":false,\\\"enable_subsampling\\\":null,\\\"subsample_seed\\\":null,\\\"enable_nimbusml\\\":false,\\\"enable_streaming\\\":false,\\\"force_streaming\\\":false,\\\"track_child_runs\\\":true,\\\"n_best_runs\\\":1,\\\"allowed_private_models\\\":[],\\\"label_column_name\\\":\\\"Sleep Disorder\\\",\\\"weight_column_name\\\":null,\\\"cv_split_column_names\\\":null,\\\"enable_local_managed\\\":false,\\\"_local_managed_run_id\\\":null,\\\"cost_mode\\\":1,\\\"lag_length\\\":0,\\\"metric_operation\\\":\\\"maximize\\\",\\\"preprocess\\\":true}\", \"DataPrepJsonString\": \"{\\\\\\\"training_data\\\\\\\": {\\\\\\\"datasetId\\\\\\\": \\\\\\\"6ce3ae65-0d43-4bc8-954f-cf7a8298bd62\\\\\\\"}, \\\\\\\"datasets\\\\\\\": 0}\", \"EnableSubsampling\": null, \"runTemplate\": \"AutoML\", \"azureml.runsource\": \"automl\", \"display_task_type\": \"classification\", \"dependencies_versions\": \"{\\\"azureml-widgets\\\": \\\"1.49.0\\\", \\\"azureml-training-tabular\\\": \\\"1.49.0\\\", \\\"azureml-train\\\": \\\"1.49.0\\\", \\\"azureml-train-restclients-hyperdrive\\\": \\\"1.49.0\\\", \\\"azureml-train-core\\\": \\\"1.49.0\\\", \\\"azureml-train-automl\\\": \\\"1.49.0\\\", \\\"azureml-train-automl-runtime\\\": \\\"1.49.0\\\", \\\"azureml-train-automl-client\\\": \\\"1.49.0\\\", \\\"azureml-tensorboard\\\": \\\"1.49.0\\\", \\\"azureml-telemetry\\\": \\\"1.49.0\\\", \\\"azureml-sdk\\\": \\\"1.49.0\\\", \\\"azureml-responsibleai\\\": \\\"1.49.0\\\", \\\"azureml-pipeline\\\": \\\"1.49.0\\\", \\\"azureml-pipeline-steps\\\": \\\"1.49.0\\\", \\\"azureml-pipeline-core\\\": \\\"1.49.0\\\", \\\"azureml-opendatasets\\\": \\\"1.49.0\\\", \\\"azureml-mlflow\\\": \\\"1.49.0\\\", \\\"azureml-interpret\\\": \\\"1.49.0\\\", \\\"azureml-inference-server-http\\\": \\\"0.8.0\\\", \\\"azureml-explain-model\\\": \\\"1.49.0\\\", \\\"azureml-defaults\\\": \\\"1.49.0\\\", \\\"azureml-dataset-runtime\\\": \\\"1.49.0\\\", \\\"azureml-dataprep\\\": \\\"4.9.1\\\", \\\"azureml-dataprep-rslex\\\": \\\"2.16.1\\\", \\\"azureml-dataprep-native\\\": \\\"38.0.0\\\", \\\"azureml-datadrift\\\": \\\"1.49.0\\\", \\\"azureml-core\\\": \\\"1.49.0\\\", \\\"azureml-contrib-services\\\": \\\"1.49.0\\\", \\\"azureml-contrib-server\\\": \\\"1.49.0\\\", \\\"azureml-contrib-reinforcementlearning\\\": \\\"1.49.0\\\", \\\"azureml-contrib-pipeline-steps\\\": \\\"1.49.0\\\", \\\"azureml-contrib-notebook\\\": \\\"1.49.0\\\", \\\"azureml-contrib-fairness\\\": \\\"1.49.0\\\", \\\"azureml-contrib-dataset\\\": \\\"1.49.0\\\", \\\"azureml-contrib-automl-pipeline-steps\\\": \\\"1.49.0\\\", \\\"azureml-cli-common\\\": \\\"1.49.0\\\", \\\"azureml-automl-runtime\\\": \\\"1.49.0\\\", \\\"azureml-automl-dnn-nlp\\\": \\\"1.49.0\\\", \\\"azureml-automl-core\\\": \\\"1.49.0\\\", \\\"azureml-accel-models\\\": \\\"1.49.0\\\"}\", \"_aml_system_scenario_identification\": \"Remote.Parent\", \"ClientType\": \"SDK\", \"PlatformVersion\": \"DPV1\", \"environment_cpu_name\": \"AzureML-AutoML\", \"environment_cpu_label\": \"prod\", \"environment_gpu_name\": \"AzureML-AutoML-GPU\", \"environment_gpu_label\": \"prod\", \"root_attribution\": \"automl\", \"attribution\": \"AutoML\", \"Orchestrator\": \"AutoML\", \"CancelUri\": \"https://southcentralus.api.azureml.ms/jasmine/v1.0/subscriptions/cdbe0b43-92a0-4715-838a-f2648cc7ad21/resourceGroups/aml-quickstarts-238132/providers/Microsoft.MachineLearningServices/workspaces/quick-starts-ws-238132/experimentids/5d38040d-68f7-4f3f-8e88-554c25a2e728/cancel/AutoML_5e0da2bf-794e-4798-8cfa-aabcd0aaa516\", \"ClientSdkVersion\": null, \"snapshotId\": \"00000000-0000-0000-0000-000000000000\", \"SetupRunId\": \"AutoML_5e0da2bf-794e-4798-8cfa-aabcd0aaa516_setup\", \"SetupRunContainerId\": \"dcid.AutoML_5e0da2bf-794e-4798-8cfa-aabcd0aaa516_setup\", \"FeaturizationRunJsonPath\": \"featurizer_container.json\", \"FeaturizationRunId\": \"AutoML_5e0da2bf-794e-4798-8cfa-aabcd0aaa516_featurize\", \"ProblemInfoJsonString\": \"{\\\"dataset_num_categorical\\\": 0, \\\"is_sparse\\\": true, \\\"subsampling\\\": false, \\\"has_extra_col\\\": true, \\\"dataset_classes\\\": 3, \\\"dataset_features\\\": 73, \\\"dataset_samples\\\": 374, \\\"single_frequency_class_detected\\\": false}\", \"ModelExplainRunId\": \"AutoML_5e0da2bf-794e-4798-8cfa-aabcd0aaa516_ModelExplain\"}, \"tags\": {\"model_explain_run\": \"best_run\", \"_aml_system_automl_run_workspace_id\": \"4705cf4d-032f-49eb-a158-f17e3981a3e0\", \"_aml_system_azureml.automlComponent\": \"AutoML\", \"pipeline_id_000\": \"5dfac790c5c209f98a1da2dc1c7fb76f0397324f;c7af0367625be6ac5c2fecbfc72ed444cb7a2111;799d2168db11fc19b9e1c6c1df62f8981ad39fe9;44b5d2d23120dfcf96a7dc6389a293d17a966b1b;3735210984ea10097d5c91905cf6300ac278cd89;5304e705d6f401cb07f85bcf0ca59ac1f84dfcf5;294650ec23bc3d067a4972de7ceb12f6e97260fa;3caa818370e5e0c328d6266c359019bd31681270;79ebb3b8c385e3190e3dd4c1fa28b74730528045;589334a57221e0720a95cf217c065115a7b841d1;5a8eb9d9f67b1dd7e9e4062585daa2417ea78989;35b8e2db3c5f6e714072e1be9f0210fe48426975;da45f657e4591caadf1589a85a1f7b8932585595;797e3e972ad02d947be4c64d2b06b775b6df7a49;3fd2e115482e0c7b92aa3297688aefb6c3aa6fb8;1dfdf370ba770047b14bfa59c40920815defcdab;5235e3d56688f5f38ef82d73fba7c2e698fc1af2;17f87d449bb43aaf3cdae4b7eb6dd6e7fbdaf343;dc68fbd594530b5d52812dd9b3ffa3d6d8ba625e;2032292dd602836ed754a266c771ac100c4c80dc;fedbb4995d6de479c513576119965d71276f03d1;e478544eb8734c07a1943f5bdf4e6605be6943df;87c21cf6b076803bf075ce43fa9f12d9ccab8323;cbdc4b871425deb1c44850dbcf05f26b6d8d6414;9abe663872f67832759b4d8af0755c16ed470043;e1e84b29bd918a1ac3c13afb06d92d3e30e97883;0246c67708423cf0f5e87c0895f605f5260a4165;358f170d348cb6ef2fe988e68ec34947c51f0892;ff48057d196be15ebc371dfd85246d4982a23e3a;845125359c6d5e9ec439a452145b31350ffddbaa;be3b253736dcbab1094e5e7981a4d259e9cfeb19;__AutoML_Ensemble__;__AutoML_Stack_Ensemble__\", \"score_000\": \"0.8957117117117118;0.893009009009009;0.876972972972973;0.8876756756756757;0.8770450450450451;0.8742702702702705;0.8983783783783785;0.9010810810810812;0.8877117117117118;0.8957117117117118;0.885009009009009;0.8930810810810812;0.8877117117117118;0.893009009009009;0.8877117117117118;0.8903783783783783;0.892972972972973;0.8903783783783783;0.9010810810810812;0.8876756756756757;0.9063783783783783;0.9037117117117116;0.9063783783783783;0.8877117117117118;0.8956756756756755;0.5855855855855856;0.861009009009009;0.8716756756756757;0.8663423423423422;0.8610450450450451;0.7244324324324325;0.917081081081081;0.901009009009009\", \"predicted_cost_000\": \"0;0;0.5;0.5;0.5;0.5;0.5;0.5;0.5;0.5;0.5;0.5;0.5;0.5;0.5;0.5;0.5;0.5;0.5;0.5;0.58764652653116;0.07187527551589964;0.24665391197644415;0.06495298309370912;0.0750480475728485;0.3159278464436152;0.4550376040623472;0.09387182281988593;0.06844043410527106;0.06816397667400925;0.06614615263168248;0;0\", \"fit_time_000\": \"0.1469556;0.21313619999999997;0.2654354;0.05135259999999999;0.030304000000000005;0.0160034;0.043984;0.0810932;0.0412864;0.0268326;0.034499;0.0341734;0.09283299999999998;0.0110062;0.030096400000000002;0.30605019999999994;0.1606304;0.11338160000000001;0.0708534;0.3420828;0.48180760000000006;0.0669656;0.9760005999999999;0.0260008;0.08329579999999999;0.6860408;0.5400704;0.2952528;0.0592248;0.05304420000000001;0.1069048;19;33\", \"training_percent_000\": \"100;100;100;100;100;100;100;100;100;100;100;100;100;100;100;100;100;100;100;100;100;100;100;100;100;100;100;100;100;100;100;100;100\", \"iteration_000\": \"0;1;2;3;4;5;6;7;8;9;10;11;12;13;14;15;16;17;18;19;20;21;22;23;24;25;26;27;28;29;30;31;32\", \"run_preprocessor_000\": \"MaxAbsScaler;MaxAbsScaler;MaxAbsScaler;SparseNormalizer;MaxAbsScaler;MaxAbsScaler;StandardScalerWrapper;MaxAbsScaler;StandardScalerWrapper;StandardScalerWrapper;SparseNormalizer;StandardScalerWrapper;MaxAbsScaler;MaxAbsScaler;StandardScalerWrapper;SparseNormalizer;StandardScalerWrapper;StandardScalerWrapper;StandardScalerWrapper;TruncatedSVDWrapper;TruncatedSVDWrapper;StandardScalerWrapper;SparseNormalizer;SparseNormalizer;SparseNormalizer;StandardScalerWrapper;StandardScalerWrapper;StandardScalerWrapper;SparseNormalizer;SparseNormalizer;MaxAbsScaler;;\", \"run_algorithm_000\": \"LightGBM;XGBoostClassifier;ExtremeRandomTrees;XGBoostClassifier;LightGBM;LightGBM;XGBoostClassifier;LogisticRegression;ExtremeRandomTrees;XGBoostClassifier;LightGBM;XGBoostClassifier;LogisticRegression;SGD;XGBoostClassifier;RandomForest;LogisticRegression;RandomForest;XGBoostClassifier;RandomForest;RandomForest;XGBoostClassifier;XGBoostClassifier;LightGBM;XGBoostClassifier;RandomForest;RandomForest;RandomForest;XGBoostClassifier;ExtremeRandomTrees;RandomForest;VotingEnsemble;StackEnsemble\", \"dynamic_allowlisting_iterations\": \"<25>;<30>;\", \"_aml_system_azureml.automl_early_exit_message\": \"No scores improved over last 10 iterations, so experiment stopped early. This early stopping behavior can be disabled by setting enable_early_stopping = False in AutoMLConfig for notebook/python SDK runs.\", \"automl_best_child_run_id\": \"AutoML_5e0da2bf-794e-4798-8cfa-aabcd0aaa516_31\", \"model_explain_best_run_child_id\": \"AutoML_5e0da2bf-794e-4798-8cfa-aabcd0aaa516_31\"}, \"end_time_utc\": \"2023-07-03T12:02:02.603075Z\", \"status\": \"Completed\", \"log_files\": {}, \"log_groups\": [], \"run_duration\": \"0:31:29\", \"run_number\": \"1688383833\", \"run_queued_details\": {\"status\": \"Completed\", \"details\": null}}, \"child_runs\": [{\"run_id\": \"AutoML_5e0da2bf-794e-4798-8cfa-aabcd0aaa516_setup\", \"run_number\": 1688383847, \"metric\": null, \"status\": \"Completed\", \"run_type\": \"azureml.scriptrun\", \"training_percent\": null, \"start_time\": \"2023-07-03T11:33:44.949323Z\", \"end_time\": \"2023-07-03T11:39:41.99482Z\", \"created_time\": \"2023-07-03T11:30:47.035082Z\", \"created_time_dt\": \"2023-07-03T11:30:47.035082Z\", \"duration\": \"0:08:54\", \"iteration\": null, \"goal\": null, \"run_name\": \"Completed\", \"run_properties\": null}, {\"run_id\": \"AutoML_5e0da2bf-794e-4798-8cfa-aabcd0aaa516_featurize\", \"run_number\": 1688384382, \"metric\": null, \"status\": \"Completed\", \"run_type\": \"automl.featurization\", \"training_percent\": null, \"start_time\": \"2023-07-03T11:39:42.742175Z\", \"end_time\": \"2023-07-03T11:41:41.483499Z\", \"created_time\": \"2023-07-03T11:39:42.363749Z\", \"created_time_dt\": \"2023-07-03T11:39:42.363749Z\", \"duration\": \"0:01:59\", \"iteration\": null, \"goal\": null, \"run_name\": \"Completed\", \"run_properties\": null}, {\"run_id\": \"AutoML_5e0da2bf-794e-4798-8cfa-aabcd0aaa516_0\", \"run_number\": 1688384503, \"metric\": null, \"status\": \"Completed\", \"run_type\": null, \"training_percent\": \"100\", \"start_time\": \"2023-07-03T11:42:13.29468Z\", \"end_time\": \"2023-07-03T11:42:28.758459Z\", \"created_time\": \"2023-07-03T11:41:43.048933Z\", \"created_time_dt\": \"2023-07-03T11:41:43.048933Z\", \"duration\": \"0:00:45\", \"iteration\": \"0\", \"goal\": \"accuracy_max\", \"run_name\": \"MaxAbsScaler, LightGBM\", \"run_properties\": \"copy=True\", \"primary_metric\": 0.89571171, \"best_metric\": 0.89571171}, {\"run_id\": \"AutoML_5e0da2bf-794e-4798-8cfa-aabcd0aaa516_3\", \"run_number\": 1688384504, \"metric\": null, \"status\": \"Completed\", \"run_type\": null, \"training_percent\": \"100\", \"start_time\": \"2023-07-03T11:42:57.175198Z\", \"end_time\": \"2023-07-03T11:43:09.284044Z\", \"created_time\": \"2023-07-03T11:41:44.281561Z\", \"created_time_dt\": \"2023-07-03T11:41:44.281561Z\", \"duration\": \"0:01:25\", \"iteration\": \"3\", \"goal\": \"accuracy_max\", \"run_name\": \"SparseNormalizer, XGBoostClassifier\", \"run_properties\": \"copy=True, norm='l2'\", \"primary_metric\": 0.88767568, \"best_metric\": 0.89571171}, {\"run_id\": \"AutoML_5e0da2bf-794e-4798-8cfa-aabcd0aaa516_5\", \"run_number\": 1688384505, \"metric\": null, \"status\": \"Completed\", \"run_type\": null, \"training_percent\": \"100\", \"start_time\": \"2023-07-03T11:43:23.161383Z\", \"end_time\": \"2023-07-03T11:43:34.8653Z\", \"created_time\": \"2023-07-03T11:41:45.141078Z\", \"created_time_dt\": \"2023-07-03T11:41:45.141078Z\", \"duration\": \"0:01:49\", \"iteration\": \"5\", \"goal\": \"accuracy_max\", \"run_name\": \"MaxAbsScaler, LightGBM\", \"run_properties\": \"copy=True\", \"primary_metric\": 0.87427027, \"best_metric\": 0.89571171}, {\"run_id\": \"AutoML_5e0da2bf-794e-4798-8cfa-aabcd0aaa516_7\", \"run_number\": 1688384506, \"metric\": null, \"status\": \"Completed\", \"run_type\": null, \"training_percent\": \"100\", \"start_time\": \"2023-07-03T11:43:48.431926Z\", \"end_time\": \"2023-07-03T11:44:00.437895Z\", \"created_time\": \"2023-07-03T11:41:46.027238Z\", \"created_time_dt\": \"2023-07-03T11:41:46.027238Z\", \"duration\": \"0:02:14\", \"iteration\": \"7\", \"goal\": \"accuracy_max\", \"run_name\": \"MaxAbsScaler, LogisticRegression\", \"run_properties\": \"copy=True\", \"primary_metric\": 0.90108108, \"best_metric\": 0.90108108}, {\"run_id\": \"AutoML_5e0da2bf-794e-4798-8cfa-aabcd0aaa516_10\", \"run_number\": 1688384507, \"metric\": null, \"status\": \"Completed\", \"run_type\": null, \"training_percent\": \"100\", \"start_time\": \"2023-07-03T11:44:26.697162Z\", \"end_time\": \"2023-07-03T11:44:38.884876Z\", \"created_time\": \"2023-07-03T11:41:47.333976Z\", \"created_time_dt\": \"2023-07-03T11:41:47.333976Z\", \"duration\": \"0:02:51\", \"iteration\": \"10\", \"goal\": \"accuracy_max\", \"run_name\": \"SparseNormalizer, LightGBM\", \"run_properties\": \"copy=True, norm='l1'\", \"primary_metric\": 0.88500901, \"best_metric\": 0.90108108}, {\"run_id\": \"AutoML_5e0da2bf-794e-4798-8cfa-aabcd0aaa516_12\", \"run_number\": 1688384508, \"metric\": null, \"status\": \"Completed\", \"run_type\": null, \"training_percent\": \"100\", \"start_time\": \"2023-07-03T11:44:52.895102Z\", \"end_time\": \"2023-07-03T11:45:05.569938Z\", \"created_time\": \"2023-07-03T11:41:48.097034Z\", \"created_time_dt\": \"2023-07-03T11:41:48.097034Z\", \"duration\": \"0:03:17\", \"iteration\": \"12\", \"goal\": \"accuracy_max\", \"run_name\": \"MaxAbsScaler, LogisticRegression\", \"run_properties\": \"copy=True\", \"primary_metric\": 0.88771171, \"best_metric\": 0.90108108}, {\"run_id\": \"AutoML_5e0da2bf-794e-4798-8cfa-aabcd0aaa516_15\", \"run_number\": 1688384509, \"metric\": null, \"status\": \"Completed\", \"run_type\": null, \"training_percent\": \"100\", \"start_time\": \"2023-07-03T11:45:33.099486Z\", \"end_time\": \"2023-07-03T11:45:46.871217Z\", \"created_time\": \"2023-07-03T11:41:49.316824Z\", \"created_time_dt\": \"2023-07-03T11:41:49.316824Z\", \"duration\": \"0:03:57\", \"iteration\": \"15\", \"goal\": \"accuracy_max\", \"run_name\": \"SparseNormalizer, RandomForest\", \"run_properties\": \"copy=True, norm='l2'\", \"primary_metric\": 0.89037838, \"best_metric\": 0.90108108}, {\"run_id\": \"AutoML_5e0da2bf-794e-4798-8cfa-aabcd0aaa516_17\", \"run_number\": 1688384510, \"metric\": null, \"status\": \"Completed\", \"run_type\": null, \"training_percent\": \"100\", \"start_time\": \"2023-07-03T11:46:01.731376Z\", \"end_time\": \"2023-07-03T11:46:14.117361Z\", \"created_time\": \"2023-07-03T11:41:50.187932Z\", \"created_time_dt\": \"2023-07-03T11:41:50.187932Z\", \"duration\": \"0:04:23\", \"iteration\": \"17\", \"goal\": \"accuracy_max\", \"run_name\": \"StandardScalerWrapper, RandomForest\", \"run_properties\": \"copy=True, with_mean=False, with_std=False\", \"primary_metric\": 0.89037838, \"best_metric\": 0.90108108}, {\"run_id\": \"AutoML_5e0da2bf-794e-4798-8cfa-aabcd0aaa516_worker_0\", \"run_number\": 1688384511, \"metric\": null, \"status\": \"Completed\", \"run_type\": \"azureml.scriptrun\", \"training_percent\": null, \"start_time\": \"2023-07-03T11:41:59.63183Z\", \"end_time\": \"2023-07-03T11:46:53.928367Z\", \"created_time\": \"2023-07-03T11:41:51.165733Z\", \"created_time_dt\": \"2023-07-03T11:41:51.165733Z\", \"duration\": \"0:05:02\", \"iteration\": null, \"goal\": null, \"run_name\": \"Completed\", \"run_properties\": null}, {\"run_id\": \"AutoML_5e0da2bf-794e-4798-8cfa-aabcd0aaa516_20\", \"run_number\": 1688385039, \"metric\": null, \"status\": \"Completed\", \"run_type\": \"azureml.scriptrun\", \"training_percent\": \"100\", \"start_time\": \"2023-07-03T11:50:58.403745Z\", \"end_time\": \"2023-07-03T11:51:36.594617Z\", \"created_time\": \"2023-07-03T11:50:39.249798Z\", \"created_time_dt\": \"2023-07-03T11:50:39.249798Z\", \"duration\": \"0:00:57\", \"iteration\": \"20\", \"goal\": \"accuracy_max\", \"run_name\": \"TruncatedSVDWrapper, RandomForest\", \"run_properties\": \"n_components=0.7026315789473684, random_state=None\", \"primary_metric\": 0.90637838, \"best_metric\": 0.90637838}, {\"run_id\": \"AutoML_5e0da2bf-794e-4798-8cfa-aabcd0aaa516_21\", \"run_number\": 1688385098, \"metric\": null, \"status\": \"Completed\", \"run_type\": \"azureml.scriptrun\", \"training_percent\": \"100\", \"start_time\": \"2023-07-03T11:51:50.00061Z\", \"end_time\": \"2023-07-03T11:52:24.483549Z\", \"created_time\": \"2023-07-03T11:51:38.264575Z\", \"created_time_dt\": \"2023-07-03T11:51:38.264575Z\", \"duration\": \"0:00:46\", \"iteration\": \"21\", \"goal\": \"accuracy_max\", \"run_name\": \"StandardScalerWrapper, XGBoostClassifier\", \"run_properties\": \"copy=True, with_mean=False, with_std=False\", \"primary_metric\": 0.90371171, \"best_metric\": 0.90637838}, {\"run_id\": \"AutoML_5e0da2bf-794e-4798-8cfa-aabcd0aaa516_22\", \"run_number\": 1688385145, \"metric\": null, \"status\": \"Completed\", \"run_type\": \"azureml.scriptrun\", \"training_percent\": \"100\", \"start_time\": \"2023-07-03T11:52:33.755122Z\", \"end_time\": \"2023-07-03T11:53:13.696671Z\", \"created_time\": \"2023-07-03T11:52:25.945083Z\", \"created_time_dt\": \"2023-07-03T11:52:25.945083Z\", \"duration\": \"0:00:47\", \"iteration\": \"22\", \"goal\": \"accuracy_max\", \"run_name\": \"SparseNormalizer, XGBoostClassifier\", \"run_properties\": \"copy=True, norm='l2'\", \"primary_metric\": 0.90637838, \"best_metric\": 0.90637838}, {\"run_id\": \"AutoML_5e0da2bf-794e-4798-8cfa-aabcd0aaa516_23\", \"run_number\": 1688385195, \"metric\": null, \"status\": \"Completed\", \"run_type\": \"azureml.scriptrun\", \"training_percent\": \"100\", \"start_time\": \"2023-07-03T11:53:26.183643Z\", \"end_time\": \"2023-07-03T11:54:06.19823Z\", \"created_time\": \"2023-07-03T11:53:15.04205Z\", \"created_time_dt\": \"2023-07-03T11:53:15.04205Z\", \"duration\": \"0:00:51\", \"iteration\": \"23\", \"goal\": \"accuracy_max\", \"run_name\": \"SparseNormalizer, LightGBM\", \"run_properties\": \"copy=True, norm='l2'\", \"primary_metric\": 0.88771171, \"best_metric\": 0.90637838}, {\"run_id\": \"AutoML_5e0da2bf-794e-4798-8cfa-aabcd0aaa516_24\", \"run_number\": 1688385247, \"metric\": null, \"status\": \"Completed\", \"run_type\": \"azureml.scriptrun\", \"training_percent\": \"100\", \"start_time\": \"2023-07-03T11:54:18.338198Z\", \"end_time\": \"2023-07-03T11:54:53.365324Z\", \"created_time\": \"2023-07-03T11:54:07.527529Z\", \"created_time_dt\": \"2023-07-03T11:54:07.527529Z\", \"duration\": \"0:00:45\", \"iteration\": \"24\", \"goal\": \"accuracy_max\", \"run_name\": \"SparseNormalizer, XGBoostClassifier\", \"run_properties\": \"copy=True, norm='max'\", \"primary_metric\": 0.89567568, \"best_metric\": 0.90637838}, {\"run_id\": \"AutoML_5e0da2bf-794e-4798-8cfa-aabcd0aaa516_25\", \"run_number\": 1688385295, \"metric\": null, \"status\": \"Completed\", \"run_type\": \"azureml.scriptrun\", \"training_percent\": \"100\", \"start_time\": \"2023-07-03T11:55:03.811645Z\", \"end_time\": \"2023-07-03T11:55:41.875645Z\", \"created_time\": \"2023-07-03T11:54:55.432023Z\", \"created_time_dt\": \"2023-07-03T11:54:55.432023Z\", \"duration\": \"0:00:46\", \"iteration\": \"25\", \"goal\": \"accuracy_max\", \"run_name\": \"StandardScalerWrapper, RandomForest\", \"run_properties\": \"copy=True, with_mean=False, with_std=False\", \"primary_metric\": 0.58558559, \"best_metric\": 0.90637838}, {\"run_id\": \"AutoML_5e0da2bf-794e-4798-8cfa-aabcd0aaa516_26\", \"run_number\": 1688385343, \"metric\": null, \"status\": \"Completed\", \"run_type\": \"azureml.scriptrun\", \"training_percent\": \"100\", \"start_time\": \"2023-07-03T11:55:52.419342Z\", \"end_time\": \"2023-07-03T11:56:29.525904Z\", \"created_time\": \"2023-07-03T11:55:43.304267Z\", \"created_time_dt\": \"2023-07-03T11:55:43.304267Z\", \"duration\": \"0:00:46\", \"iteration\": \"26\", \"goal\": \"accuracy_max\", \"run_name\": \"StandardScalerWrapper, RandomForest\", \"run_properties\": \"copy=True, with_mean=False, with_std=False\", \"primary_metric\": 0.86100901, \"best_metric\": 0.90637838}, {\"run_id\": \"AutoML_5e0da2bf-794e-4798-8cfa-aabcd0aaa516_27\", \"run_number\": 1688385390, \"metric\": null, \"status\": \"Completed\", \"run_type\": \"azureml.scriptrun\", \"training_percent\": \"100\", \"start_time\": \"2023-07-03T11:56:41.09902Z\", \"end_time\": \"2023-07-03T11:57:16.958454Z\", \"created_time\": \"2023-07-03T11:56:30.938618Z\", \"created_time_dt\": \"2023-07-03T11:56:30.938618Z\", \"duration\": \"0:00:46\", \"iteration\": \"27\", \"goal\": \"accuracy_max\", \"run_name\": \"StandardScalerWrapper, RandomForest\", \"run_properties\": \"copy=True, with_mean=False, with_std=False\", \"primary_metric\": 0.87167568, \"best_metric\": 0.90637838}, {\"run_id\": \"AutoML_5e0da2bf-794e-4798-8cfa-aabcd0aaa516_28\", \"run_number\": 1688385438, \"metric\": null, \"status\": \"Completed\", \"run_type\": \"azureml.scriptrun\", \"training_percent\": \"100\", \"start_time\": \"2023-07-03T11:57:29.242171Z\", \"end_time\": \"2023-07-03T11:58:02.6659Z\", \"created_time\": \"2023-07-03T11:57:18.444794Z\", \"created_time_dt\": \"2023-07-03T11:57:18.444794Z\", \"duration\": \"0:00:44\", \"iteration\": \"28\", \"goal\": \"accuracy_max\", \"run_name\": \"SparseNormalizer, XGBoostClassifier\", \"run_properties\": \"copy=True, norm='max'\", \"primary_metric\": 0.86634234, \"best_metric\": 0.90637838}, {\"run_id\": \"AutoML_5e0da2bf-794e-4798-8cfa-aabcd0aaa516_29\", \"run_number\": 1688385484, \"metric\": null, \"status\": \"Completed\", \"run_type\": \"azureml.scriptrun\", \"training_percent\": \"100\", \"start_time\": \"2023-07-03T11:58:12.844897Z\", \"end_time\": \"2023-07-03T11:58:46.618604Z\", \"created_time\": \"2023-07-03T11:58:04.101944Z\", \"created_time_dt\": \"2023-07-03T11:58:04.101944Z\", \"duration\": \"0:00:42\", \"iteration\": \"29\", \"goal\": \"accuracy_max\", \"run_name\": \"SparseNormalizer, ExtremeRandomTrees\", \"run_properties\": \"copy=True, norm='l2'\", \"primary_metric\": 0.86104505, \"best_metric\": 0.90637838}, {\"run_id\": \"AutoML_5e0da2bf-794e-4798-8cfa-aabcd0aaa516_30\", \"run_number\": 1688385528, \"metric\": null, \"status\": \"Completed\", \"run_type\": \"azureml.scriptrun\", \"training_percent\": \"100\", \"start_time\": \"2023-07-03T11:58:57.284031Z\", \"end_time\": \"2023-07-03T11:59:31.821864Z\", \"created_time\": \"2023-07-03T11:58:48.814438Z\", \"created_time_dt\": \"2023-07-03T11:58:48.814438Z\", \"duration\": \"0:00:43\", \"iteration\": \"30\", \"goal\": \"accuracy_max\", \"run_name\": \"MaxAbsScaler, RandomForest\", \"run_properties\": \"copy=True\", \"primary_metric\": 0.72443243, \"best_metric\": 0.90637838}, {\"run_id\": \"AutoML_5e0da2bf-794e-4798-8cfa-aabcd0aaa516_31\", \"run_number\": 1688385572, \"metric\": null, \"status\": \"Completed\", \"run_type\": \"azureml.scriptrun\", \"training_percent\": \"100\", \"start_time\": \"2023-07-03T11:59:40.742123Z\", \"end_time\": \"2023-07-03T12:00:39.329632Z\", \"created_time\": \"2023-07-03T11:59:32.612834Z\", \"created_time_dt\": \"2023-07-03T11:59:32.612834Z\", \"duration\": \"0:01:06\", \"iteration\": \"31\", \"goal\": \"accuracy_max\", \"run_name\": \"VotingEnsemble\", \"run_properties\": \"classification_labels=numpy.array([0, 1, 2]\", \"primary_metric\": 0.91708108, \"best_metric\": 0.91708108}, {\"run_id\": \"AutoML_5e0da2bf-794e-4798-8cfa-aabcd0aaa516_32\", \"run_number\": 1688385639, \"metric\": null, \"status\": \"Completed\", \"run_type\": \"azureml.scriptrun\", \"training_percent\": \"100\", \"start_time\": \"2023-07-03T12:00:48.560988Z\", \"end_time\": \"2023-07-03T12:02:01.541999Z\", \"created_time\": \"2023-07-03T12:00:39.934969Z\", \"created_time_dt\": \"2023-07-03T12:00:39.934969Z\", \"duration\": \"0:01:21\", \"iteration\": \"32\", \"goal\": \"accuracy_max\", \"run_name\": \"StackEnsemble\", \"run_properties\": \"base_learners=[('22', Pipeline(memory=None, steps=[('sparsenormalizer', Normalizer(copy=True, norm='l2'\", \"primary_metric\": 0.90100901, \"best_metric\": 0.91708108}], \"children_metrics\": {\"categories\": [0], \"series\": {\"average_precision_score_macro\": [{\"categories\": [\"0\", \"3\", \"5\", \"7\", \"10\", \"12\", \"15\", \"17\", \"20\", \"21\", \"22\", \"23\", \"24\", \"25\", \"26\", \"27\", \"28\", \"29\", \"30\", \"31\", \"32\"], \"mode\": \"markers\", \"name\": \"average_precision_score_macro\", \"stepped\": false, \"type\": \"scatter\", \"data\": [0.8908467758886666, 0.8714953467047597, 0.8737967207707831, 0.8583557904879532, 0.87989363592351, 0.7936054450914034, 0.8935281177561561, 0.8889970198961397, 0.928989938895431, 0.8923823944590769, 0.8883181964030967, 0.8847607245126937, 0.8769436559754922, 0.3333333333333333, 0.8606101382616892, 0.8553663955051716, 0.8606880875737103, 0.8421557698264313, 0.7017523154837647, 0.9148172982300988, 0.9220261714213296]}, {\"categories\": [\"0\", \"3\", \"5\", \"7\", \"10\", \"12\", \"15\", \"17\", \"20\", \"21\", \"22\", \"23\", \"24\", \"25\", \"26\", \"27\", \"28\", \"29\", \"30\", \"31\", \"32\"], \"mode\": \"lines\", \"name\": \"average_precision_score_macro_max\", \"stepped\": true, \"type\": \"scatter\", \"data\": [0.8908467758886666, 0.8908467758886666, 0.8908467758886666, 0.8908467758886666, 0.8908467758886666, 0.8908467758886666, 0.8935281177561561, 0.8935281177561561, 0.928989938895431, 0.928989938895431, 0.928989938895431, 0.928989938895431, 0.928989938895431, 0.928989938895431, 0.928989938895431, 0.928989938895431, 0.928989938895431, 0.928989938895431, 0.928989938895431, 0.928989938895431, 0.928989938895431]}], \"balanced_accuracy\": [{\"categories\": [\"0\", \"3\", \"5\", \"7\", \"10\", \"12\", \"15\", \"17\", \"20\", \"21\", \"22\", \"23\", \"24\", \"25\", \"26\", \"27\", \"28\", \"29\", \"30\", \"31\", \"32\"], \"mode\": \"markers\", \"name\": \"balanced_accuracy\", \"stepped\": false, \"type\": \"scatter\", \"data\": [0.854348379904646, 0.8466779564094142, 0.8157235080444799, 0.8618012862386266, 0.8514242667439598, 0.8556317311560278, 0.8586786950853448, 0.8457777947164138, 0.8649206346840617, 0.8688021940643423, 0.8690848471411131, 0.8539213339469095, 0.8587481468044128, 0.3333333333333333, 0.8243976701521458, 0.8235695128022493, 0.8132897925225292, 0.8225187931326039, 0.6271963543702674, 0.8851574782137444, 0.8610040882675154]}, {\"categories\": [\"0\", \"3\", \"5\", \"7\", \"10\", \"12\", \"15\", \"17\", \"20\", \"21\", \"22\", \"23\", \"24\", \"25\", \"26\", \"27\", \"28\", \"29\", \"30\", \"31\", \"32\"], \"mode\": \"lines\", \"name\": \"balanced_accuracy_max\", \"stepped\": true, \"type\": \"scatter\", \"data\": [0.854348379904646, 0.854348379904646, 0.854348379904646, 0.8618012862386266, 0.8618012862386266, 0.8618012862386266, 0.8618012862386266, 0.8618012862386266, 0.8649206346840617, 0.8688021940643423, 0.8690848471411131, 0.8690848471411131, 0.8690848471411131, 0.8690848471411131, 0.8690848471411131, 0.8690848471411131, 0.8690848471411131, 0.8690848471411131, 0.8690848471411131, 0.8851574782137444, 0.8851574782137444]}], \"weighted_accuracy\": [{\"categories\": [\"0\", \"3\", \"5\", \"7\", \"10\", \"12\", \"15\", \"17\", \"20\", \"21\", \"22\", \"23\", \"24\", \"25\", \"26\", \"27\", \"28\", \"29\", \"30\", \"31\", \"32\"], \"mode\": \"markers\", \"name\": \"weighted_accuracy\", \"stepped\": false, \"type\": \"scatter\", \"data\": [0.9246941206319053, 0.918788192752545, 0.9195418442968861, 0.9305750675394664, 0.9118289678487613, 0.9117328295553486, 0.9150991086330214, 0.9248925650458124, 0.9373319301335256, 0.9281337062125651, 0.9347502599644686, 0.9136837299456981, 0.9229464790420406, 0.79447677325177, 0.8893424254497679, 0.9087530625014999, 0.9077691993059117, 0.8899611564222552, 0.8178998363712167, 0.9407341334748915, 0.9317023137731282]}, {\"categories\": [\"0\", \"3\", \"5\", \"7\", \"10\", \"12\", \"15\", \"17\", \"20\", \"21\", \"22\", \"23\", \"24\", \"25\", \"26\", \"27\", \"28\", \"29\", \"30\", \"31\", \"32\"], \"mode\": \"lines\", \"name\": \"weighted_accuracy_max\", \"stepped\": true, \"type\": \"scatter\", \"data\": [0.9246941206319053, 0.9246941206319053, 0.9246941206319053, 0.9305750675394664, 0.9305750675394664, 0.9305750675394664, 0.9305750675394664, 0.9305750675394664, 0.9373319301335256, 0.9373319301335256, 0.9373319301335256, 0.9373319301335256, 0.9373319301335256, 0.9373319301335256, 0.9373319301335256, 0.9373319301335256, 0.9373319301335256, 0.9373319301335256, 0.9373319301335256, 0.9407341334748915, 0.9407341334748915]}], \"AUC_macro\": [{\"categories\": [\"0\", \"3\", \"5\", \"7\", \"10\", \"12\", \"15\", \"17\", \"20\", \"21\", \"22\", \"23\", \"24\", \"25\", \"26\", \"27\", \"28\", \"29\", \"30\", \"31\", \"32\"], \"mode\": \"markers\", \"name\": \"AUC_macro\", \"stepped\": false, \"type\": \"scatter\", \"data\": [0.9337402498583817, 0.9285451645816473, 0.9314982920545765, 0.9194324664342819, 0.9227830811684917, 0.8928380371841825, 0.9290664193801035, 0.9270084523322811, 0.9580083139318061, 0.9308451730122107, 0.9323534296197472, 0.9240551183003032, 0.921249800379095, 0.5, 0.9199087330129533, 0.9123114845091834, 0.9186670884465002, 0.9126545464138868, 0.8719319542762112, 0.9425019092049631, 0.9492675214629795]}, {\"categories\": [\"0\", \"3\", \"5\", \"7\", \"10\", \"12\", \"15\", \"17\", \"20\", \"21\", \"22\", \"23\", \"24\", \"25\", \"26\", \"27\", \"28\", \"29\", \"30\", \"31\", \"32\"], \"mode\": \"lines\", \"name\": \"AUC_macro_max\", \"stepped\": true, \"type\": \"scatter\", \"data\": [0.9337402498583817, 0.9337402498583817, 0.9337402498583817, 0.9337402498583817, 0.9337402498583817, 0.9337402498583817, 0.9337402498583817, 0.9337402498583817, 0.9580083139318061, 0.9580083139318061, 0.9580083139318061, 0.9580083139318061, 0.9580083139318061, 0.9580083139318061, 0.9580083139318061, 0.9580083139318061, 0.9580083139318061, 0.9580083139318061, 0.9580083139318061, 0.9580083139318061, 0.9580083139318061]}], \"f1_score_weighted\": [{\"categories\": [\"0\", \"3\", \"5\", \"7\", \"10\", \"12\", \"15\", \"17\", \"20\", \"21\", \"22\", \"23\", \"24\", \"25\", \"26\", \"27\", \"28\", \"29\", \"30\", \"31\", \"32\"], \"mode\": \"markers\", \"name\": \"f1_score_weighted\", \"stepped\": false, \"type\": \"scatter\", \"data\": [0.893981449775626, 0.8857285976655909, 0.8680813479347791, 0.8995083675305151, 0.8841153272556699, 0.8867111991522743, 0.8903304001983041, 0.888472016442204, 0.9043847054847385, 0.9021804166864864, 0.9051719377809462, 0.8871133196661575, 0.8940387582241561, 0.4329229186493362, 0.8599030768264175, 0.868687639238015, 0.8622999380751374, 0.8610911856748007, 0.6771215839895319, 0.9160831850258859, 0.8990770545485232]}, {\"categories\": [\"0\", \"3\", \"5\", \"7\", \"10\", \"12\", \"15\", \"17\", \"20\", \"21\", \"22\", \"23\", \"24\", \"25\", \"26\", \"27\", \"28\", \"29\", \"30\", \"31\", \"32\"], \"mode\": \"lines\", \"name\": \"f1_score_weighted_max\", \"stepped\": true, \"type\": \"scatter\", \"data\": [0.893981449775626, 0.893981449775626, 0.893981449775626, 0.8995083675305151, 0.8995083675305151, 0.8995083675305151, 0.8995083675305151, 0.8995083675305151, 0.9043847054847385, 0.9043847054847385, 0.9051719377809462, 0.9051719377809462, 0.9051719377809462, 0.9051719377809462, 0.9051719377809462, 0.9051719377809462, 0.9051719377809462, 0.9051719377809462, 0.9051719377809462, 0.9160831850258859, 0.9160831850258859]}], \"AUC_micro\": [{\"categories\": [\"0\", \"3\", \"5\", \"7\", \"10\", \"12\", \"15\", \"17\", \"20\", \"21\", \"22\", \"23\", \"24\", \"25\", \"26\", \"27\", \"28\", \"29\", \"30\", \"31\", \"32\"], \"mode\": \"markers\", \"name\": \"AUC_micro\", \"stepped\": false, \"type\": \"scatter\", \"data\": [0.951664290236182, 0.9512600016232449, 0.9458086324162001, 0.9446922619917215, 0.948862540378216, 0.919533203473744, 0.9466070611151693, 0.9496905364824284, 0.9695048940832726, 0.9500201509617726, 0.953051684116549, 0.9499103416930443, 0.9459064718772826, 0.6751351351351351, 0.9305848064280499, 0.939107137407678, 0.9430778703027352, 0.9235128220112003, 0.8952912133755376, 0.9591163249736223, 0.9616388312636962]}, {\"categories\": [\"0\", \"3\", \"5\", \"7\", \"10\", \"12\", \"15\", \"17\", \"20\", \"21\", \"22\", \"23\", \"24\", \"25\", \"26\", \"27\", \"28\", \"29\", \"30\", \"31\", \"32\"], \"mode\": \"lines\", \"name\": \"AUC_micro_max\", \"stepped\": true, \"type\": \"scatter\", \"data\": [0.951664290236182, 0.951664290236182, 0.951664290236182, 0.951664290236182, 0.951664290236182, 0.951664290236182, 0.951664290236182, 0.951664290236182, 0.9695048940832726, 0.9695048940832726, 0.9695048940832726, 0.9695048940832726, 0.9695048940832726, 0.9695048940832726, 0.9695048940832726, 0.9695048940832726, 0.9695048940832726, 0.9695048940832726, 0.9695048940832726, 0.9695048940832726, 0.9695048940832726]}], \"recall_score_macro\": [{\"categories\": [\"0\", \"3\", \"5\", \"7\", \"10\", \"12\", \"15\", \"17\", \"20\", \"21\", \"22\", \"23\", \"24\", \"25\", \"26\", \"27\", \"28\", \"29\", \"30\", \"31\", \"32\"], \"mode\": \"markers\", \"name\": \"recall_score_macro\", \"stepped\": false, \"type\": \"scatter\", \"data\": [0.854348379904646, 0.8466779564094142, 0.8157235080444799, 0.8618012862386266, 0.8514242667439598, 0.8556317311560278, 0.8586786950853448, 0.8457777947164138, 0.8649206346840617, 0.8688021940643423, 0.8690848471411131, 0.8539213339469095, 0.8587481468044128, 0.3333333333333333, 0.8243976701521458, 0.8235695128022493, 0.8132897925225292, 0.8225187931326039, 0.6271963543702674, 0.8851574782137444, 0.8610040882675154]}, {\"categories\": [\"0\", \"3\", \"5\", \"7\", \"10\", \"12\", \"15\", \"17\", \"20\", \"21\", \"22\", \"23\", \"24\", \"25\", \"26\", \"27\", \"28\", \"29\", \"30\", \"31\", \"32\"], \"mode\": \"lines\", \"name\": \"recall_score_macro_max\", \"stepped\": true, \"type\": \"scatter\", \"data\": [0.854348379904646, 0.854348379904646, 0.854348379904646, 0.8618012862386266, 0.8618012862386266, 0.8618012862386266, 0.8618012862386266, 0.8618012862386266, 0.8649206346840617, 0.8688021940643423, 0.8690848471411131, 0.8690848471411131, 0.8690848471411131, 0.8690848471411131, 0.8690848471411131, 0.8690848471411131, 0.8690848471411131, 0.8690848471411131, 0.8690848471411131, 0.8851574782137444, 0.8851574782137444]}], \"precision_score_macro\": [{\"categories\": [\"0\", \"3\", \"5\", \"7\", \"10\", \"12\", \"15\", \"17\", \"20\", \"21\", \"22\", \"23\", \"24\", \"25\", \"26\", \"27\", \"28\", \"29\", \"30\", \"31\", \"32\"], \"mode\": \"markers\", \"name\": \"precision_score_macro\", \"stepped\": false, \"type\": \"scatter\", \"data\": [0.8681165874987196, 0.8725499938420052, 0.8804364981423806, 0.8766255195199772, 0.8615091779565465, 0.8694628279835863, 0.8651135658798772, 0.8659480417878587, 0.8818011812226608, 0.8789736861592287, 0.8836345005010855, 0.8640018189682243, 0.8753317838718576, 0.19519519519519518, 0.8518120912577141, 0.880366010284764, 0.871242867701057, 0.8375324213440376, 0.5083237618065205, 0.8984975728443894, 0.8793968457612337]}, {\"categories\": [\"0\", \"3\", \"5\", \"7\", \"10\", \"12\", \"15\", \"17\", \"20\", \"21\", \"22\", \"23\", \"24\", \"25\", \"26\", \"27\", \"28\", \"29\", \"30\", \"31\", \"32\"], \"mode\": \"lines\", \"name\": \"precision_score_macro_max\", \"stepped\": true, \"type\": \"scatter\", \"data\": [0.8681165874987196, 0.8725499938420052, 0.8804364981423806, 0.8804364981423806, 0.8804364981423806, 0.8804364981423806, 0.8804364981423806, 0.8804364981423806, 0.8818011812226608, 0.8818011812226608, 0.8836345005010855, 0.8836345005010855, 0.8836345005010855, 0.8836345005010855, 0.8836345005010855, 0.8836345005010855, 0.8836345005010855, 0.8836345005010855, 0.8836345005010855, 0.8984975728443894, 0.8984975728443894]}], \"matthews_correlation\": [{\"categories\": [\"0\", \"3\", \"5\", \"7\", \"10\", \"12\", \"15\", \"17\", \"20\", \"21\", \"22\", \"23\", \"24\", \"25\", \"26\", \"27\", \"28\", \"29\", \"30\", \"31\", \"32\"], \"mode\": \"markers\", \"name\": \"matthews_correlation\", \"stepped\": false, \"type\": \"scatter\", \"data\": [0.8153874638524397, 0.8015066202370154, 0.7745643624332582, 0.8239664605034202, 0.7980161325076087, 0.8030409312710708, 0.8087321349904381, 0.8050205487158315, 0.8343353713221632, 0.8293348860199871, 0.8340429456608233, 0.8031229382520966, 0.8166638281690908, 0.0, 0.753335707673446, 0.7696583888863586, 0.7617979457175561, 0.7570796152472632, 0.5445748172849856, 0.8523689777000293, 0.8245930142880855]}, {\"categories\": [\"0\", \"3\", \"5\", \"7\", \"10\", \"12\", \"15\", \"17\", \"20\", \"21\", \"22\", \"23\", \"24\", \"25\", \"26\", \"27\", \"28\", \"29\", \"30\", \"31\", \"32\"], \"mode\": \"lines\", \"name\": \"matthews_correlation_max\", \"stepped\": true, \"type\": \"scatter\", \"data\": [0.8153874638524397, 0.8153874638524397, 0.8153874638524397, 0.8239664605034202, 0.8239664605034202, 0.8239664605034202, 0.8239664605034202, 0.8239664605034202, 0.8343353713221632, 0.8343353713221632, 0.8343353713221632, 0.8343353713221632, 0.8343353713221632, 0.8343353713221632, 0.8343353713221632, 0.8343353713221632, 0.8343353713221632, 0.8343353713221632, 0.8343353713221632, 0.8523689777000293, 0.8523689777000293]}], \"f1_score_micro\": [{\"categories\": [\"0\", \"3\", \"5\", \"7\", \"10\", \"12\", \"15\", \"17\", \"20\", \"21\", \"22\", \"23\", \"24\", \"25\", \"26\", \"27\", \"28\", \"29\", \"30\", \"31\", \"32\"], \"mode\": \"markers\", \"name\": \"f1_score_micro\", \"stepped\": false, \"type\": \"scatter\", \"data\": [0.8957117117117118, 0.8876756756756757, 0.8742702702702705, 0.9010810810810812, 0.885009009009009, 0.8877117117117118, 0.8903783783783783, 0.8903783783783783, 0.9063783783783783, 0.9037117117117116, 0.9063783783783783, 0.8877117117117118, 0.8956756756756755, 0.5855855855855856, 0.861009009009009, 0.8716756756756757, 0.8663423423423422, 0.8610450450450451, 0.7244324324324325, 0.917081081081081, 0.901009009009009]}, {\"categories\": [\"0\", \"3\", \"5\", \"7\", \"10\", \"12\", \"15\", \"17\", \"20\", \"21\", \"22\", \"23\", \"24\", \"25\", \"26\", \"27\", \"28\", \"29\", \"30\", \"31\", \"32\"], \"mode\": \"lines\", \"name\": \"f1_score_micro_max\", \"stepped\": true, \"type\": \"scatter\", \"data\": [0.8957117117117118, 0.8957117117117118, 0.8957117117117118, 0.9010810810810812, 0.9010810810810812, 0.9010810810810812, 0.9010810810810812, 0.9010810810810812, 0.9063783783783783, 0.9063783783783783, 0.9063783783783783, 0.9063783783783783, 0.9063783783783783, 0.9063783783783783, 0.9063783783783783, 0.9063783783783783, 0.9063783783783783, 0.9063783783783783, 0.9063783783783783, 0.917081081081081, 0.917081081081081]}], \"norm_macro_recall\": [{\"categories\": [\"0\", \"3\", \"5\", \"7\", \"10\", \"12\", \"15\", \"17\", \"20\", \"21\", \"22\", \"23\", \"24\", \"25\", \"26\", \"27\", \"28\", \"29\", \"30\", \"31\", \"32\"], \"mode\": \"markers\", \"name\": \"norm_macro_recall\", \"stepped\": false, \"type\": \"scatter\", \"data\": [0.7815225698569688, 0.7700169346141212, 0.7235852620667198, 0.7927019293579396, 0.7771364001159398, 0.7834475967340416, 0.7880180426280169, 0.7686666920746204, 0.7973809520260925, 0.8032032910965136, 0.8036272707116694, 0.7808820009203641, 0.788122220206619, 0.0, 0.7365965052282186, 0.7353542692033741, 0.7199346887837936, 0.7337781896989057, 0.4407945315554011, 0.8277362173206162, 0.7915061324012729]}, {\"categories\": [\"0\", \"3\", \"5\", \"7\", \"10\", \"12\", \"15\", \"17\", \"20\", \"21\", \"22\", \"23\", \"24\", \"25\", \"26\", \"27\", \"28\", \"29\", \"30\", \"31\", \"32\"], \"mode\": \"lines\", \"name\": \"norm_macro_recall_max\", \"stepped\": true, \"type\": \"scatter\", \"data\": [0.7815225698569688, 0.7815225698569688, 0.7815225698569688, 0.7927019293579396, 0.7927019293579396, 0.7927019293579396, 0.7927019293579396, 0.7927019293579396, 0.7973809520260925, 0.8032032910965136, 0.8036272707116694, 0.8036272707116694, 0.8036272707116694, 0.8036272707116694, 0.8036272707116694, 0.8036272707116694, 0.8036272707116694, 0.8036272707116694, 0.8036272707116694, 0.8277362173206162, 0.8277362173206162]}], \"average_precision_score_micro\": [{\"categories\": [\"0\", \"3\", \"5\", \"7\", \"10\", \"12\", \"15\", \"17\", \"20\", \"21\", \"22\", \"23\", \"24\", \"25\", \"26\", \"27\", \"28\", \"29\", \"30\", \"31\", \"32\"], \"mode\": \"markers\", \"name\": \"average_precision_score_micro\", \"stepped\": false, \"type\": \"scatter\", \"data\": [0.8990231173791201, 0.90305775278673, 0.8987395541860772, 0.8843939123615723, 0.8908992755661957, 0.834398562186881, 0.899661847581686, 0.8876991190498892, 0.9520094933273023, 0.898898208924025, 0.8988910839359147, 0.8992764730042693, 0.8895301664026078, 0.4905209382355329, 0.8792409663623264, 0.8760387799655398, 0.8930806355813277, 0.843910847391195, 0.8164732688864607, 0.9246656678705276, 0.9267862144921304]}, {\"categories\": [\"0\", \"3\", \"5\", \"7\", \"10\", \"12\", \"15\", \"17\", \"20\", \"21\", \"22\", \"23\", \"24\", \"25\", \"26\", \"27\", \"28\", \"29\", \"30\", \"31\", \"32\"], \"mode\": \"lines\", \"name\": \"average_precision_score_micro_max\", \"stepped\": true, \"type\": \"scatter\", \"data\": [0.8990231173791201, 0.90305775278673, 0.90305775278673, 0.90305775278673, 0.90305775278673, 0.90305775278673, 0.90305775278673, 0.90305775278673, 0.9520094933273023, 0.9520094933273023, 0.9520094933273023, 0.9520094933273023, 0.9520094933273023, 0.9520094933273023, 0.9520094933273023, 0.9520094933273023, 0.9520094933273023, 0.9520094933273023, 0.9520094933273023, 0.9520094933273023, 0.9520094933273023]}], \"average_precision_score_weighted\": [{\"categories\": [\"0\", \"3\", \"5\", \"7\", \"10\", \"12\", \"15\", \"17\", \"20\", \"21\", \"22\", \"23\", \"24\", \"25\", \"26\", \"27\", \"28\", \"29\", \"30\", \"31\", \"32\"], \"mode\": \"markers\", \"name\": \"average_precision_score_weighted\", \"stepped\": false, \"type\": \"scatter\", \"data\": [0.9026851385779942, 0.8952476596624865, 0.8991874171273316, 0.877389334740559, 0.8897320149274606, 0.8369364442347162, 0.9066181308060944, 0.8929904352000122, 0.946258828298214, 0.9043392192097682, 0.9002513017266109, 0.8974462869067766, 0.8921218437766452, 0.431623537050564, 0.8871540825946458, 0.8727700324882004, 0.884088301481265, 0.8646554804289126, 0.7846717254626531, 0.9277373898152099, 0.9301187453493782]}, {\"categories\": [\"0\", \"3\", \"5\", \"7\", \"10\", \"12\", \"15\", \"17\", \"20\", \"21\", \"22\", \"23\", \"24\", \"25\", \"26\", \"27\", \"28\", \"29\", \"30\", \"31\", \"32\"], \"mode\": \"lines\", \"name\": \"average_precision_score_weighted_max\", \"stepped\": true, \"type\": \"scatter\", \"data\": [0.9026851385779942, 0.9026851385779942, 0.9026851385779942, 0.9026851385779942, 0.9026851385779942, 0.9026851385779942, 0.9066181308060944, 0.9066181308060944, 0.946258828298214, 0.946258828298214, 0.946258828298214, 0.946258828298214, 0.946258828298214, 0.946258828298214, 0.946258828298214, 0.946258828298214, 0.946258828298214, 0.946258828298214, 0.946258828298214, 0.946258828298214, 0.946258828298214]}], \"accuracy\": [{\"categories\": [\"0\", \"3\", \"5\", \"7\", \"10\", \"12\", \"15\", \"17\", \"20\", \"21\", \"22\", \"23\", \"24\", \"25\", \"26\", \"27\", \"28\", \"29\", \"30\", \"31\", \"32\"], \"mode\": \"markers\", \"name\": \"accuracy\", \"stepped\": false, \"type\": \"scatter\", \"data\": [0.8957117117117118, 0.8876756756756757, 0.8742702702702705, 0.9010810810810812, 0.885009009009009, 0.8877117117117118, 0.8903783783783783, 0.8903783783783783, 0.9063783783783783, 0.9037117117117116, 0.9063783783783783, 0.8877117117117118, 0.8956756756756755, 0.5855855855855856, 0.861009009009009, 0.8716756756756757, 0.8663423423423422, 0.8610450450450451, 0.7244324324324325, 0.917081081081081, 0.901009009009009]}, {\"categories\": [\"0\", \"3\", \"5\", \"7\", \"10\", \"12\", \"15\", \"17\", \"20\", \"21\", \"22\", \"23\", \"24\", \"25\", \"26\", \"27\", \"28\", \"29\", \"30\", \"31\", \"32\"], \"mode\": \"lines\", \"name\": \"accuracy_max\", \"stepped\": true, \"type\": \"scatter\", \"data\": [0.8957117117117118, 0.8957117117117118, 0.8957117117117118, 0.9010810810810812, 0.9010810810810812, 0.9010810810810812, 0.9010810810810812, 0.9010810810810812, 0.9063783783783783, 0.9063783783783783, 0.9063783783783783, 0.9063783783783783, 0.9063783783783783, 0.9063783783783783, 0.9063783783783783, 0.9063783783783783, 0.9063783783783783, 0.9063783783783783, 0.9063783783783783, 0.917081081081081, 0.917081081081081]}], \"precision_score_weighted\": [{\"categories\": [\"0\", \"3\", \"5\", \"7\", \"10\", \"12\", \"15\", \"17\", \"20\", \"21\", \"22\", \"23\", \"24\", \"25\", \"26\", \"27\", \"28\", \"29\", \"30\", \"31\", \"32\"], \"mode\": \"markers\", \"name\": \"precision_score_weighted\", \"stepped\": false, \"type\": \"scatter\", \"data\": [0.8976549502724716, 0.8912240786573337, 0.8810673081284845, 0.9018799399527605, 0.8899229400282032, 0.8917547347727799, 0.8980185928455505, 0.8913257854358998, 0.906595579611043, 0.9046541648612063, 0.9074869658957786, 0.8925400137939891, 0.8988665248150263, 0.34366854638422206, 0.8665287228226587, 0.8779566954870088, 0.8724877990541694, 0.8715346843530272, 0.6520716515378584, 0.9181215609529112, 0.9017910417792605]}, {\"categories\": [\"0\", \"3\", \"5\", \"7\", \"10\", \"12\", \"15\", \"17\", \"20\", \"21\", \"22\", \"23\", \"24\", \"25\", \"26\", \"27\", \"28\", \"29\", \"30\", \"31\", \"32\"], \"mode\": \"lines\", \"name\": \"precision_score_weighted_max\", \"stepped\": true, \"type\": \"scatter\", \"data\": [0.8976549502724716, 0.8976549502724716, 0.8976549502724716, 0.9018799399527605, 0.9018799399527605, 0.9018799399527605, 0.9018799399527605, 0.9018799399527605, 0.906595579611043, 0.906595579611043, 0.9074869658957786, 0.9074869658957786, 0.9074869658957786, 0.9074869658957786, 0.9074869658957786, 0.9074869658957786, 0.9074869658957786, 0.9074869658957786, 0.9074869658957786, 0.9181215609529112, 0.9181215609529112]}], \"recall_score_weighted\": [{\"categories\": [\"0\", \"3\", \"5\", \"7\", \"10\", \"12\", \"15\", \"17\", \"20\", \"21\", \"22\", \"23\", \"24\", \"25\", \"26\", \"27\", \"28\", \"29\", \"30\", \"31\", \"32\"], \"mode\": \"markers\", \"name\": \"recall_score_weighted\", \"stepped\": false, \"type\": \"scatter\", \"data\": [0.8957117117117118, 0.8876756756756757, 0.8742702702702705, 0.9010810810810812, 0.885009009009009, 0.8877117117117118, 0.8903783783783783, 0.8903783783783783, 0.9063783783783783, 0.9037117117117116, 0.9063783783783783, 0.8877117117117118, 0.8956756756756755, 0.5855855855855856, 0.861009009009009, 0.8716756756756757, 0.8663423423423422, 0.8610450450450451, 0.7244324324324325, 0.917081081081081, 0.901009009009009]}, {\"categories\": [\"0\", \"3\", \"5\", \"7\", \"10\", \"12\", \"15\", \"17\", \"20\", \"21\", \"22\", \"23\", \"24\", \"25\", \"26\", \"27\", \"28\", \"29\", \"30\", \"31\", \"32\"], \"mode\": \"lines\", \"name\": \"recall_score_weighted_max\", \"stepped\": true, \"type\": \"scatter\", \"data\": [0.8957117117117118, 0.8957117117117118, 0.8957117117117118, 0.9010810810810812, 0.9010810810810812, 0.9010810810810812, 0.9010810810810812, 0.9010810810810812, 0.9063783783783783, 0.9063783783783783, 0.9063783783783783, 0.9063783783783783, 0.9063783783783783, 0.9063783783783783, 0.9063783783783783, 0.9063783783783783, 0.9063783783783783, 0.9063783783783783, 0.9063783783783783, 0.917081081081081, 0.917081081081081]}], \"log_loss\": [{\"categories\": [\"0\", \"3\", \"5\", \"7\", \"10\", \"12\", \"15\", \"17\", \"20\", \"21\", \"22\", \"23\", \"24\", \"25\", \"26\", \"27\", \"28\", \"29\", \"30\", \"31\", \"32\"], \"mode\": \"markers\", \"name\": \"log_loss\", \"stepped\": false, \"type\": \"scatter\", \"data\": [0.5712530028930419, 1.0029616956919025, 0.5375307761521844, 0.3887046715030127, 0.3821422827920242, 1.217778313374806, 0.4379530928725474, 0.5622610229473253, 0.33261085565758786, 0.36436273138982, 0.38408270119597976, 0.3748925042332844, 0.371414304828111, 0.9688889907578762, 0.5877006085966496, 0.46039972216067204, 0.4268904962325008, 0.48398230672464804, 0.6798384289080115, 0.33464101256905804, 0.341520803547815]}, {\"categories\": [\"0\", \"3\", \"5\", \"7\", \"10\", \"12\", \"15\", \"17\", \"20\", \"21\", \"22\", \"23\", \"24\", \"25\", \"26\", \"27\", \"28\", \"29\", \"30\", \"31\", \"32\"], \"mode\": \"lines\", \"name\": \"log_loss_min\", \"stepped\": true, \"type\": \"scatter\", \"data\": [0.5712530028930419, 0.5712530028930419, 0.5375307761521844, 0.3887046715030127, 0.3821422827920242, 0.3821422827920242, 0.3821422827920242, 0.3821422827920242, 0.33261085565758786, 0.33261085565758786, 0.33261085565758786, 0.33261085565758786, 0.33261085565758786, 0.33261085565758786, 0.33261085565758786, 0.33261085565758786, 0.33261085565758786, 0.33261085565758786, 0.33261085565758786, 0.33261085565758786, 0.33261085565758786]}], \"f1_score_macro\": [{\"categories\": [\"0\", \"3\", \"5\", \"7\", \"10\", \"12\", \"15\", \"17\", \"20\", \"21\", \"22\", \"23\", \"24\", \"25\", \"26\", \"27\", \"28\", \"29\", \"30\", \"31\", \"32\"], \"mode\": \"markers\", \"name\": \"f1_score_macro\", \"stepped\": false, \"type\": \"scatter\", \"data\": [0.8568061430626269, 0.8541876202375673, 0.8330776058275944, 0.8662493126669938, 0.851319353152423, 0.8579688160242347, 0.8559294425592252, 0.8527808086705868, 0.8699303224289558, 0.8706556514339183, 0.8737186828105881, 0.8542089356988363, 0.8618576644064145, 0.24608275084061165, 0.8322795259892576, 0.8431139377664956, 0.8322874116827812, 0.8227476873433162, 0.5472155202079058, 0.8894957909134348, 0.8670428584876095]}, {\"categories\": [\"0\", \"3\", \"5\", \"7\", \"10\", \"12\", \"15\", \"17\", \"20\", \"21\", \"22\", \"23\", \"24\", \"25\", \"26\", \"27\", \"28\", \"29\", \"30\", \"31\", \"32\"], \"mode\": \"lines\", \"name\": \"f1_score_macro_max\", \"stepped\": true, \"type\": \"scatter\", \"data\": [0.8568061430626269, 0.8568061430626269, 0.8568061430626269, 0.8662493126669938, 0.8662493126669938, 0.8662493126669938, 0.8662493126669938, 0.8662493126669938, 0.8699303224289558, 0.8706556514339183, 0.8737186828105881, 0.8737186828105881, 0.8737186828105881, 0.8737186828105881, 0.8737186828105881, 0.8737186828105881, 0.8737186828105881, 0.8737186828105881, 0.8737186828105881, 0.8894957909134348, 0.8894957909134348]}], \"recall_score_micro\": [{\"categories\": [\"0\", \"3\", \"5\", \"7\", \"10\", \"12\", \"15\", \"17\", \"20\", \"21\", \"22\", \"23\", \"24\", \"25\", \"26\", \"27\", \"28\", \"29\", \"30\", \"31\", \"32\"], \"mode\": \"markers\", \"name\": \"recall_score_micro\", \"stepped\": false, \"type\": \"scatter\", \"data\": [0.8957117117117118, 0.8876756756756757, 0.8742702702702705, 0.9010810810810812, 0.885009009009009, 0.8877117117117118, 0.8903783783783783, 0.8903783783783783, 0.9063783783783783, 0.9037117117117116, 0.9063783783783783, 0.8877117117117118, 0.8956756756756755, 0.5855855855855856, 0.861009009009009, 0.8716756756756757, 0.8663423423423422, 0.8610450450450451, 0.7244324324324325, 0.917081081081081, 0.901009009009009]}, {\"categories\": [\"0\", \"3\", \"5\", \"7\", \"10\", \"12\", \"15\", \"17\", \"20\", \"21\", \"22\", \"23\", \"24\", \"25\", \"26\", \"27\", \"28\", \"29\", \"30\", \"31\", \"32\"], \"mode\": \"lines\", \"name\": \"recall_score_micro_max\", \"stepped\": true, \"type\": \"scatter\", \"data\": [0.8957117117117118, 0.8957117117117118, 0.8957117117117118, 0.9010810810810812, 0.9010810810810812, 0.9010810810810812, 0.9010810810810812, 0.9010810810810812, 0.9063783783783783, 0.9063783783783783, 0.9063783783783783, 0.9063783783783783, 0.9063783783783783, 0.9063783783783783, 0.9063783783783783, 0.9063783783783783, 0.9063783783783783, 0.9063783783783783, 0.9063783783783783, 0.917081081081081, 0.917081081081081]}], \"AUC_weighted\": [{\"categories\": [\"0\", \"3\", \"5\", \"7\", \"10\", \"12\", \"15\", \"17\", \"20\", \"21\", \"22\", \"23\", \"24\", \"25\", \"26\", \"27\", \"28\", \"29\", \"30\", \"31\", \"32\"], \"mode\": \"markers\", \"name\": \"AUC_weighted\", \"stepped\": false, \"type\": \"scatter\", \"data\": [0.9372004328311705, 0.9317527607335645, 0.933339612298363, 0.9202226320843442, 0.9249416172704834, 0.9023557500982781, 0.9327923323286538, 0.9294422108211142, 0.9606690782641074, 0.9334060212770833, 0.9374364106695067, 0.9264593318896432, 0.9265492820554524, 0.5, 0.9218758212714743, 0.9110783762746696, 0.9188652384238066, 0.9148319444598381, 0.8865386196900603, 0.9459377826321106, 0.9470587629571574]}, {\"categories\": [\"0\", \"3\", \"5\", \"7\", \"10\", \"12\", \"15\", \"17\", \"20\", \"21\", \"22\", \"23\", \"24\", \"25\", \"26\", \"27\", \"28\", \"29\", \"30\", \"31\", \"32\"], \"mode\": \"lines\", \"name\": \"AUC_weighted_max\", \"stepped\": true, \"type\": \"scatter\", \"data\": [0.9372004328311705, 0.9372004328311705, 0.9372004328311705, 0.9372004328311705, 0.9372004328311705, 0.9372004328311705, 0.9372004328311705, 0.9372004328311705, 0.9606690782641074, 0.9606690782641074, 0.9606690782641074, 0.9606690782641074, 0.9606690782641074, 0.9606690782641074, 0.9606690782641074, 0.9606690782641074, 0.9606690782641074, 0.9606690782641074, 0.9606690782641074, 0.9606690782641074, 0.9606690782641074]}], \"precision_score_micro\": [{\"categories\": [\"0\", \"3\", \"5\", \"7\", \"10\", \"12\", \"15\", \"17\", \"20\", \"21\", \"22\", \"23\", \"24\", \"25\", \"26\", \"27\", \"28\", \"29\", \"30\", \"31\", \"32\"], \"mode\": \"markers\", \"name\": \"precision_score_micro\", \"stepped\": false, \"type\": \"scatter\", \"data\": [0.8957117117117118, 0.8876756756756757, 0.8742702702702705, 0.9010810810810812, 0.885009009009009, 0.8877117117117118, 0.8903783783783783, 0.8903783783783783, 0.9063783783783783, 0.9037117117117116, 0.9063783783783783, 0.8877117117117118, 0.8956756756756755, 0.5855855855855856, 0.861009009009009, 0.8716756756756757, 0.8663423423423422, 0.8610450450450451, 0.7244324324324325, 0.917081081081081, 0.901009009009009]}, {\"categories\": [\"0\", \"3\", \"5\", \"7\", \"10\", \"12\", \"15\", \"17\", \"20\", \"21\", \"22\", \"23\", \"24\", \"25\", \"26\", \"27\", \"28\", \"29\", \"30\", \"31\", \"32\"], \"mode\": \"lines\", \"name\": \"precision_score_micro_max\", \"stepped\": true, \"type\": \"scatter\", \"data\": [0.8957117117117118, 0.8957117117117118, 0.8957117117117118, 0.9010810810810812, 0.9010810810810812, 0.9010810810810812, 0.9010810810810812, 0.9010810810810812, 0.9063783783783783, 0.9063783783783783, 0.9063783783783783, 0.9063783783783783, 0.9063783783783783, 0.9063783783783783, 0.9063783783783783, 0.9063783783783783, 0.9063783783783783, 0.9063783783783783, 0.9063783783783783, 0.917081081081081, 0.917081081081081]}]}, \"metricName\": null, \"primaryMetricName\": \"accuracy\", \"showLegend\": false}, \"run_metrics\": [{\"name\": \"experiment_status\", \"run_id\": \"AutoML_5e0da2bf-794e-4798-8cfa-aabcd0aaa516\", \"categories\": [0, 1, 2, 3, 4, 5, 6, 7, 8, 9, 10, 11, 12, 13], \"series\": [{\"data\": [\"DatasetEvaluation\", \"FeaturesGeneration\", \"DatasetFeaturization\", \"DatasetFeaturizationCompleted\", \"DatasetCrossValidationSplit\", \"ModelSelection\", \"BestRunExplainModel\", \"ModelExplanationDataSetSetup\", \"PickSurrogateModel\", \"EngineeredFeatureExplanations\", \"EngineeredFeatureExplanations\", \"RawFeaturesExplanations\", \"RawFeaturesExplanations\", \"BestRunExplainModel\"]}]}, {\"name\": \"experiment_status_description\", \"run_id\": \"AutoML_5e0da2bf-794e-4798-8cfa-aabcd0aaa516\", \"categories\": [0, 1, 2, 3, 4, 5, 6, 7, 8, 9, 10, 11, 12, 13], \"series\": [{\"data\": [\"Gathering dataset statistics.\", \"Generating features for the dataset.\", \"Beginning to fit featurizers and featurize the dataset.\", \"Completed fit featurizers and featurizing the dataset.\", \"Generating individually featurized CV splits.\", \"Beginning model selection.\", \"Best run model explanations started\", \"Model explanations data setup completed\", \"Choosing LightGBM as the surrogate model for explanations\", \"Computation of engineered features started\", \"Computation of engineered features completed\", \"Computation of raw features started\", \"Computation of raw features completed\", \"Best run model explanations completed\"]}]}, {\"name\": \"average_precision_score_macro\", \"run_id\": \"AutoML_5e0da2bf-794e-4798-8cfa-aabcd0aaa516\", \"categories\": [0], \"series\": [{\"data\": [0.9148172982300988]}]}, {\"name\": \"precision_score_weighted\", \"run_id\": \"AutoML_5e0da2bf-794e-4798-8cfa-aabcd0aaa516\", \"categories\": [0], \"series\": [{\"data\": [0.9181215609529112]}]}, {\"name\": \"f1_score_weighted\", \"run_id\": \"AutoML_5e0da2bf-794e-4798-8cfa-aabcd0aaa516\", \"categories\": [0], \"series\": [{\"data\": [0.9160831850258859]}]}, {\"name\": \"average_precision_score_micro\", \"run_id\": \"AutoML_5e0da2bf-794e-4798-8cfa-aabcd0aaa516\", \"categories\": [0], \"series\": [{\"data\": [0.9246656678705276]}]}, {\"name\": \"recall_score_macro\", \"run_id\": \"AutoML_5e0da2bf-794e-4798-8cfa-aabcd0aaa516\", \"categories\": [0], \"series\": [{\"data\": [0.8851574782137444]}]}, {\"name\": \"f1_score_micro\", \"run_id\": \"AutoML_5e0da2bf-794e-4798-8cfa-aabcd0aaa516\", \"categories\": [0], \"series\": [{\"data\": [0.917081081081081]}]}, {\"name\": \"balanced_accuracy\", \"run_id\": \"AutoML_5e0da2bf-794e-4798-8cfa-aabcd0aaa516\", \"categories\": [0], \"series\": [{\"data\": [0.8851574782137444]}]}, {\"name\": \"f1_score_macro\", \"run_id\": \"AutoML_5e0da2bf-794e-4798-8cfa-aabcd0aaa516\", \"categories\": [0], \"series\": [{\"data\": [0.8894957909134348]}]}, {\"name\": \"norm_macro_recall\", \"run_id\": \"AutoML_5e0da2bf-794e-4798-8cfa-aabcd0aaa516\", \"categories\": [0], \"series\": [{\"data\": [0.8277362173206162]}]}, {\"name\": \"log_loss\", \"run_id\": \"AutoML_5e0da2bf-794e-4798-8cfa-aabcd0aaa516\", \"categories\": [0], \"series\": [{\"data\": [0.33464101256905804]}]}, {\"name\": \"recall_score_weighted\", \"run_id\": \"AutoML_5e0da2bf-794e-4798-8cfa-aabcd0aaa516\", \"categories\": [0], \"series\": [{\"data\": [0.917081081081081]}]}, {\"name\": \"matthews_correlation\", \"run_id\": \"AutoML_5e0da2bf-794e-4798-8cfa-aabcd0aaa516\", \"categories\": [0], \"series\": [{\"data\": [0.8523689777000293]}]}, {\"name\": \"AUC_weighted\", \"run_id\": \"AutoML_5e0da2bf-794e-4798-8cfa-aabcd0aaa516\", \"categories\": [0], \"series\": [{\"data\": [0.9459377826321106]}]}, {\"name\": \"weighted_accuracy\", \"run_id\": \"AutoML_5e0da2bf-794e-4798-8cfa-aabcd0aaa516\", \"categories\": [0], \"series\": [{\"data\": [0.9407341334748915]}]}, {\"name\": \"accuracy\", \"run_id\": \"AutoML_5e0da2bf-794e-4798-8cfa-aabcd0aaa516\", \"categories\": [0], \"series\": [{\"data\": [0.917081081081081]}]}, {\"name\": \"precision_score_micro\", \"run_id\": \"AutoML_5e0da2bf-794e-4798-8cfa-aabcd0aaa516\", \"categories\": [0], \"series\": [{\"data\": [0.917081081081081]}]}, {\"name\": \"precision_score_macro\", \"run_id\": \"AutoML_5e0da2bf-794e-4798-8cfa-aabcd0aaa516\", \"categories\": [0], \"series\": [{\"data\": [0.8984975728443894]}]}, {\"name\": \"AUC_micro\", \"run_id\": \"AutoML_5e0da2bf-794e-4798-8cfa-aabcd0aaa516\", \"categories\": [0], \"series\": [{\"data\": [0.9591163249736223]}]}, {\"name\": \"average_precision_score_weighted\", \"run_id\": \"AutoML_5e0da2bf-794e-4798-8cfa-aabcd0aaa516\", \"categories\": [0], \"series\": [{\"data\": [0.9277373898152099]}]}, {\"name\": \"AUC_macro\", \"run_id\": \"AutoML_5e0da2bf-794e-4798-8cfa-aabcd0aaa516\", \"categories\": [0], \"series\": [{\"data\": [0.9425019092049631]}]}, {\"name\": \"recall_score_micro\", \"run_id\": \"AutoML_5e0da2bf-794e-4798-8cfa-aabcd0aaa516\", \"categories\": [0], \"series\": [{\"data\": [0.917081081081081]}]}], \"run_logs\": \"\\nRun is completed.\", \"graph\": {}, \"widget_settings\": {\"childWidgetDisplay\": \"popup\", \"send_telemetry\": false, \"log_level\": \"INFO\", \"sdk_version\": \"1.49.0\"}, \"loading\": false}"
     },
     "metadata": {},
     "output_type": "display_data"
    },
    {
     "data": {
      "text/plain": [
       "{'runId': 'AutoML_5e0da2bf-794e-4798-8cfa-aabcd0aaa516',\n",
       " 'target': 'sleep-health-compute',\n",
       " 'status': 'Completed',\n",
       " 'startTimeUtc': '2023-07-03T11:30:48.153027Z',\n",
       " 'endTimeUtc': '2023-07-03T12:02:02.603075Z',\n",
       " 'services': {},\n",
       " 'warnings': [{'source': 'JasmineService',\n",
       "   'message': 'No scores improved over last 10 iterations, so experiment stopped early. This early stopping behavior can be disabled by setting enable_early_stopping = False in AutoMLConfig for notebook/python SDK runs.'}],\n",
       " 'properties': {'num_iterations': '1000',\n",
       "  'training_type': 'TrainFull',\n",
       "  'acquisition_function': 'EI',\n",
       "  'primary_metric': 'accuracy',\n",
       "  'train_split': '0',\n",
       "  'acquisition_parameter': '0',\n",
       "  'num_cross_validation': '5',\n",
       "  'target': 'sleep-health-compute',\n",
       "  'AMLSettingsJsonString': '{\"path\":null,\"name\":\"sleep-health-project\",\"subscription_id\":\"cdbe0b43-92a0-4715-838a-f2648cc7ad21\",\"resource_group\":\"aml-quickstarts-238132\",\"workspace_name\":\"quick-starts-ws-238132\",\"region\":\"southcentralus\",\"compute_target\":\"sleep-health-compute\",\"spark_service\":null,\"azure_service\":\"remote\",\"many_models\":false,\"pipeline_fetch_max_batch_size\":1,\"enable_batch_run\":true,\"enable_parallel_run\":false,\"num_procs\":null,\"enable_run_restructure\":false,\"start_auxiliary_runs_before_parent_complete\":false,\"enable_code_generation\":true,\"iterations\":1000,\"primary_metric\":\"accuracy\",\"task_type\":\"classification\",\"positive_label\":null,\"data_script\":null,\"test_size\":0.0,\"test_include_predictions_only\":false,\"validation_size\":0.0,\"n_cross_validations\":5,\"y_min\":null,\"y_max\":null,\"num_classes\":null,\"featurization\":\"auto\",\"_ignore_package_version_incompatibilities\":false,\"is_timeseries\":false,\"max_cores_per_iteration\":1,\"max_concurrent_iterations\":1,\"iteration_timeout_minutes\":null,\"mem_in_mb\":null,\"enforce_time_on_windows\":false,\"experiment_timeout_minutes\":30,\"experiment_exit_score\":null,\"partition_column_names\":null,\"whitelist_models\":null,\"blacklist_algos\":[\"TensorFlowLinearClassifier\",\"TensorFlowDNN\"],\"supported_models\":[\"GradientBoosting\",\"AveragedPerceptronClassifier\",\"MultinomialNaiveBayes\",\"BernoulliNaiveBayes\",\"KNN\",\"LogisticRegression\",\"LinearSVM\",\"SVM\",\"DecisionTree\",\"TensorFlowDNN\",\"ExtremeRandomTrees\",\"LightGBM\",\"XGBoostClassifier\",\"TensorFlowLinearClassifier\",\"TabnetClassifier\",\"RandomForest\",\"SGD\"],\"private_models\":[],\"auto_blacklist\":true,\"blacklist_samples_reached\":false,\"exclude_nan_labels\":true,\"verbosity\":20,\"_debug_log\":\"azureml_automl.log\",\"show_warnings\":false,\"model_explainability\":true,\"service_url\":null,\"sdk_url\":null,\"sdk_packages\":null,\"enable_onnx_compatible_models\":false,\"enable_split_onnx_featurizer_estimator_models\":false,\"vm_type\":\"STANDARD_D2_V2\",\"telemetry_verbosity\":20,\"send_telemetry\":true,\"enable_dnn\":false,\"scenario\":\"AutoML\",\"environment_label\":null,\"save_mlflow\":false,\"enable_categorical_indicators\":false,\"force_text_dnn\":false,\"enable_feature_sweeping\":true,\"enable_early_stopping\":true,\"early_stopping_n_iters\":10,\"arguments\":null,\"dataset_id\":\"6ce3ae65-0d43-4bc8-954f-cf7a8298bd62\",\"hyperdrive_config\":null,\"validation_dataset_id\":null,\"run_source\":null,\"metrics\":null,\"enable_metric_confidence\":false,\"enable_ensembling\":true,\"enable_stack_ensembling\":true,\"ensemble_iterations\":15,\"enable_tf\":false,\"enable_subsampling\":null,\"subsample_seed\":null,\"enable_nimbusml\":false,\"enable_streaming\":false,\"force_streaming\":false,\"track_child_runs\":true,\"n_best_runs\":1,\"allowed_private_models\":[],\"label_column_name\":\"Sleep Disorder\",\"weight_column_name\":null,\"cv_split_column_names\":null,\"enable_local_managed\":false,\"_local_managed_run_id\":null,\"cost_mode\":1,\"lag_length\":0,\"metric_operation\":\"maximize\",\"preprocess\":true}',\n",
       "  'DataPrepJsonString': '{\\\\\"training_data\\\\\": {\\\\\"datasetId\\\\\": \\\\\"6ce3ae65-0d43-4bc8-954f-cf7a8298bd62\\\\\"}, \\\\\"datasets\\\\\": 0}',\n",
       "  'EnableSubsampling': None,\n",
       "  'runTemplate': 'AutoML',\n",
       "  'azureml.runsource': 'automl',\n",
       "  'display_task_type': 'classification',\n",
       "  'dependencies_versions': '{\"azureml-widgets\": \"1.49.0\", \"azureml-training-tabular\": \"1.49.0\", \"azureml-train\": \"1.49.0\", \"azureml-train-restclients-hyperdrive\": \"1.49.0\", \"azureml-train-core\": \"1.49.0\", \"azureml-train-automl\": \"1.49.0\", \"azureml-train-automl-runtime\": \"1.49.0\", \"azureml-train-automl-client\": \"1.49.0\", \"azureml-tensorboard\": \"1.49.0\", \"azureml-telemetry\": \"1.49.0\", \"azureml-sdk\": \"1.49.0\", \"azureml-responsibleai\": \"1.49.0\", \"azureml-pipeline\": \"1.49.0\", \"azureml-pipeline-steps\": \"1.49.0\", \"azureml-pipeline-core\": \"1.49.0\", \"azureml-opendatasets\": \"1.49.0\", \"azureml-mlflow\": \"1.49.0\", \"azureml-interpret\": \"1.49.0\", \"azureml-inference-server-http\": \"0.8.0\", \"azureml-explain-model\": \"1.49.0\", \"azureml-defaults\": \"1.49.0\", \"azureml-dataset-runtime\": \"1.49.0\", \"azureml-dataprep\": \"4.9.1\", \"azureml-dataprep-rslex\": \"2.16.1\", \"azureml-dataprep-native\": \"38.0.0\", \"azureml-datadrift\": \"1.49.0\", \"azureml-core\": \"1.49.0\", \"azureml-contrib-services\": \"1.49.0\", \"azureml-contrib-server\": \"1.49.0\", \"azureml-contrib-reinforcementlearning\": \"1.49.0\", \"azureml-contrib-pipeline-steps\": \"1.49.0\", \"azureml-contrib-notebook\": \"1.49.0\", \"azureml-contrib-fairness\": \"1.49.0\", \"azureml-contrib-dataset\": \"1.49.0\", \"azureml-contrib-automl-pipeline-steps\": \"1.49.0\", \"azureml-cli-common\": \"1.49.0\", \"azureml-automl-runtime\": \"1.49.0\", \"azureml-automl-dnn-nlp\": \"1.49.0\", \"azureml-automl-core\": \"1.49.0\", \"azureml-accel-models\": \"1.49.0\"}',\n",
       "  '_aml_system_scenario_identification': 'Remote.Parent',\n",
       "  'ClientType': 'SDK',\n",
       "  'PlatformVersion': 'DPV1',\n",
       "  'environment_cpu_name': 'AzureML-AutoML',\n",
       "  'environment_cpu_label': 'prod',\n",
       "  'environment_gpu_name': 'AzureML-AutoML-GPU',\n",
       "  'environment_gpu_label': 'prod',\n",
       "  'root_attribution': 'automl',\n",
       "  'attribution': 'AutoML',\n",
       "  'Orchestrator': 'AutoML',\n",
       "  'CancelUri': 'https://southcentralus.api.azureml.ms/jasmine/v1.0/subscriptions/cdbe0b43-92a0-4715-838a-f2648cc7ad21/resourceGroups/aml-quickstarts-238132/providers/Microsoft.MachineLearningServices/workspaces/quick-starts-ws-238132/experimentids/5d38040d-68f7-4f3f-8e88-554c25a2e728/cancel/AutoML_5e0da2bf-794e-4798-8cfa-aabcd0aaa516',\n",
       "  'ClientSdkVersion': None,\n",
       "  'snapshotId': '00000000-0000-0000-0000-000000000000',\n",
       "  'SetupRunId': 'AutoML_5e0da2bf-794e-4798-8cfa-aabcd0aaa516_setup',\n",
       "  'SetupRunContainerId': 'dcid.AutoML_5e0da2bf-794e-4798-8cfa-aabcd0aaa516_setup',\n",
       "  'FeaturizationRunJsonPath': 'featurizer_container.json',\n",
       "  'FeaturizationRunId': 'AutoML_5e0da2bf-794e-4798-8cfa-aabcd0aaa516_featurize',\n",
       "  'ProblemInfoJsonString': '{\"dataset_num_categorical\": 0, \"is_sparse\": true, \"subsampling\": false, \"has_extra_col\": true, \"dataset_classes\": 3, \"dataset_features\": 73, \"dataset_samples\": 374, \"single_frequency_class_detected\": false}',\n",
       "  'ModelExplainRunId': 'AutoML_5e0da2bf-794e-4798-8cfa-aabcd0aaa516_ModelExplain'},\n",
       " 'inputDatasets': [{'dataset': {'id': '6ce3ae65-0d43-4bc8-954f-cf7a8298bd62'}, 'consumptionDetails': {'type': 'RunInput', 'inputName': 'training_data', 'mechanism': 'Direct'}}],\n",
       " 'outputDatasets': [],\n",
       " 'logFiles': {},\n",
       " 'submittedBy': 'ODL_User 238132'}"
      ]
     },
     "execution_count": 19,
     "metadata": {},
     "output_type": "execute_result"
    }
   ],
   "source": [
    "RunDetails(remote_run).show()\n",
    "remote_run.wait_for_completion()"
   ]
  },
  {
   "cell_type": "markdown",
   "metadata": {},
   "source": [
    "## Best Model"
   ]
  },
  {
   "cell_type": "code",
   "execution_count": 20,
   "metadata": {
    "collapsed": true,
    "gather": {
     "logged": 1598431425670
    },
    "jupyter": {
     "outputs_hidden": false,
     "source_hidden": false
    },
    "nteract": {
     "transient": {
      "deleting": false
     }
    }
   },
   "outputs": [
    {
     "name": "stderr",
     "output_type": "stream",
     "text": [
      "WARNING:root:The version of the SDK does not match the version the model was trained on.\n",
      "WARNING:root:The consistency in the result may not be guaranteed.\n",
      "WARNING:root:Package:azureml-automl-core, training version:1.51.0.post1, current version:1.49.0\n",
      "Package:azureml-automl-runtime, training version:1.51.0.post2, current version:1.49.0\n",
      "Package:azureml-core, training version:1.51.0, current version:1.49.0\n",
      "Package:azureml-dataprep, training version:4.10.8, current version:4.9.1\n",
      "Package:azureml-dataprep-rslex, training version:2.17.12, current version:2.16.1\n",
      "Package:azureml-dataset-runtime, training version:1.51.0, current version:1.49.0\n",
      "Package:azureml-defaults, training version:1.51.0, current version:1.49.0\n",
      "Package:azureml-interpret, training version:1.51.0, current version:1.49.0\n",
      "Package:azureml-mlflow, training version:1.51.0, current version:1.49.0\n",
      "Package:azureml-pipeline-core, training version:1.51.0, current version:1.49.0\n",
      "Package:azureml-responsibleai, training version:1.51.0, current version:1.49.0\n",
      "Package:azureml-telemetry, training version:1.51.0, current version:1.49.0\n",
      "Package:azureml-train-automl-client, training version:1.51.0.post1, current version:1.49.0\n",
      "Package:azureml-train-automl-runtime, training version:1.51.0.post2, current version:1.49.0\n",
      "Package:azureml-train-core, training version:1.51.0, current version:1.49.0\n",
      "Package:azureml-train-restclients-hyperdrive, training version:1.51.0, current version:1.49.0\n",
      "Package:azureml-training-tabular, training version:1.51.0.post1, current version:1.49.0\n",
      "WARNING:root:Please ensure the version of your local conda dependencies match the version on which your model was trained in order to properly retrieve your model.\n"
     ]
    }
   ],
   "source": [
    "best_run, model = remote_run.get_output()"
   ]
  },
  {
   "cell_type": "code",
   "execution_count": 21,
   "metadata": {},
   "outputs": [
    {
     "data": {
      "text/html": [
       "<table style=\"width:100%\"><tr><th>Experiment</th><th>Id</th><th>Type</th><th>Status</th><th>Details Page</th><th>Docs Page</th></tr><tr><td>sleep-health-project</td><td>AutoML_5e0da2bf-794e-4798-8cfa-aabcd0aaa516_31</td><td>azureml.scriptrun</td><td>Completed</td><td><a href=\"https://ml.azure.com/runs/AutoML_5e0da2bf-794e-4798-8cfa-aabcd0aaa516_31?wsid=/subscriptions/cdbe0b43-92a0-4715-838a-f2648cc7ad21/resourcegroups/aml-quickstarts-238132/workspaces/quick-starts-ws-238132&amp;tid=660b3398-b80e-49d2-bc5b-ac1dc93b5254\" target=\"_blank\" rel=\"noopener\">Link to Azure Machine Learning studio</a></td><td><a href=\"https://docs.microsoft.com/en-us/python/api/azureml-core/azureml.core.run.Run?view=azure-ml-py\" target=\"_blank\" rel=\"noopener\">Link to Documentation</a></td></tr></table>"
      ],
      "text/plain": [
       "Run(Experiment: sleep-health-project,\n",
       "Id: AutoML_5e0da2bf-794e-4798-8cfa-aabcd0aaa516_31,\n",
       "Type: azureml.scriptrun,\n",
       "Status: Completed)"
      ]
     },
     "execution_count": 21,
     "metadata": {},
     "output_type": "execute_result"
    }
   ],
   "source": [
    "best_run"
   ]
  },
  {
   "cell_type": "code",
   "execution_count": 22,
   "metadata": {
    "gather": {
     "logged": 1598431426111
    },
    "jupyter": {
     "outputs_hidden": false,
     "source_hidden": false
    },
    "nteract": {
     "transient": {
      "deleting": false
     }
    }
   },
   "outputs": [
    {
     "data": {
      "text/plain": [
       "['best_model_automl.pkl']"
      ]
     },
     "execution_count": 22,
     "metadata": {},
     "output_type": "execute_result"
    }
   ],
   "source": [
    "model_path = \"best_model_automl.pkl\"\n",
    "joblib.dump(model, model_path)\n",
    "model = Model.register(model_path=\"path_to_model_file\",model_name=\"my_model\",workspace=workspace)"
   ]
  },
  {
   "cell_type": "markdown",
   "metadata": {},
   "source": [
    "## Model Deployment\n",
    "\n",
    "Remember you have to deploy only one of the two models you trained but you still need to register both the models. Perform the steps in the rest of this notebook only if you wish to deploy this model.\n",
    "\n",
    "TODO: In the cell below, register the model, create an inference config and deploy the model as a web service."
   ]
  },
  {
   "cell_type": "code",
   "execution_count": null,
   "metadata": {
    "gather": {
     "logged": 1598431435189
    },
    "jupyter": {
     "outputs_hidden": false,
     "source_hidden": false
    },
    "nteract": {
     "transient": {
      "deleting": false
     }
    }
   },
   "outputs": [],
   "source": []
  },
  {
   "cell_type": "markdown",
   "metadata": {
    "collapsed": true,
    "gather": {
     "logged": 1598431657736
    },
    "jupyter": {
     "outputs_hidden": false,
     "source_hidden": false
    },
    "nteract": {
     "transient": {
      "deleting": false
     }
    }
   },
   "source": [
    "TODO: In the cell below, send a request to the web service you deployed to test it."
   ]
  },
  {
   "cell_type": "code",
   "execution_count": null,
   "metadata": {
    "gather": {
     "logged": 1598432707604
    },
    "jupyter": {
     "outputs_hidden": false,
     "source_hidden": false
    },
    "nteract": {
     "transient": {
      "deleting": false
     }
    }
   },
   "outputs": [],
   "source": []
  },
  {
   "cell_type": "markdown",
   "metadata": {
    "collapsed": true,
    "gather": {
     "logged": 1598432765711
    },
    "jupyter": {
     "outputs_hidden": false,
     "source_hidden": false
    },
    "nteract": {
     "transient": {
      "deleting": false
     }
    }
   },
   "source": [
    "TODO: In the cell below, print the logs of the web service and delete the service"
   ]
  },
  {
   "cell_type": "code",
   "execution_count": null,
   "metadata": {
    "jupyter": {
     "outputs_hidden": false,
     "source_hidden": false
    },
    "nteract": {
     "transient": {
      "deleting": false
     }
    }
   },
   "outputs": [],
   "source": []
  },
  {
   "cell_type": "markdown",
   "metadata": {},
   "source": [
    "**Submission Checklist**\n",
    "- I have registered the model.\n",
    "- I have deployed the model with the best accuracy as a webservice.\n",
    "- I have tested the webservice by sending a request to the model endpoint.\n",
    "- I have deleted the webservice and shutdown all the computes that I have used.\n",
    "- I have taken a screenshot showing the model endpoint as active.\n",
    "- The project includes a file containing the environment details.\n"
   ]
  },
  {
   "cell_type": "markdown",
   "metadata": {},
   "source": []
  }
 ],
 "metadata": {
  "kernel_info": {
   "name": "python38-azureml"
  },
  "kernelspec": {
   "display_name": "Python 3.8 - AzureML",
   "language": "python",
   "name": "python38-azureml"
  },
  "language_info": {
   "codemirror_mode": {
    "name": "ipython",
    "version": 3
   },
   "file_extension": ".py",
   "mimetype": "text/x-python",
   "name": "python",
   "nbconvert_exporter": "python",
   "pygments_lexer": "ipython3",
   "version": "3.8.5"
  },
  "microsoft": {
   "host": {
    "AzureML": {
     "notebookHasBeenCompleted": true
    }
   },
   "ms_spell_check": {
    "ms_spell_check_language": "en"
   }
  },
  "nteract": {
   "version": "nteract-front-end@1.0.0"
  }
 },
 "nbformat": 4,
 "nbformat_minor": 2
}
